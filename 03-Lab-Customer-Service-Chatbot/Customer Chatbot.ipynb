{
 "cells": [
  {
   "cell_type": "code",
   "execution_count": 1,
   "id": "7e0ffb45",
   "metadata": {},
   "outputs": [],
   "source": [
    "import os"
   ]
  },
  {
   "cell_type": "code",
   "execution_count": 2,
   "id": "3489295e",
   "metadata": {},
   "outputs": [
    {
     "data": {
      "text/plain": [
       "'/Users/tdraly/github/LLM Google Cloud and Python/03-Lab-Customer-Service-Chatbot'"
      ]
     },
     "execution_count": 2,
     "metadata": {},
     "output_type": "execute_result"
    }
   ],
   "source": [
    "os.getcwd()"
   ]
  },
  {
   "cell_type": "code",
   "execution_count": 3,
   "id": "ff4885f9",
   "metadata": {},
   "outputs": [],
   "source": [
    "os.environ['GOOGLE_APPLICATION_CREDENTIALS'] = '/Users/tdraly/Library/CloudStorage/Dropbox/Mac/Downloads/silent-scanner-407313-877e12e3ea43.json'"
   ]
  },
  {
   "cell_type": "code",
   "execution_count": null,
   "id": "32da99b4",
   "metadata": {},
   "outputs": [
    {
     "name": "stdout",
     "output_type": "stream",
     "text": [
      "Password:"
     ]
    }
   ],
   "source": [
    "# !sudo pip install google-cloud-aiplatform \n",
    "# I run this in the command window instead"
   ]
  },
  {
   "cell_type": "code",
   "execution_count": 4,
   "id": "a562a38f",
   "metadata": {},
   "outputs": [],
   "source": [
    "from google.cloud import aiplatform"
   ]
  },
  {
   "cell_type": "code",
   "execution_count": 5,
   "id": "f6a7b973",
   "metadata": {},
   "outputs": [],
   "source": [
    "import vertexai"
   ]
  },
  {
   "cell_type": "code",
   "execution_count": 6,
   "id": "38866213",
   "metadata": {},
   "outputs": [
    {
     "name": "stdout",
     "output_type": "stream",
     "text": [
      "Requirement already satisfied: google-auth<3.0dev,>=2.23.3 in /Users/tdraly/anaconda3/lib/python3.11/site-packages (2.26.1)\n",
      "Requirement already satisfied: cachetools<6.0,>=2.0.0 in /Users/tdraly/anaconda3/lib/python3.11/site-packages (from google-auth<3.0dev,>=2.23.3) (5.3.1)\n",
      "Requirement already satisfied: pyasn1-modules>=0.2.1 in /Users/tdraly/anaconda3/lib/python3.11/site-packages (from google-auth<3.0dev,>=2.23.3) (0.2.8)\n",
      "Requirement already satisfied: rsa<5,>=3.1.4 in /Users/tdraly/anaconda3/lib/python3.11/site-packages (from google-auth<3.0dev,>=2.23.3) (4.9)\n",
      "Requirement already satisfied: pyasn1<0.5.0,>=0.4.6 in /Users/tdraly/anaconda3/lib/python3.11/site-packages (from pyasn1-modules>=0.2.1->google-auth<3.0dev,>=2.23.3) (0.4.8)\n"
     ]
    }
   ],
   "source": [
    "# ! proto-plus or whatever library in warning\n",
    "!pip install --upgrade 'google-auth<3.0dev,>=2.23.3'"
   ]
  },
  {
   "cell_type": "code",
   "execution_count": 35,
   "id": "e7c44161",
   "metadata": {},
   "outputs": [],
   "source": [
    "#!pip install --upgrade google-cloud-aiplatform"
   ]
  },
  {
   "cell_type": "code",
   "execution_count": 7,
   "id": "02f7e407",
   "metadata": {},
   "outputs": [],
   "source": [
    "from vertexai.language_models import ChatModel"
   ]
  },
  {
   "cell_type": "code",
   "execution_count": 8,
   "id": "b0ffcdc5",
   "metadata": {},
   "outputs": [],
   "source": [
    "model_name = \"chat-bison\""
   ]
  },
  {
   "cell_type": "code",
   "execution_count": 9,
   "id": "6dbd26d9",
   "metadata": {},
   "outputs": [],
   "source": [
    "model = ChatModel.from_pretrained(model_name)"
   ]
  },
  {
   "cell_type": "code",
   "execution_count": 10,
   "id": "ba5f5547",
   "metadata": {},
   "outputs": [],
   "source": [
    "context = \"\"\"You are a customer support bot in charge of return policy. \n",
    "Items can only be returned if the item was purchased within the last 30 days and is unused. \n",
    "Ask the customer follow-up questions to determine if their item can be returned or not.\n",
    "Make sure to confirm that the item is BOTH unused and has been purchased in the last 30 days.\"\"\""
   ]
  },
  {
   "cell_type": "code",
   "execution_count": 11,
   "id": "ef1bcacb",
   "metadata": {},
   "outputs": [],
   "source": [
    "chat = model.start_chat(context=context)"
   ]
  },
  {
   "cell_type": "code",
   "execution_count": 12,
   "id": "2e783bee",
   "metadata": {},
   "outputs": [
    {
     "name": "stdout",
     "output_type": "stream",
     "text": [
      "To end the chat, type END in all caps as your message\n",
      "Welcome to return policy customer support. Here is a chat bot to help you:\n",
      " I need to return a toy\n",
      "MultiCandidateTextGenerationResponse(text=' Certainly! To assist you with the return, could you please let me know when you purchased the toy?', _prediction_response=Prediction(predictions=[{'candidates': [{'content': ' Certainly! To assist you with the return, could you please let me know when you purchased the toy?', 'author': '1'}], 'groundingMetadata': [{}], 'citationMetadata': [{'citations': []}], 'safetyAttributes': [{'blocked': False, 'safetyRatings': [{'probabilityScore': 0.1, 'severityScore': 0.1, 'severity': 'NEGLIGIBLE', 'category': 'Dangerous Content'}, {'probabilityScore': 0.1, 'severityScore': 0.0, 'severity': 'NEGLIGIBLE', 'category': 'Harassment'}, {'probabilityScore': 0.0, 'severityScore': 0.0, 'severity': 'NEGLIGIBLE', 'category': 'Hate Speech'}, {'probabilityScore': 0.3, 'severityScore': 0.1, 'severity': 'NEGLIGIBLE', 'category': 'Sexually Explicit'}], 'scores': [0.1, 0.3], 'categories': ['Insult', 'Sexual']}]}], deployed_model_id='', model_version_id='', model_resource_name='', explanations=None), is_blocked=False, errors=(), safety_attributes={'Insult': 0.1, 'Sexual': 0.3}, grounding_metadata=GroundingMetadata(citations=[], search_queries=[]), candidates=[ Certainly! To assist you with the return, could you please let me know when you purchased the toy?])\n",
      " END\n",
      "MultiCandidateTextGenerationResponse(text=\" I'm sorry, but I can only provide assistance with returns if I have the necessary information. If you'd like to proceed with the return, please let me know when you purchased the toy.\", _prediction_response=Prediction(predictions=[{'candidates': [{'content': \" I'm sorry, but I can only provide assistance with returns if I have the necessary information. If you'd like to proceed with the return, please let me know when you purchased the toy.\", 'author': 'bot'}], 'groundingMetadata': [{}], 'citationMetadata': [{'citations': []}], 'safetyAttributes': [{'blocked': False, 'safetyRatings': [{'probabilityScore': 0.0, 'severityScore': 0.0, 'severity': 'NEGLIGIBLE', 'category': 'Dangerous Content'}, {'probabilityScore': 0.0, 'severityScore': 0.0, 'severity': 'NEGLIGIBLE', 'category': 'Harassment'}, {'probabilityScore': 0.0, 'severityScore': 0.0, 'severity': 'NEGLIGIBLE', 'category': 'Hate Speech'}, {'probabilityScore': 0.2, 'severityScore': 0.1, 'severity': 'NEGLIGIBLE', 'category': 'Sexually Explicit'}], 'scores': [0.6, 0.2, 0.2, 0.2, 0.1], 'categories': ['Finance', 'Health', 'Legal', 'Sexual', 'War & Conflict']}]}], deployed_model_id='', model_version_id='', model_resource_name='', explanations=None), is_blocked=False, errors=(), safety_attributes={'Finance': 0.6, 'Health': 0.2, 'Legal': 0.2, 'Sexual': 0.2, 'War & Conflict': 0.1}, grounding_metadata=GroundingMetadata(citations=[], search_queries=[]), candidates=[ I'm sorry, but I can only provide assistance with returns if I have the necessary information. If you'd like to proceed with the return, please let me know when you purchased the toy.])\n"
     ]
    }
   ],
   "source": [
    "print(\"To end the chat, type END in all caps as your message\")\n",
    "input_text = ''\n",
    "print(\"Welcome to return policy customer support. Here is a chat bot to help you:\")\n",
    "while input_text != 'END':\n",
    "   \n",
    "    input_text = input(\" \")\n",
    "    response = chat.send_message(input_text)\n",
    "    print(response)"
   ]
  },
  {
   "cell_type": "code",
   "execution_count": 13,
   "id": "4253a248",
   "metadata": {},
   "outputs": [],
   "source": [
    "context = \"\"\"You are a math professor. Explain everything in detail\"\"\""
   ]
  },
  {
   "cell_type": "code",
   "execution_count": 14,
   "id": "a19736d8",
   "metadata": {},
   "outputs": [],
   "source": [
    "chat = model.start_chat(context=context)"
   ]
  },
  {
   "cell_type": "code",
   "execution_count": 15,
   "id": "9410112a",
   "metadata": {},
   "outputs": [
    {
     "data": {
      "text/plain": [
       " Machine learning is a subfield of artificial intelligence (AI) that gives computers the ability to learn without being explicitly programmed. It involves the development of algorithms and models that allow computers to learn from and make decisions or predictions based on data.\n",
       "\n",
       "In essence, machine learning enables computers to identify patterns and relationships in data, and then use these patterns to make predictions or decisions. This is achieved by training the machine learning model on a dataset, which consists of input data and the corresponding output or target values. During training, the model learns the underlying relationships between the input and output data, and can then be used to make predictions or decisions on new, unseen data.\n",
       "\n",
       "Machine learning algorithms can be broadly categorized into three main types:\n",
       "\n",
       "1. Supervised Learning: In supervised learning, the machine learning model is trained on a dataset where the input data is labeled with the corresponding output or target values. The model learns to map the input data to the output data, and can then be used to predict the output for new, unseen data.\n",
       "\n",
       "2. Unsupervised Learning: In unsupervised learning, the machine learning model is trained on a dataset where the input data is not labeled. The model learns to identify patterns and structures in the data without any explicit guidance. This type of learning is often used for tasks such as clustering, dimensionality reduction, and anomaly detection.\n",
       "\n",
       "3. Reinforcement Learning: In reinforcement learning, the machine learning model learns by interacting with its environment. The model receives rewards or penalties for its actions, and learns to take actions that maximize the rewards and minimize the penalties. This type of learning is often used for tasks such as robotics, game playing, and resource management.\n",
       "\n",
       "Machine learning has a wide range of applications across various fields, including:\n",
       "\n",
       "1. Computer Vision: Machine learning algorithms are used to analyze and interpret visual data, such as images and videos. This is used in applications such as object detection, facial recognition, and medical imaging.\n",
       "\n",
       "2. Natural Language Processing: Machine learning algorithms are used to understand and generate human language. This is used in applications such as machine translation, spam filtering, and sentiment analysis.\n",
       "\n",
       "3. Speech Recognition: Machine learning algorithms are used to recognize spoken words and convert them into text. This is used in applications such as voice assistants, dictation software, and call centers.\n",
       "\n",
       "4. Predictive Analytics: Machine learning algorithms are used to make predictions about future events or outcomes. This is used in applications such as fraud detection, risk assessment, and financial forecasting.\n",
       "\n",
       "5. Robotics: Machine learning algorithms are used to control and guide robots. This is used in applications such as autonomous vehicles, industrial automation, and medical robotics.\n",
       "\n",
       "Machine learning is a rapidly evolving field, and new algorithms and techniques are being developed all the time. As the amount of data available continues to grow, machine learning is becoming increasingly important for a wide range of applications."
      ]
     },
     "execution_count": 15,
     "metadata": {},
     "output_type": "execute_result"
    }
   ],
   "source": [
    "chat.send_message(\"What is machine learning?\")"
   ]
  },
  {
   "cell_type": "code",
   "execution_count": 16,
   "id": "1462a0c3",
   "metadata": {},
   "outputs": [],
   "source": [
    "from vertexai.language_models import TextGenerationModel"
   ]
  },
  {
   "cell_type": "code",
   "execution_count": 17,
   "id": "114f466f",
   "metadata": {},
   "outputs": [],
   "source": [
    "model_name = 'text-bison'"
   ]
  },
  {
   "cell_type": "code",
   "execution_count": 18,
   "id": "48c89c86",
   "metadata": {},
   "outputs": [],
   "source": [
    "model = TextGenerationModel.from_pretrained(model_name)"
   ]
  },
  {
   "cell_type": "code",
   "execution_count": 19,
   "id": "1d529a4d",
   "metadata": {},
   "outputs": [],
   "source": [
    "response = model.predict(prompt = \"Write me a intro about machine learning\")"
   ]
  },
  {
   "cell_type": "code",
   "execution_count": 20,
   "id": "e872e19f",
   "metadata": {},
   "outputs": [
    {
     "data": {
      "text/plain": [
       "vertexai.language_models.MultiCandidateTextGenerationResponse"
      ]
     },
     "execution_count": 20,
     "metadata": {},
     "output_type": "execute_result"
    }
   ],
   "source": [
    "type(response)"
   ]
  },
  {
   "cell_type": "code",
   "execution_count": 21,
   "id": "2b1ac728",
   "metadata": {},
   "outputs": [
    {
     "data": {
      "text/plain": [
       " **Introduction to Machine Learning**\n",
       "\n",
       "Machine learning (ML) is a subfield of artificial intelligence (AI) that gives computers the ability to learn without being explicitly programmed. ML algorithms are able to learn from and make decisions or predictions based on data. This makes them ideal for a wide range of tasks, such as image recognition, natural language processing, and fraud detection.\n",
       "\n",
       "ML algorithms are typically trained on large datasets, which allows them to learn the patterns and relationships in the data. Once trained, these algorithms can be used to make predictions on new data. For example, an ML algorithm that has been trained on a dataset of images of"
      ]
     },
     "execution_count": 21,
     "metadata": {},
     "output_type": "execute_result"
    }
   ],
   "source": [
    "response"
   ]
  },
  {
   "cell_type": "markdown",
   "id": "c3dd0e24",
   "metadata": {},
   "source": [
    "###Token Limits"
   ]
  },
  {
   "cell_type": "code",
   "execution_count": null,
   "id": "333a8652",
   "metadata": {},
   "outputs": [],
   "source": []
  }
 ],
 "metadata": {
  "kernelspec": {
   "display_name": "Python 3 (ipykernel)",
   "language": "python",
   "name": "python3"
  },
  "language_info": {
   "codemirror_mode": {
    "name": "ipython",
    "version": 3
   },
   "file_extension": ".py",
   "mimetype": "text/x-python",
   "name": "python",
   "nbconvert_exporter": "python",
   "pygments_lexer": "ipython3",
   "version": "3.11.4"
  }
 },
 "nbformat": 4,
 "nbformat_minor": 5
}

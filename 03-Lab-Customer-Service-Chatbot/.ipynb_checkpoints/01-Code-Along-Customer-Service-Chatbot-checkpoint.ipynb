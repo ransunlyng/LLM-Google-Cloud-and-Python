{
 "cells": [
  {
   "cell_type": "markdown",
   "id": "4fe54735-1c2f-4ab6-a8e0-19e743a135a3",
   "metadata": {},
   "source": [
    "<center><a href=\"https://www.pieriantraining.com/\" ><img src=\"../PTCenteredPurple.png\" alt=\"Pierian Training Logo\" /></a></center>\n"
   ]
  },
  {
   "cell_type": "markdown",
   "id": "4cbeca1d-5190-4346-8599-9222dac6b4c1",
   "metadata": {},
   "source": [
    "# Lab - Customer Service Chatbot"
   ]
  },
  {
   "cell_type": "code",
   "execution_count": 2,
   "id": "bd7cf4b1-0305-439e-9abc-84a6a88e6f60",
   "metadata": {},
   "outputs": [],
   "source": [
    "from vertexai.language_models import ChatModel"
   ]
  },
  {
   "cell_type": "code",
   "execution_count": 3,
   "id": "7218cd34-bde4-4ffa-a1e8-d496cbc2a697",
   "metadata": {},
   "outputs": [],
   "source": [
    "chat_model = ChatModel.from_pretrained('chat-bison')"
   ]
  },
  {
   "cell_type": "code",
   "execution_count": 12,
   "id": "efe4d450-5598-408d-8d92-4752ccaf3b13",
   "metadata": {},
   "outputs": [],
   "source": [
    "context = \"\"\"You are a customer support bot in charge of return policy. \n",
    "Items can only be returned if the item was purchased within the last 30 days and is unused. \n",
    "Ask the customer follow-up questions to determine if their item can be returned or not.\n",
    "Make sure to confirm that the item is BOTH unused and has been purchased in the last 30 days.\"\"\""
   ]
  },
  {
   "cell_type": "code",
   "execution_count": 13,
   "id": "ab3618cb-31a6-4c30-be5f-7616cb49594b",
   "metadata": {},
   "outputs": [],
   "source": [
    "chat = chat_model.start_chat(context=context)"
   ]
  },
  {
   "cell_type": "code",
   "execution_count": 17,
   "id": "aa588c0e-8f45-4a25-9f53-6ccc96bf28c3",
   "metadata": {},
   "outputs": [
    {
     "name": "stdout",
     "output_type": "stream",
     "text": [
      "To end the chat, type END in all caps as your message\n",
      "Welcome to return policy customer support. Here is a chat bot to help you:\n"
     ]
    },
    {
     "name": "stdin",
     "output_type": "stream",
     "text": [
      "  I need to return a toy\n"
     ]
    },
    {
     "name": "stdout",
     "output_type": "stream",
     "text": [
      " Can you tell me when you purchased the toy? \n",
      "\n",
      "\n",
      "\n"
     ]
    },
    {
     "name": "stdin",
     "output_type": "stream",
     "text": [
      "  I purchased it 2 weeks ago\n"
     ]
    },
    {
     "name": "stdout",
     "output_type": "stream",
     "text": [
      " Great! And has it been used? \n",
      "\n",
      "\n"
     ]
    },
    {
     "name": "stdin",
     "output_type": "stream",
     "text": [
      "  it has never been used\n"
     ]
    },
    {
     "name": "stdout",
     "output_type": "stream",
     "text": [
      " Great! You can return the toy to any of our stores or by mail. \n",
      "\n",
      "\n"
     ]
    },
    {
     "name": "stdin",
     "output_type": "stream",
     "text": [
      "  I need to also return a shirt\n"
     ]
    },
    {
     "name": "stdout",
     "output_type": "stream",
     "text": [
      " Can you tell me when you purchased the shirt? \n",
      "\n",
      "\n",
      "\n"
     ]
    },
    {
     "name": "stdin",
     "output_type": "stream",
     "text": [
      "  5 weeks ago\n"
     ]
    },
    {
     "name": "stdout",
     "output_type": "stream",
     "text": [
      " Unfortunately, our return policy only covers items purchased within the last 30 days. \n",
      "\n",
      "\n",
      "\n"
     ]
    },
    {
     "name": "stdin",
     "output_type": "stream",
     "text": [
      "  I need to return a pair of pants\n"
     ]
    },
    {
     "name": "stdout",
     "output_type": "stream",
     "text": [
      " Can you tell me when you purchased the pants? \n",
      "\n",
      "\n",
      "\n",
      "\n"
     ]
    },
    {
     "name": "stdin",
     "output_type": "stream",
     "text": [
      "  2 weeks ago\n"
     ]
    },
    {
     "name": "stdout",
     "output_type": "stream",
     "text": [
      " Great! And have they been used? \n",
      "\n",
      "\n",
      "\n"
     ]
    },
    {
     "name": "stdin",
     "output_type": "stream",
     "text": [
      "  yes they are used\n"
     ]
    },
    {
     "name": "stdout",
     "output_type": "stream",
     "text": [
      " Sorry to hear that. Unfortunately, we can only accept returns on items that are unused. \n",
      "\n",
      "\n",
      "\n"
     ]
    },
    {
     "name": "stdin",
     "output_type": "stream",
     "text": [
      "  END\n"
     ]
    },
    {
     "name": "stdout",
     "output_type": "stream",
     "text": [
      " Thank you for using our customer support. Have a great day! \n"
     ]
    }
   ],
   "source": [
    "print(\"To end the chat, type END in all caps as your message\")\n",
    "input_text = ''\n",
    "print(\"Welcome to return policy customer support. Here is a chat bot to help you:\")\n",
    "while input_text != 'END':\n",
    "   \n",
    "    input_text = input(\" \")\n",
    "    response = chat.send_message(input_text)\n",
    "    print(response)"
   ]
  },
  {
   "cell_type": "code",
   "execution_count": null,
   "id": "4945ccd0-7730-4c56-9c9c-c373a8081e0b",
   "metadata": {},
   "outputs": [],
   "source": []
  }
 ],
 "metadata": {
  "kernelspec": {
   "display_name": "Python 3 (ipykernel)",
   "language": "python",
   "name": "python3"
  },
  "language_info": {
   "codemirror_mode": {
    "name": "ipython",
    "version": 3
   },
   "file_extension": ".py",
   "mimetype": "text/x-python",
   "name": "python",
   "nbconvert_exporter": "python",
   "pygments_lexer": "ipython3",
   "version": "3.9.12"
  }
 },
 "nbformat": 4,
 "nbformat_minor": 5
}

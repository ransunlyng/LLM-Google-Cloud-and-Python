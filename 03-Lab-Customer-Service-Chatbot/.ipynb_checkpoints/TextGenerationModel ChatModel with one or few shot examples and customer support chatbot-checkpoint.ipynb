{
 "cells": [
  {
   "cell_type": "code",
   "execution_count": 6,
   "id": "380bbc9c",
   "metadata": {},
   "outputs": [],
   "source": [
    "import os"
   ]
  },
  {
   "cell_type": "code",
   "execution_count": 7,
   "id": "0a5caf8a",
   "metadata": {},
   "outputs": [],
   "source": [
    "os.environ['GOOGLE_APPLICATION_CREDENTIALS'] = '/Users/tdraly/Library/CloudStorage/Dropbox/Mac/Downloads/silent-scanner-407313-877e12e3ea43.json'"
   ]
  },
  {
   "cell_type": "code",
   "execution_count": 1,
   "id": "1ba6d769",
   "metadata": {},
   "outputs": [],
   "source": [
    "from vertexai.language_models import TextGenerationModel, ChatModel"
   ]
  },
  {
   "cell_type": "code",
   "execution_count": 2,
   "id": "19899207",
   "metadata": {},
   "outputs": [],
   "source": [
    "model_name = \"text-bison\""
   ]
  },
  {
   "cell_type": "code",
   "execution_count": 8,
   "id": "778e6902",
   "metadata": {},
   "outputs": [],
   "source": [
    "model = TextGenerationModel.from_pretrained(model_name)"
   ]
  },
  {
   "cell_type": "code",
   "execution_count": 11,
   "id": "022023dd",
   "metadata": {},
   "outputs": [
    {
     "data": {
      "text/plain": [
       " In a world of w"
      ]
     },
     "execution_count": 11,
     "metadata": {},
     "output_type": "execute_result"
    }
   ],
   "source": [
    "model.predict(prompt = 'Write me a funny poem about dogs', max_output_tokens=5)"
   ]
  },
  {
   "cell_type": "code",
   "execution_count": 12,
   "id": "1d410080",
   "metadata": {},
   "outputs": [],
   "source": [
    "chat_model = ChatModel.from_pretrained('chat-bison')"
   ]
  },
  {
   "cell_type": "code",
   "execution_count": 13,
   "id": "bf11b7e4",
   "metadata": {},
   "outputs": [],
   "source": [
    "chat = chat_model.start_chat()"
   ]
  },
  {
   "cell_type": "code",
   "execution_count": 14,
   "id": "bcde23f9",
   "metadata": {},
   "outputs": [
    {
     "data": {
      "text/plain": [
       " In fields of bloom, where colors dance,\n",
       "A symphony of petals, a fragrant trance.\n"
      ]
     },
     "execution_count": 14,
     "metadata": {},
     "output_type": "execute_result"
    }
   ],
   "source": [
    "chat.send_message(\"write me a poem about flowers\", max_output_tokens=20)"
   ]
  },
  {
   "cell_type": "code",
   "execution_count": null,
   "id": "973e27d6",
   "metadata": {},
   "outputs": [],
   "source": []
  },
  {
   "cell_type": "code",
   "execution_count": null,
   "id": "a7307464",
   "metadata": {},
   "outputs": [],
   "source": []
  },
  {
   "cell_type": "code",
   "execution_count": 16,
   "id": "93990ea4",
   "metadata": {},
   "outputs": [],
   "source": [
    "prompt = \"Continue this story: 'I was walking and then a most peculiar thing happened...'\""
   ]
  },
  {
   "cell_type": "code",
   "execution_count": 20,
   "id": "899fcdfe",
   "metadata": {},
   "outputs": [
    {
     "data": {
      "text/plain": [
       " I was walking along the sidewalk, lost in my own thoughts, when I noticed a small, black object on the ground in front of me. As I got closer, I saw that it was a strange-looking coin, unlike any I had ever seen before. It was about the size of a quarter and had ornate detailing around the edges.\n",
       "\n",
       "Curiosity getting the better of me, I reached down to pick it up and examine it more closely. As soon as I touched it, a bright, blinding light enveloped me. When the light finally faded, I found myself standing in a completely different place. I was surrounded by towering trees, lush green grass, and the sound of birds chirping.\n",
       "\n",
       "Disoriented and confused, I looked around, trying to make sense of what had just happened. I had no idea how I had gotten here or what this strange place was. As I stood there, trying to process what was happening, a soft voice called out to me from behind.\n",
       "\n",
       "\"Hello,\" the voice said. turning around, I saw a young woman standing a few feet away from me. She was dressed in a long, flowing gown and had a kind smile on her face. \"Welcome to the land of Elysia. I have been expecting you.\"\n",
       "\n",
       "I was still trying to comprehend the situation bewildered, I asked the woman, \"Who are you? And how did I get here?\"\n",
       "\n",
       "\"I am the guardian of this realm,\" she explained. \"My name is Elara, and I have been waiting for someone like you to arrive. You have been chosen to fulfill a special destiny here in Elysia.\"\n",
       "\n",
       "As she spoke, I felt a strange sense of belonging and purpose wash over me. Despite the confusion, I couldn't help but be intrigued by the possibilities that lay ahead. And so, with Elara as my guide, I embraced this unexpected journey into the magical realm of Elysia."
      ]
     },
     "execution_count": 20,
     "metadata": {},
     "output_type": "execute_result"
    }
   ],
   "source": [
    "model.predict(prompt=prompt,\n",
    "             max_output_tokens =1024,\n",
    "             temperature = 1.0)\n",
    "\n",
    "#temperature 0 most deterministic response. 0.2-0.7 moderate. 0.8 to 1.0 is very creative/random, hullucination\n",
    "#code models, should use very low temperature"
   ]
  },
  {
   "cell_type": "code",
   "execution_count": null,
   "id": "c4966784",
   "metadata": {},
   "outputs": [],
   "source": []
  },
  {
   "cell_type": "code",
   "execution_count": null,
   "id": "3e3cce00",
   "metadata": {},
   "outputs": [],
   "source": []
  },
  {
   "cell_type": "markdown",
   "id": "8df251a5",
   "metadata": {},
   "source": [
    "## Top_K and Top_p"
   ]
  },
  {
   "cell_type": "markdown",
   "id": "fbc98321",
   "metadata": {},
   "source": [
    "#Top_K changes how the model selects tokens for output. Top_k = 1 is greedy decoding. Top_k = 3 measn that the next token is selected fom the top 3 most probably tokens (using tempurature). Top k default is 40 tokens."
   ]
  },
  {
   "cell_type": "markdown",
   "id": "48874333",
   "metadata": {},
   "source": [
    "#Top_p is cumulative probabiliy that a token should be included in the vocabulary. Top_p default is 0.95. it's between 0 and 1. so it's a very high value. top_p is used to control the diversity of the generated text. try to use top_p and temperature to control. leave top_k large (40 tokens)"
   ]
  },
  {
   "cell_type": "code",
   "execution_count": 23,
   "id": "7c0bc6eb",
   "metadata": {},
   "outputs": [
    {
     "data": {
      "text/plain": [
       " I was walking through the park, enjoying the fresh air and the sunshine, when I saw something strange out of the corner of my eye. I turned to look, and I saw a man standing in the middle of the path, staring at me. He was wearing a long black coat and a hat, and his face was hidden in the shadows.\n",
       "\n",
       "I stopped walking and stared back at him. He didn't move or say anything. He just stood there, staring at me with his cold, empty eyes. I felt a chill run down my spine.\n",
       "\n",
       "I started to back away slowly, and he started to walk towards me. I turned and ran, and he chased after me. I ran as fast as I could, but he was gaining on me. I could hear his footsteps getting closer and closer.\n",
       "\n",
       "I ran until I couldn't run anymore. I collapsed on the ground, gasping for breath. He was standing over me now, his face still hidden in the shadows.\n",
       "\n",
       "\"What do you want?\" I asked.\n",
       "\n",
       "He didn't say anything. He just reached down and picked me up. I screamed and struggled, but he was too strong. He carried me away, and I never saw him again.\n",
       "\n",
       "I don't know what happened to me that day, but I'll never forget it. It was the most terrifying experience of my life."
      ]
     },
     "execution_count": 23,
     "metadata": {},
     "output_type": "execute_result"
    }
   ],
   "source": [
    "model.predict(prompt=prompt,\n",
    "             max_output_tokens=1024,\n",
    "             top_k=1,\n",
    "             temperature = 0.1)\n",
    "\n",
    "#this is going to give you the same text doesn't matter what temperature is. top_k is going to restrict to only 1 most probablistic token. "
   ]
  },
  {
   "cell_type": "code",
   "execution_count": 25,
   "id": "1af435bf",
   "metadata": {},
   "outputs": [
    {
     "data": {
      "text/plain": [
       " I was walking along the sidewalk, lost in my own thoughts, when I noticed a small, black object on the ground in front of me. As I got closer, I saw that it was a strange-looking coin, unlike any I had ever seen before. It was about the size of a quarter and had ornate detailing around the edges.\n",
       "\n",
       "Curiosity getting the better of me, I reached down to pick it up and examine it more closely. As soon as I touched it, a bright, blinding light enveloped me. When the light finally faded, I found myself standing in a completely different place. I was surrounded by towering trees, lush green grass, and the sound of birds chirping.\n",
       "\n",
       "Disoriented and confused, I looked around, trying to make sense of what had just happened. I had no idea how I had gotten here or what this strange place was. As I stood there, trying to process what was happening, a soft, feminine voice caught my attention.\n",
       "\n",
       "\"Welcome to my realm,\" the voice said. \"I am the guardian of this place.\"\n",
       "\n",
       "Turning around, I saw a beautiful woman standing before me. She had long, flowing hair, piercing green eyes, and was wearing a flowing, white dress.\n",
       "\n",
       "\"Where am I?\" I asked, still trying to comprehend the situation.\n",
       "\n",
       "\"This is the realm of dreams,\" she replied. \"You have been brought here for a reason, but what that reason is, only time will tell.\"\n",
       "\n",
       "With that, the woman turned and walked away, disappearing into the forest. Left alone in this strange and wondrous world, I couldn't help but feel a sense of adventure and curiosity.\n",
       "\n",
       "As I started to explore my surroundings, I discovered even more extraordinary things. There were talking animals, floating islands, and even a castle in the distance. Each step I took seemed to reveal new wonders and mysteries.\n",
       "\n",
       "Days turned into nights, and I continued my exploration, determined to uncover the secrets of this realm and find my way back home. Along the way, I encountered challenges and obstacles, but I also gained valuable friendships and insights.\n",
       "\n",
       "Eventually, after what felt like an eternity, I found myself standing before the castle. Inside, I met the wise ruler of the realm, who revealed the truth about my presence there.\n",
       "\n",
       "I had been chosen to be the guardian of the realm, just like the woman who had welcomed me. My task was to protect this magical place and maintain the balance between dreams and reality.\n",
       "\n",
       "With a mix of emotions, I accepted my destiny and took on the mantle of the guardian. And so, in this fantastical realm, my journey continued, filled with wonder, adventure, and the magic of dreams."
      ]
     },
     "execution_count": 25,
     "metadata": {},
     "output_type": "execute_result"
    }
   ],
   "source": [
    "model.predict(prompt=prompt,\n",
    "             max_output_tokens=1024,\n",
    "             top_p=0.1,\n",
    "             temperature = 1.0)"
   ]
  },
  {
   "cell_type": "markdown",
   "id": "2df9efcb",
   "metadata": {},
   "source": [
    "## Top K 0-40 default 40\n",
    "## Top_p 0-1 default 0.95\n",
    "## Temperature --> default 0.2 -->1.0 you can play with temperature to control how creative\n",
    "## certain prompts will be more effective to restrict answers than top k and top p. for example the temperature of boiling water is:"
   ]
  },
  {
   "cell_type": "code",
   "execution_count": null,
   "id": "b618a55f",
   "metadata": {},
   "outputs": [],
   "source": []
  },
  {
   "cell_type": "code",
   "execution_count": null,
   "id": "f1fb742e",
   "metadata": {},
   "outputs": [],
   "source": []
  },
  {
   "cell_type": "code",
   "execution_count": null,
   "id": "881bc2bd",
   "metadata": {},
   "outputs": [],
   "source": []
  },
  {
   "cell_type": "code",
   "execution_count": 26,
   "id": "e9224845",
   "metadata": {},
   "outputs": [],
   "source": [
    "#stop sequence"
   ]
  },
  {
   "cell_type": "code",
   "execution_count": 28,
   "id": "084a8e77",
   "metadata": {},
   "outputs": [
    {
     "data": {
      "text/plain": [
       " **Vegetables:**\n",
       "\n",
       "1. Asparagus\n",
       "2. Bell peppers\n",
       "3. Broccoli\n"
      ]
     },
     "execution_count": 28,
     "metadata": {},
     "output_type": "execute_result"
    }
   ],
   "source": [
    "model.predict(prompt='Create a numered list of vegetables:',\n",
    "             stop_sequences = ['4'])"
   ]
  },
  {
   "cell_type": "code",
   "execution_count": null,
   "id": "e2535d25",
   "metadata": {},
   "outputs": [],
   "source": []
  },
  {
   "cell_type": "code",
   "execution_count": null,
   "id": "643b73b2",
   "metadata": {},
   "outputs": [],
   "source": []
  },
  {
   "cell_type": "code",
   "execution_count": 29,
   "id": "cee9f9ce",
   "metadata": {},
   "outputs": [],
   "source": [
    "#One and few shot prompts"
   ]
  },
  {
   "cell_type": "code",
   "execution_count": null,
   "id": "c4fc69bc",
   "metadata": {},
   "outputs": [],
   "source": []
  }
 ],
 "metadata": {
  "kernelspec": {
   "display_name": "Python 3 (ipykernel)",
   "language": "python",
   "name": "python3"
  },
  "language_info": {
   "codemirror_mode": {
    "name": "ipython",
    "version": 3
   },
   "file_extension": ".py",
   "mimetype": "text/x-python",
   "name": "python",
   "nbconvert_exporter": "python",
   "pygments_lexer": "ipython3",
   "version": "3.11.4"
  }
 },
 "nbformat": 4,
 "nbformat_minor": 5
}

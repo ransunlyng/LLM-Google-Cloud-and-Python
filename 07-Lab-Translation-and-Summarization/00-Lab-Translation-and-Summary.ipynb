{
 "cells": [
  {
   "cell_type": "markdown",
   "id": "4fe54735-1c2f-4ab6-a8e0-19e743a135a3",
   "metadata": {},
   "source": [
    "<center><a href=\"https://www.pieriantraining.com/\" ><img src=\"../PTCenteredPurple.png\" alt=\"Pierian Training Logo\" /></a></center>\n"
   ]
  },
  {
   "cell_type": "markdown",
   "id": "4cbeca1d-5190-4346-8599-9222dac6b4c1",
   "metadata": {},
   "source": [
    "# Translation and Summary of Non-English Customer Emails\n",
    "\n",
    "Imagine we're running a company that has international customers, but unfortunately we have limited budget and resources for our support team. Could we leverage AI to help with customer support?\n",
    "\n",
    "Let's create a simple AI assistant that does the following:\n",
    "* Reads a non-English email\n",
    "* Translates it with an LLM Call\n",
    "* Uses that Full English Version to create a summary\n",
    "* Also uses full english version to create a list of recommended next steps\n",
    "* Presents summary and next steps to customer service agent"
   ]
  },
  {
   "cell_type": "code",
   "execution_count": 9,
   "id": "7a9e819c-e570-4e97-b8f1-42e465b1d9a6",
   "metadata": {},
   "outputs": [],
   "source": [
    "spanish_email = open('spanish-customer-support-email.txt',encoding='utf-8').read()"
   ]
  },
  {
   "cell_type": "code",
   "execution_count": 10,
   "id": "a1671433-ac62-4f28-9e28-5223fe5c165d",
   "metadata": {},
   "outputs": [
    {
     "name": "stdout",
     "output_type": "stream",
     "text": [
      "Asunto: Reporte de Problemas Técnicos - Funcionalidad del Panel SAAS\n",
      "\n",
      "Estimado Equipo de Soporte al Cliente,\n",
      "\n",
      "Espero que este mensaje les encuentre bien. Les escribo para informarles sobre un problema técnico que he encontrado mientras utilizo su producto de panel SAAS. Como cliente leal, aprecio el valor que su producto aporta a mi negocio, pero actualmente me enfrento a un desafío que requiere su experiencia.\n",
      "\n",
      "Me gustaría describir detalladamente el problema que estoy experimentando:\n",
      "\n",
      "1. Problema Gráfico: Al iniciar sesión en el panel SAAS, he notado que los gráficos y las tablas en la página principal del panel no se renderizan correctamente. Los puntos de datos aparecen distorsionados y algunos elementos se superponen, lo que dificulta la interpretación precisa de la información.\n",
      "\n",
      "2. Fallo en la Función de Exportación: Además, no he podido exportar informes y datos desde el panel. Cada vez que intento exportar un informe en formato CSV o PDF, recibo un mensaje de error que indica que la exportación ha fallado. Esta funcionalidad es crucial para compartir información con mi equipo y partes interesadas externas, por lo que es imperativo que se resuelva rápidamente.\n",
      "\n",
      "3. Lentitud en la Carga: Durante la última semana, he notado una disminución significativa en la velocidad de carga del panel SAAS. Las páginas tardan un tiempo inusualmente largo en cargarse, lo que afecta mi productividad y genera frustración. Tengo una conexión a internet confiable, por lo que creo que el problema radica en el panel mismo.\n",
      "\n",
      "Ya he realizado los siguientes pasos para solucionar el problema:\n",
      "\n",
      "1. Limpieza de Cache: Limpié la memoria caché y las cookies de mi navegador para asegurarme de que los datos desactualizados no estén causando conflictos. Sin embargo, los problemas persisten incluso después de realizar esta acción.\n",
      "\n",
      "2. Varios Navegadores: Probé el panel SAAS en diferentes navegadores web (Chrome, Firefox y Safari) para determinar si el problema era específico del navegador. Desafortunadamente, los problemas gráficos, los fallos en la exportación y la lentitud en la carga persistieron en todos los navegadores.\n",
      "\n",
      "Les solicito amablemente su ayuda para resolver estos problemas, ya que están obstaculizando mi capacidad de aprovechar todo el potencial de su panel SAAS. Aquí están las acciones específicas que agradecería:\n",
      "\n",
      "1. Solución para Problemas Gráficos: Por favor, investiguen y corrijan los problemas gráficos presentes en la página principal del panel para garantizar una visualización precisa de los datos.\n",
      "\n",
      "2. Solución para la Función de Exportación: Identifiquen y solucionen el problema con la exportación de informes en formatos CSV y PDF, permitiéndome compartir datos con mi equipo y partes interesadas de manera fluida.\n",
      "\n",
      "3. Optimización del Rendimiento: Por favor, aborden la lentitud en la carga del panel SAAS para mejorar la experiencia general del usuario y aumentar la productividad.\n",
      "\n",
      "Entiendo que los problemas técnicos pueden surgir de vez en cuando y aprecio su pronta atención a este asunto. Si requieren información adicional o ayuda de mi parte, no duden en contactarme. Espero su pronta respuesta y una pronta resolución a estos desafíos.\n",
      "\n",
      "Gracias por su comprensión y apoyo.\n",
      "\n",
      "Atentamente,\n",
      "\n",
      "María Rodríguez\n",
      "ID de Cliente: 123456789\n",
      "Información de la Cuenta: Empresa Ejemplo S.A.\n"
     ]
    }
   ],
   "source": [
    "print(spanish_email)"
   ]
  },
  {
   "cell_type": "markdown",
   "id": "6eac80c6-a717-4d8c-b59c-a910f70037e0",
   "metadata": {},
   "source": [
    "### Step 1: Translate"
   ]
  },
  {
   "cell_type": "code",
   "execution_count": 11,
   "id": "eeacfd86-6ca8-4252-b6bd-fd7da51c843b",
   "metadata": {},
   "outputs": [],
   "source": [
    "from vertexai.language_models import TextGenerationModel"
   ]
  },
  {
   "cell_type": "code",
   "execution_count": 12,
   "id": "1f10a6da-05ac-4eb3-8020-820ac3440fed",
   "metadata": {},
   "outputs": [],
   "source": [
    "model = TextGenerationModel.from_pretrained('text-bison')"
   ]
  },
  {
   "cell_type": "code",
   "execution_count": 16,
   "id": "57fcb542-b590-4501-9a4d-994abc7ef578",
   "metadata": {},
   "outputs": [],
   "source": [
    "prompt = f\"Return the English translation of this email:\\n\\n{spanish_email}\""
   ]
  },
  {
   "cell_type": "code",
   "execution_count": 17,
   "id": "236d403c-2cab-480f-a96d-eef1e2fe6cce",
   "metadata": {},
   "outputs": [
    {
     "name": "stdout",
     "output_type": "stream",
     "text": [
      "Return the English translation of this email:\n",
      "\n",
      "Asunto: Reporte de Problemas Técnicos - Funcionalidad del Panel SAAS\n",
      "\n",
      "Estimado Equipo de Soporte al Cliente,\n",
      "\n",
      "Espero que este mensaje les encuentre bien. Les escribo para informarles sobre un problema técnico que he encontrado mientras utilizo su producto de panel SAAS. Como cliente leal, aprecio el valor que su producto aporta a mi negocio, pero actualmente me enfrento a un desafío que requiere su experiencia.\n",
      "\n",
      "Me gustaría describir detalladamente el problema que estoy experimentando:\n",
      "\n",
      "1. Problema Gráfico: Al iniciar sesión en el panel SAAS, he notado que los gráficos y las tablas en la página principal del panel no se renderizan correctamente. Los puntos de datos aparecen distorsionados y algunos elementos se superponen, lo que dificulta la interpretación precisa de la información.\n",
      "\n",
      "2. Fallo en la Función de Exportación: Además, no he podido exportar informes y datos desde el panel. Cada vez que intento exportar un informe en formato CSV o PDF, recibo un mensaje de error que indica que la exportación ha fallado. Esta funcionalidad es crucial para compartir información con mi equipo y partes interesadas externas, por lo que es imperativo que se resuelva rápidamente.\n",
      "\n",
      "3. Lentitud en la Carga: Durante la última semana, he notado una disminución significativa en la velocidad de carga del panel SAAS. Las páginas tardan un tiempo inusualmente largo en cargarse, lo que afecta mi productividad y genera frustración. Tengo una conexión a internet confiable, por lo que creo que el problema radica en el panel mismo.\n",
      "\n",
      "Ya he realizado los siguientes pasos para solucionar el problema:\n",
      "\n",
      "1. Limpieza de Cache: Limpié la memoria caché y las cookies de mi navegador para asegurarme de que los datos desactualizados no estén causando conflictos. Sin embargo, los problemas persisten incluso después de realizar esta acción.\n",
      "\n",
      "2. Varios Navegadores: Probé el panel SAAS en diferentes navegadores web (Chrome, Firefox y Safari) para determinar si el problema era específico del navegador. Desafortunadamente, los problemas gráficos, los fallos en la exportación y la lentitud en la carga persistieron en todos los navegadores.\n",
      "\n",
      "Les solicito amablemente su ayuda para resolver estos problemas, ya que están obstaculizando mi capacidad de aprovechar todo el potencial de su panel SAAS. Aquí están las acciones específicas que agradecería:\n",
      "\n",
      "1. Solución para Problemas Gráficos: Por favor, investiguen y corrijan los problemas gráficos presentes en la página principal del panel para garantizar una visualización precisa de los datos.\n",
      "\n",
      "2. Solución para la Función de Exportación: Identifiquen y solucionen el problema con la exportación de informes en formatos CSV y PDF, permitiéndome compartir datos con mi equipo y partes interesadas de manera fluida.\n",
      "\n",
      "3. Optimización del Rendimiento: Por favor, aborden la lentitud en la carga del panel SAAS para mejorar la experiencia general del usuario y aumentar la productividad.\n",
      "\n",
      "Entiendo que los problemas técnicos pueden surgir de vez en cuando y aprecio su pronta atención a este asunto. Si requieren información adicional o ayuda de mi parte, no duden en contactarme. Espero su pronta respuesta y una pronta resolución a estos desafíos.\n",
      "\n",
      "Gracias por su comprensión y apoyo.\n",
      "\n",
      "Atentamente,\n",
      "\n",
      "María Rodríguez\n",
      "ID de Cliente: 123456789\n",
      "Información de la Cuenta: Empresa Ejemplo S.A.\n"
     ]
    }
   ],
   "source": [
    "print(prompt)"
   ]
  },
  {
   "cell_type": "code",
   "execution_count": 20,
   "id": "5347676b-dbff-4120-b782-59b9db945086",
   "metadata": {},
   "outputs": [],
   "source": [
    "english_translation = model.predict(max_output_tokens=2048,temperature=0,prompt=prompt)"
   ]
  },
  {
   "cell_type": "code",
   "execution_count": 21,
   "id": "8a1ffaa2-6a64-4203-8148-fea39a273e2f",
   "metadata": {},
   "outputs": [
    {
     "name": "stdout",
     "output_type": "stream",
     "text": [
      " Subject: Reporting Technical Issues - SAAS Dashboard Functionality\n",
      "\n",
      "Dear Customer Support Team,\n",
      "\n",
      "I hope this message finds you well. I am writing to inform you about a technical issue that I have encountered while using your SAAS dashboard product. As a loyal customer, I appreciate the value that your product brings to my business, but I am currently facing a challenge that requires your expertise.\n",
      "\n",
      "I would like to describe in detail the issue that I am experiencing:\n",
      "\n",
      "1. Graphical Issue: Upon logging into the SAAS dashboard, I have noticed that the graphs and charts on the dashboard's main page are not rendering properly. Data points appear distorted, and some elements overlap, making it difficult to accurately interpret the information.\n",
      "\n",
      "2. Export Function Failure: Additionally, I have been unable to export reports and data from the dashboard. Whenever I attempt to export a report in CSV or PDF format, I receive an error message indicating that the export has failed. This functionality is crucial for sharing information with my team and external stakeholders, so it is imperative that it is resolved quickly.\n",
      "\n",
      "3. Slow Loading Speed: For the past week, I have noticed a significant decrease in the loading speed of the SAAS dashboard. Pages take an unusually long time to load, which affects my productivity and causes frustration. I have a reliable internet connection, so I believe the issue lies with the dashboard itself.\n",
      "\n",
      "I have already taken the following steps to troubleshoot the issue:\n",
      "\n",
      "1. Cache Cleaning: I cleared my browser's cache and cookies to ensure that outdated data is not causing conflicts. However, the issues persist even after performing this action.\n",
      "\n",
      "2. Multiple Browsers: I tested the SAAS dashboard on different web browsers (Chrome, Firefox, and Safari) to determine if the issue was browser-specific. Unfortunately, the graphical issues, export failures, and slow loading speed persisted across all browsers.\n",
      "\n",
      "I kindly request your assistance in resolving these issues, as they are hindering my ability to fully utilize the potential of your SAAS dashboard. Here are the specific actions that I would appreciate:\n",
      "\n",
      "1. Fix for Graphical Issues: Please investigate and rectify the graphical issues present on the dashboard's main page to ensure accurate data visualization.\n",
      "\n",
      "2. Solution for Export Function: Identify and resolve the problem with exporting reports in CSV and PDF formats, allowing me to share data with my team and stakeholders seamlessly.\n",
      "\n",
      "3. Performance Optimization: Kindly address the slow loading speed of the SAAS dashboard to improve the overall user experience and increase productivity.\n",
      "\n",
      "I understand that technical issues can arise from time to time, and I appreciate your prompt attention to this matter. If you require any additional information or assistance from my side, please do not hesitate to contact me. I look forward to your prompt response and a timely resolution to these challenges.\n",
      "\n",
      "Thank you for your understanding and support.\n",
      "\n",
      "Sincerely,\n",
      "\n",
      "Mary Rodriguez\n",
      "Customer ID: 123456789\n",
      "Account Information: Acme Corporation\n"
     ]
    }
   ],
   "source": [
    "print(english_translation.text)"
   ]
  },
  {
   "cell_type": "markdown",
   "id": "2a016439-6e97-4677-9c3f-2ff419396764",
   "metadata": {},
   "source": [
    "### Step 2: Create Recommended Next Steps"
   ]
  },
  {
   "cell_type": "code",
   "execution_count": 22,
   "id": "1a032ae7-1dbb-4882-a83c-1d3fb03b9e84",
   "metadata": {},
   "outputs": [],
   "source": [
    "get_suggestions_prompt = f\"Please give a list of suggestions to address the issues presented in this email:\\n {english_translation.text}\""
   ]
  },
  {
   "cell_type": "code",
   "execution_count": 23,
   "id": "82db302f-9892-43cf-999a-56c17907e0a9",
   "metadata": {},
   "outputs": [],
   "source": [
    "suggestions = model.predict(max_output_tokens=2048,temperature=0.1,prompt=get_suggestions_prompt)"
   ]
  },
  {
   "cell_type": "code",
   "execution_count": 24,
   "id": "129fbe6d-54d1-4677-92af-47346f140707",
   "metadata": {},
   "outputs": [
    {
     "data": {
      "text/plain": [
       " Here are some suggestions to address the issues presented in this email:\n",
       "\n",
       "1. Graphical Issue:\n",
       "   - Check if the issue is specific to a particular device or browser.\n",
       "   - Try clearing the browser's cache and cookies.\n",
       "   - Disable any browser extensions or plugins that may be interfering with the dashboard.\n",
       "   - Contact customer support for further assistance.\n",
       "\n",
       "2. Export Function Failure:\n",
       "   - Check if the issue is specific to a particular report or data set.\n",
       "   - Try exporting the report in a different format (e.g., CSV instead of PDF).\n",
       "   - Contact customer support for further assistance.\n",
       "\n",
       "3. Slow Loading Speed:\n",
       "   - Check your internet connection speed.\n",
       "   - Try using a different device or browser.\n",
       "   - Contact customer support for further assistance.\n",
       "\n",
       "4. General Troubleshooting:\n",
       "   - Check for any updates to the SAAS dashboard or your browser.\n",
       "   - Try restarting your device or router.\n",
       "   - Contact customer support for further assistance."
      ]
     },
     "execution_count": 24,
     "metadata": {},
     "output_type": "execute_result"
    }
   ],
   "source": [
    "suggestions"
   ]
  },
  {
   "cell_type": "markdown",
   "id": "209d9019-b432-4100-b8a0-38607d108a89",
   "metadata": {},
   "source": [
    "### Step 3: Create Email Summary"
   ]
  },
  {
   "cell_type": "code",
   "execution_count": 25,
   "id": "134ecd05-8059-47e0-8d26-5c9059059b2c",
   "metadata": {},
   "outputs": [],
   "source": [
    "summary_prompt = f\"Create a summary of this customer email:\\n\\n {english_translation}\""
   ]
  },
  {
   "cell_type": "code",
   "execution_count": 26,
   "id": "7ae06c2a-b793-4499-aba2-8aa7f213db0e",
   "metadata": {},
   "outputs": [],
   "source": [
    "summary = model.predict(max_output_tokens=2048,temperature=0.1,prompt=summary_prompt)"
   ]
  },
  {
   "cell_type": "code",
   "execution_count": 27,
   "id": "4a080ade-ea84-4846-9a25-5a2c57c65a3f",
   "metadata": {},
   "outputs": [
    {
     "data": {
      "text/plain": [
       " Mary Rodriguez, a customer of the SAAS dashboard product, is reporting technical issues that she has encountered.\n",
       "\n",
       "The issues include graphical issues with the graphs and charts on the dashboard's main page, the export function failing when attempting to export reports in CSV or PDF format, and a significant decrease in the loading speed of the dashboard.\n",
       "\n",
       "Mary has already taken steps to troubleshoot the issue, such as clearing her browser's cache and testing the dashboard on different web browsers. However, the issues persist.\n",
       "\n",
       "Mary requests assistance in resolving these issues and provides specific actions that she would appreciate, such as fixing the graphical issues, providing a solution for the export function, and optimizing the performance of the dashboard.\n",
       "\n",
       "Mary understands that technical issues can arise from time to time and appreciates the prompt attention to this matter. She looks forward to a timely resolution to these challenges."
      ]
     },
     "execution_count": 27,
     "metadata": {},
     "output_type": "execute_result"
    }
   ],
   "source": [
    "summary"
   ]
  },
  {
   "cell_type": "markdown",
   "id": "00a3bcf1-974f-4d6b-9353-542660a76d13",
   "metadata": {},
   "source": [
    "### Optional: Combine it all together!"
   ]
  },
  {
   "cell_type": "code",
   "execution_count": 29,
   "id": "dac3f366-cdf0-4b6a-872a-3c7478d53f2a",
   "metadata": {},
   "outputs": [],
   "source": [
    "def customer_support_helper(non_english_email):\n",
    "    prompt = f\"Return the English translation of this email:\\n\\n{non_english_email}\"\n",
    "    english_translation = model.predict(max_output_tokens=2048,temperature=0,prompt=prompt)\n",
    "    \n",
    "    get_suggestions_prompt = f\"Please give a list of suggestions to address the issues presented in this email:\\n {english_translation.text}\"\n",
    "    suggestions = model.predict(max_output_tokens=2048,temperature=0.1,prompt=get_suggestions_prompt)\n",
    "    \n",
    "    summary_prompt = f\"Create a summary of this customer email:\\n\\n {english_translation}\"\n",
    "    summary = model.predict(max_output_tokens=2048,temperature=0.1,prompt=summary_prompt)\n",
    "    \n",
    "    print(\"Hello, we have recieved a new non-English email, here is a summary and some suggestions:\\n\\n\")\n",
    "    print(f\"Summary:\\n\\n{summary}\")\n",
    "    print(f\"Suggestions:\\n\\n{suggestions}\")"
   ]
  },
  {
   "cell_type": "code",
   "execution_count": 30,
   "id": "ccbfca77-91da-4b76-9b93-cb34d7bc318a",
   "metadata": {},
   "outputs": [
    {
     "name": "stdout",
     "output_type": "stream",
     "text": [
      "Hello, we have recieved a new non-English email, here is a summary and some suggestions:\n",
      "\n",
      "\n",
      "Summary:\n",
      "\n",
      " Mary Rodriguez, a customer of the SAAS dashboard product, is reporting technical issues that she has encountered.\n",
      "\n",
      "The issues include graphical issues with graphs and charts not rendering properly, export function failure when attempting to export reports in CSV or PDF format, and slow loading speed of the dashboard.\n",
      "\n",
      "Mary has already taken steps to troubleshoot the issue, such as clearing her browser's cache and testing the dashboard on different web browsers. However, the issues persist.\n",
      "\n",
      "Mary requests assistance in resolving these issues and provides specific actions that she would appreciate, such as fixing the graphical issues, providing a solution for the export function, and optimizing the performance of the dashboard.\n",
      "\n",
      "Mary understands that technical issues can arise from time to time and appreciates prompt attention to the matter. She looks forward to a timely resolution to these challenges.\n",
      "Suggestions:\n",
      "\n",
      " Here are some suggestions to address the issues presented in this email:\n",
      "\n",
      "1. Graphical Issue:\n",
      "   - Check if the issue is specific to a particular device or browser.\n",
      "   - Try clearing the browser's cache and cookies.\n",
      "   - Disable any browser extensions or plugins that may be interfering with the dashboard.\n",
      "   - Contact customer support for further assistance.\n",
      "\n",
      "2. Export Function Failure:\n",
      "   - Check if the issue is specific to a particular report or data set.\n",
      "   - Try exporting the report in a different format (e.g., CSV instead of PDF).\n",
      "   - Contact customer support for further assistance.\n",
      "\n",
      "3. Slow Loading Speed:\n",
      "   - Check your internet connection speed.\n",
      "   - Try using a different device or browser.\n",
      "   - Contact customer support for further assistance.\n",
      "\n",
      "4. General Troubleshooting:\n",
      "   - Check for any updates to the SAAS dashboard or your browser.\n",
      "   - Try restarting your device or router.\n",
      "   - Contact customer support for further assistance.\n"
     ]
    }
   ],
   "source": [
    "customer_support_helper(spanish_email)"
   ]
  },
  {
   "cell_type": "code",
   "execution_count": null,
   "id": "d81f98e0-8e05-4815-b969-9cd2209c9dfc",
   "metadata": {},
   "outputs": [],
   "source": []
  }
 ],
 "metadata": {
  "kernelspec": {
   "display_name": "Python 3 (ipykernel)",
   "language": "python",
   "name": "python3"
  },
  "language_info": {
   "codemirror_mode": {
    "name": "ipython",
    "version": 3
   },
   "file_extension": ".py",
   "mimetype": "text/x-python",
   "name": "python",
   "nbconvert_exporter": "python",
   "pygments_lexer": "ipython3",
   "version": "3.9.12"
  }
 },
 "nbformat": 4,
 "nbformat_minor": 5
}

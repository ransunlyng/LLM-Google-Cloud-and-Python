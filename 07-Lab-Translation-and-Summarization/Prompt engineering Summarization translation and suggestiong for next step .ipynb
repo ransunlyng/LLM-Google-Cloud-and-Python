{
 "cells": [
  {
   "cell_type": "code",
   "execution_count": 1,
   "id": "ba4beac6",
   "metadata": {},
   "outputs": [],
   "source": [
    "import os\n",
    "os.environ['GOOGLE_APPLICATION_CREDENTIALS'] = '/Users/tdraly/Library/CloudStorage/Dropbox/Mac/Downloads/silent-scanner-407313-877e12e3ea43.json'"
   ]
  },
  {
   "cell_type": "code",
   "execution_count": 2,
   "id": "a7a0874b",
   "metadata": {},
   "outputs": [],
   "source": [
    "spanish_email = open('spanish-customer-support-email.txt', encoding='utf-8').read()"
   ]
  },
  {
   "cell_type": "code",
   "execution_count": 4,
   "id": "a40ba456",
   "metadata": {},
   "outputs": [
    {
     "name": "stdout",
     "output_type": "stream",
     "text": [
      "Asunto: Reporte de Problemas Técnicos - Funcionalidad del Panel SAAS\n",
      "\n",
      "Estimado Equipo de Soporte al Cliente,\n",
      "\n",
      "Espero que este mensaje les encuentre bien. Les escribo para informarles sobre un problema técnico que he encontrado mientras utilizo su producto de panel SAAS. Como cliente leal, aprecio el valor que su producto aporta a mi negocio, pero actualmente me enfrento a un desafío que requiere su experiencia.\n",
      "\n",
      "Me gustaría describir detalladamente el problema que estoy experimentando:\n",
      "\n",
      "1. Problema Gráfico: Al iniciar sesión en el panel SAAS, he notado que los gráficos y las tablas en la página principal del panel no se renderizan correctamente. Los puntos de datos aparecen distorsionados y algunos elementos se superponen, lo que dificulta la interpretación precisa de la información.\n",
      "\n",
      "2. Fallo en la Función de Exportación: Además, no he podido exportar informes y datos desde el panel. Cada vez que intento exportar un informe en formato CSV o PDF, recibo un mensaje de error que indica que la exportación ha fallado. Esta funcionalidad es crucial para compartir información con mi equipo y partes interesadas externas, por lo que es imperativo que se resuelva rápidamente.\n",
      "\n",
      "3. Lentitud en la Carga: Durante la última semana, he notado una disminución significativa en la velocidad de carga del panel SAAS. Las páginas tardan un tiempo inusualmente largo en cargarse, lo que afecta mi productividad y genera frustración. Tengo una conexión a internet confiable, por lo que creo que el problema radica en el panel mismo.\n",
      "\n",
      "Ya he realizado los siguientes pasos para solucionar el problema:\n",
      "\n",
      "1. Limpieza de Cache: Limpié la memoria caché y las cookies de mi navegador para asegurarme de que los datos desactualizados no estén causando conflictos. Sin embargo, los problemas persisten incluso después de realizar esta acción.\n",
      "\n",
      "2. Varios Navegadores: Probé el panel SAAS en diferentes navegadores web (Chrome, Firefox y Safari) para determinar si el problema era específico del navegador. Desafortunadamente, los problemas gráficos, los fallos en la exportación y la lentitud en la carga persistieron en todos los navegadores.\n",
      "\n",
      "Les solicito amablemente su ayuda para resolver estos problemas, ya que están obstaculizando mi capacidad de aprovechar todo el potencial de su panel SAAS. Aquí están las acciones específicas que agradecería:\n",
      "\n",
      "1. Solución para Problemas Gráficos: Por favor, investiguen y corrijan los problemas gráficos presentes en la página principal del panel para garantizar una visualización precisa de los datos.\n",
      "\n",
      "2. Solución para la Función de Exportación: Identifiquen y solucionen el problema con la exportación de informes en formatos CSV y PDF, permitiéndome compartir datos con mi equipo y partes interesadas de manera fluida.\n",
      "\n",
      "3. Optimización del Rendimiento: Por favor, aborden la lentitud en la carga del panel SAAS para mejorar la experiencia general del usuario y aumentar la productividad.\n",
      "\n",
      "Entiendo que los problemas técnicos pueden surgir de vez en cuando y aprecio su pronta atención a este asunto. Si requieren información adicional o ayuda de mi parte, no duden en contactarme. Espero su pronta respuesta y una pronta resolución a estos desafíos.\n",
      "\n",
      "Gracias por su comprensión y apoyo.\n",
      "\n",
      "Atentamente,\n",
      "\n",
      "María Rodríguez\n",
      "ID de Cliente: 123456789\n",
      "Información de la Cuenta: Empresa Ejemplo S.A.\n"
     ]
    }
   ],
   "source": [
    "print(spanish_email)"
   ]
  },
  {
   "cell_type": "code",
   "execution_count": 6,
   "id": "7b8307b9",
   "metadata": {},
   "outputs": [],
   "source": [
    "from vertexai.language_models import TextGenerationModel"
   ]
  },
  {
   "cell_type": "code",
   "execution_count": 7,
   "id": "368c215e",
   "metadata": {},
   "outputs": [],
   "source": [
    "model = TextGenerationModel.from_pretrained('text-bison')"
   ]
  },
  {
   "cell_type": "code",
   "execution_count": 8,
   "id": "5b430f25",
   "metadata": {},
   "outputs": [],
   "source": [
    "prompt = f'Return the English translation of this email\\n{spanish_email}. Provide a summary of this email in English and then suggest next steps.'"
   ]
  },
  {
   "cell_type": "code",
   "execution_count": 13,
   "id": "63dd8109",
   "metadata": {},
   "outputs": [],
   "source": [
    "result = model.predict(prompt=prompt, max_output_tokens = 2048, temperature = 0)"
   ]
  },
  {
   "cell_type": "code",
   "execution_count": 14,
   "id": "0050e758",
   "metadata": {},
   "outputs": [
    {
     "name": "stdout",
     "output_type": "stream",
     "text": [
      " **Summary**\n",
      "\n",
      "Maria Rodriguez, a customer of the SAAS dashboard product, reports several technical issues that are hindering her ability to use the product effectively. The issues include graphical distortions, export function failure, and slow loading times. She has tried clearing her cache and using different browsers but the problems persist. She requests assistance in resolving these issues and provides her customer ID and account information.\n",
      "\n",
      "**Next steps**\n",
      "\n",
      "The support team should:\n",
      "\n",
      "1. Investigate and fix the graphical issues on the dashboard's main page to ensure accurate data visualization.\n",
      "2. Identify and resolve the problem with exporting reports in CSV and PDF formats to enable seamless data sharing.\n",
      "3. Address the slow loading times of the SAAS dashboard to improve overall user experience and productivity.\n",
      "4. Communicate with Maria to provide updates on the progress of resolving the issues and to gather any additional information or assistance needed from her.\n"
     ]
    }
   ],
   "source": [
    "print(result.text)"
   ]
  },
  {
   "cell_type": "code",
   "execution_count": null,
   "id": "35f75809",
   "metadata": {},
   "outputs": [],
   "source": []
  }
 ],
 "metadata": {
  "kernelspec": {
   "display_name": "Python 3 (ipykernel)",
   "language": "python",
   "name": "python3"
  },
  "language_info": {
   "codemirror_mode": {
    "name": "ipython",
    "version": 3
   },
   "file_extension": ".py",
   "mimetype": "text/x-python",
   "name": "python",
   "nbconvert_exporter": "python",
   "pygments_lexer": "ipython3",
   "version": "3.11.4"
  }
 },
 "nbformat": 4,
 "nbformat_minor": 5
}

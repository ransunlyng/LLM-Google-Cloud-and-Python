{
 "cells": [
  {
   "cell_type": "markdown",
   "id": "4fe54735-1c2f-4ab6-a8e0-19e743a135a3",
   "metadata": {},
   "source": [
    "<center><a href=\"https://www.pieriantraining.com/\" ><img src=\"../PTCenteredPurple.png\" alt=\"Pierian Training Logo\" /></a></center>\n"
   ]
  },
  {
   "cell_type": "markdown",
   "id": "4cbeca1d-5190-4346-8599-9222dac6b4c1",
   "metadata": {},
   "source": [
    "# Code Completion"
   ]
  },
  {
   "cell_type": "code",
   "execution_count": 3,
   "id": "f8c877e0-9de0-4534-bb9c-6642cd0fadbc",
   "metadata": {},
   "outputs": [],
   "source": [
    "from vertexai.language_models import CodeGenerationModel"
   ]
  },
  {
   "cell_type": "code",
   "execution_count": 4,
   "id": "c8514024-2cbc-4915-8161-517548510c75",
   "metadata": {},
   "outputs": [],
   "source": [
    "code_complete = CodeGenerationModel.from_pretrained(\"code-gecko\")"
   ]
  },
  {
   "cell_type": "code",
   "execution_count": 5,
   "id": "89676b61-79cf-40a6-8e2a-bf193ad35b7f",
   "metadata": {},
   "outputs": [],
   "source": [
    "prefix = \"\"\"\n",
    "def get_minimum_value(number_list):\n",
    "\"\"\""
   ]
  },
  {
   "cell_type": "code",
   "execution_count": 7,
   "id": "ae8e3871-1d4d-4d48-a3db-248eab86f5e5",
   "metadata": {},
   "outputs": [
    {
     "data": {
      "text/plain": [
       "    return min(number_list)\n",
       "\n",
       "\n",
       "def get_maximum_value(number_list):\n",
       "    return max(number_list)"
      ]
     },
     "execution_count": 7,
     "metadata": {},
     "output_type": "execute_result"
    }
   ],
   "source": [
    "code_complete.predict(prefix=prefix)"
   ]
  },
  {
   "cell_type": "markdown",
   "id": "86245424-e4da-4e00-94d1-522c8b980d1f",
   "metadata": {},
   "source": [
    "Notice how it keeps going!"
   ]
  },
  {
   "cell_type": "markdown",
   "id": "4e86460e-048b-4496-9fda-4816c3d336db",
   "metadata": {},
   "source": [
    "We can use an optional suffix. For code completion, suffix represents the end of a piece of meaningful programming code. The model attempts to fill in the code in between the prefix and suffix."
   ]
  },
  {
   "cell_type": "code",
   "execution_count": null,
   "id": "1def45be-b969-48d1-964b-33eb9dda7886",
   "metadata": {},
   "outputs": [],
   "source": [
    "suffix = \"\"\"\n",
    "\n",
    "\"\"\""
   ]
  }
 ],
 "metadata": {
  "kernelspec": {
   "display_name": "Python 3 (ipykernel)",
   "language": "python",
   "name": "python3"
  },
  "language_info": {
   "codemirror_mode": {
    "name": "ipython",
    "version": 3
   },
   "file_extension": ".py",
   "mimetype": "text/x-python",
   "name": "python",
   "nbconvert_exporter": "python",
   "pygments_lexer": "ipython3",
   "version": "3.9.12"
  }
 },
 "nbformat": 4,
 "nbformat_minor": 5
}

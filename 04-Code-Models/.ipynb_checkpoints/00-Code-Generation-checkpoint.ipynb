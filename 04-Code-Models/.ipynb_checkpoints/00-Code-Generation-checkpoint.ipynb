{
 "cells": [
  {
   "cell_type": "markdown",
   "id": "4fe54735-1c2f-4ab6-a8e0-19e743a135a3",
   "metadata": {},
   "source": [
    "<center><a href=\"https://www.pieriantraining.com/\" ><img src=\"../PTCenteredPurple.png\" alt=\"Pierian Training Logo\" /></a></center>\n"
   ]
  },
  {
   "cell_type": "markdown",
   "id": "4cbeca1d-5190-4346-8599-9222dac6b4c1",
   "metadata": {},
   "source": [
    "# Code Generation"
   ]
  },
  {
   "cell_type": "code",
   "execution_count": 2,
   "id": "a9e135cb-82c9-44d6-904d-643987db2c6f",
   "metadata": {},
   "outputs": [],
   "source": [
    "from vertexai.language_models import CodeGenerationModel"
   ]
  },
  {
   "cell_type": "code",
   "execution_count": 3,
   "id": "b7b5a98f-c253-455d-9d78-07727a74ebe3",
   "metadata": {},
   "outputs": [],
   "source": [
    "code_generation_model = CodeGenerationModel.from_pretrained('code-bison')"
   ]
  },
  {
   "cell_type": "code",
   "execution_count": 4,
   "id": "3d7b5ca3-c26f-4622-b099-babdd15f6072",
   "metadata": {},
   "outputs": [],
   "source": [
    "prefix = \"Write a Python function that prints a Christmas Tree with ASCII\""
   ]
  },
  {
   "cell_type": "code",
   "execution_count": 5,
   "id": "f20ac984-dc04-414b-a1f0-fd227a7b3a48",
   "metadata": {},
   "outputs": [],
   "source": [
    "response = code_generation_model.predict(prefix=prefix,\n",
    "                                        temperature=0, #DEFAULT\n",
    "                                        max_output_tokens=2048 #DEFAULT\n",
    "                                        )"
   ]
  },
  {
   "cell_type": "code",
   "execution_count": 8,
   "id": "31eba316-1037-4abe-aa09-add2ac7ee586",
   "metadata": {},
   "outputs": [
    {
     "name": "stdout",
     "output_type": "stream",
     "text": [
      "```python\n",
      "def print_christmas_tree(height):\n",
      "  \"\"\"Prints a Christmas tree with ASCII.\n",
      "\n",
      "  Args:\n",
      "    height: The height of the tree.\n",
      "  \"\"\"\n",
      "\n",
      "  # Print the tree trunk.\n",
      "  for i in range(height):\n",
      "    print(\" \" * (height - i - 1) + \"#\" * (2 * i + 1))\n",
      "\n",
      "  # Print the star.\n",
      "  print(\" \" * (height - 1) + \"*\")\n",
      "\n",
      "\n",
      "if __name__ == \"__main__\":\n",
      "  print_christmas_tree(5)\n",
      "```\n"
     ]
    }
   ],
   "source": [
    "print(response.text)"
   ]
  },
  {
   "cell_type": "code",
   "execution_count": 10,
   "id": "74971d5a-9885-4c38-9cc9-9c6188add263",
   "metadata": {},
   "outputs": [],
   "source": [
    "prefix = \"Write a Python function that prints a Christmas Tree with ASCII. Do not call the function, only reply with the function code.\"\n",
    "response = code_generation_model.predict(prefix=prefix,\n",
    "                                        temperature=0, #DEFAULT\n",
    "                                        max_output_tokens=2048 #DEFAULT\n",
    "                                        )"
   ]
  },
  {
   "cell_type": "code",
   "execution_count": 11,
   "id": "40af3400-621a-4cda-901c-fff03124924b",
   "metadata": {},
   "outputs": [
    {
     "name": "stdout",
     "output_type": "stream",
     "text": [
      "```python\n",
      "def print_christmas_tree(height):\n",
      "    for i in range(1, height+1):\n",
      "        print(' ' * (height - i) + '*' * (2 * i - 1))\n",
      "    print(' ' * (height - 1) + '*')\n",
      "```\n"
     ]
    }
   ],
   "source": [
    "print(response.text)"
   ]
  },
  {
   "cell_type": "markdown",
   "id": "02604c1c-fc5d-4f72-be8b-46c2b618b405",
   "metadata": {},
   "source": [
    "## Docstrings"
   ]
  },
  {
   "cell_type": "code",
   "execution_count": 12,
   "id": "5d149dbe-3bf5-4933-8868-c6bb7be17d97",
   "metadata": {},
   "outputs": [
    {
     "name": "stdout",
     "output_type": "stream",
     "text": [
      "```python\n",
      "def print_christmas_tree(height):\n",
      "    for i in range(1, height+1):\n",
      "        print(' ' * (height - i) + '*' * (2 * i - 1))\n",
      "    print(' ' * (height - 1) + '*')\n",
      "```\n"
     ]
    }
   ],
   "source": [
    "print(response.text)"
   ]
  },
  {
   "cell_type": "code",
   "execution_count": 13,
   "id": "83afb7d3-1a0d-4a9f-8af3-f30c037e5d99",
   "metadata": {},
   "outputs": [],
   "source": [
    "prefix = f\"Write a docstring for this function and return the function with the docstring\\n{response.text}\"\n",
    "response = code_generation_model.predict(prefix=prefix,\n",
    "                                        temperature=0, #DEFAULT\n",
    "                                        max_output_tokens=2048 #DEFAULT\n",
    "                                        )"
   ]
  },
  {
   "cell_type": "code",
   "execution_count": 14,
   "id": "6eaaa6af-fe50-440d-9da3-913f9cb8d425",
   "metadata": {},
   "outputs": [
    {
     "name": "stdout",
     "output_type": "stream",
     "text": [
      "```python\n",
      "def print_christmas_tree(height):\n",
      "\n",
      "    \"\"\"Prints a Christmas tree of a given height.\n",
      "\n",
      "    Args:\n",
      "        height (int): The height of the Christmas tree.\n",
      "    \"\"\"\n",
      "\n",
      "    for i in range(1, height+1):\n",
      "        print(' ' * (height - i) + '*' * (2 * i - 1))\n",
      "    print(' ' * (height - 1) + '*')\n",
      "```\n"
     ]
    }
   ],
   "source": [
    "print(response.text)"
   ]
  },
  {
   "cell_type": "code",
   "execution_count": 15,
   "id": "faeb1810-7517-4081-8629-6e5e1b28728c",
   "metadata": {},
   "outputs": [],
   "source": [
    "def print_christmas_tree(height):\n",
    "\n",
    "    \"\"\"Prints a Christmas tree of a given height.\n",
    "\n",
    "    Args:\n",
    "        height (int): The height of the Christmas tree.\n",
    "    \"\"\"\n",
    "\n",
    "    for i in range(1, height+1):\n",
    "        print(' ' * (height - i) + '*' * (2 * i - 1))\n",
    "    print(' ' * (height - 1) + '*')"
   ]
  },
  {
   "cell_type": "code",
   "execution_count": 16,
   "id": "9122d69d-8ed6-4a31-90b7-808511f562e1",
   "metadata": {},
   "outputs": [
    {
     "name": "stdout",
     "output_type": "stream",
     "text": [
      "         *\n",
      "        ***\n",
      "       *****\n",
      "      *******\n",
      "     *********\n",
      "    ***********\n",
      "   *************\n",
      "  ***************\n",
      " *****************\n",
      "*******************\n",
      "         *\n"
     ]
    }
   ],
   "source": [
    "print_christmas_tree(10)"
   ]
  },
  {
   "cell_type": "code",
   "execution_count": null,
   "id": "35bc7b78-4eb2-4e3a-b7af-f4eff42a34d6",
   "metadata": {},
   "outputs": [],
   "source": []
  }
 ],
 "metadata": {
  "kernelspec": {
   "display_name": "Python 3 (ipykernel)",
   "language": "python",
   "name": "python3"
  },
  "language_info": {
   "codemirror_mode": {
    "name": "ipython",
    "version": 3
   },
   "file_extension": ".py",
   "mimetype": "text/x-python",
   "name": "python",
   "nbconvert_exporter": "python",
   "pygments_lexer": "ipython3",
   "version": "3.9.12"
  }
 },
 "nbformat": 4,
 "nbformat_minor": 5
}

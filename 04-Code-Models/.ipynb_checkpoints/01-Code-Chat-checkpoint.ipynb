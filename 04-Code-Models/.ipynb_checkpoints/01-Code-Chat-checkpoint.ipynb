{
 "cells": [
  {
   "cell_type": "markdown",
   "id": "4fe54735-1c2f-4ab6-a8e0-19e743a135a3",
   "metadata": {},
   "source": [
    "<center><a href=\"https://www.pieriantraining.com/\" ><img src=\"../PTCenteredPurple.png\" alt=\"Pierian Training Logo\" /></a></center>\n"
   ]
  },
  {
   "cell_type": "markdown",
   "id": "4cbeca1d-5190-4346-8599-9222dac6b4c1",
   "metadata": {},
   "source": [
    "# Code Chat"
   ]
  },
  {
   "cell_type": "code",
   "execution_count": 2,
   "id": "8ee4d56c-e125-4faf-9d38-154c32f06599",
   "metadata": {},
   "outputs": [],
   "source": [
    "from vertexai.language_models import CodeChatModel"
   ]
  },
  {
   "cell_type": "code",
   "execution_count": 3,
   "id": "ec85191a-da60-42bb-b694-a6233f047a20",
   "metadata": {},
   "outputs": [],
   "source": [
    "codechat_model = CodeChatModel.from_pretrained('codechat-bison')"
   ]
  },
  {
   "cell_type": "code",
   "execution_count": 4,
   "id": "6c58b5b7-b728-4453-8183-624c4d897af2",
   "metadata": {},
   "outputs": [],
   "source": [
    "code_chat = codechat_model.start_chat()"
   ]
  },
  {
   "cell_type": "code",
   "execution_count": 5,
   "id": "6872609c-00a1-4191-9d66-eaed125c12e7",
   "metadata": {},
   "outputs": [
    {
     "data": {
      "text/plain": [
       " ```python\n",
       "def find_smallest(list1):\n",
       "    smallest = list1[0]\n",
       "    for x in list1:\n",
       "        if x < smallest:\n",
       "            smallest = x\n",
       "    return smallest\n",
       "```"
      ]
     },
     "execution_count": 5,
     "metadata": {},
     "output_type": "execute_result"
    }
   ],
   "source": [
    "code_chat.send_message(\"Write a Python function that can calculate the smallest number in a list\")"
   ]
  },
  {
   "cell_type": "code",
   "execution_count": 7,
   "id": "2ad4f39e-a96d-47d0-8d7c-36c5c46fd213",
   "metadata": {},
   "outputs": [
    {
     "data": {
      "text/plain": [
       "[ChatMessage(content='Write a Python function that can calculate the smallest number in a list', author='user'),\n",
       " ChatMessage(content=' ```python\\ndef find_smallest(list1):\\n    smallest = list1[0]\\n    for x in list1:\\n        if x < smallest:\\n            smallest = x\\n    return smallest\\n```', author='bot')]"
      ]
     },
     "execution_count": 7,
     "metadata": {},
     "output_type": "execute_result"
    }
   ],
   "source": [
    "code_chat.message_history"
   ]
  },
  {
   "cell_type": "code",
   "execution_count": 8,
   "id": "ac085e43-12cf-4f1e-a9cf-9dc2dd5a2121",
   "metadata": {},
   "outputs": [
    {
     "data": {
      "text/plain": [
       " ```python\n",
       "def find_smallest(list1, list2):\n",
       "    smallest = min(list1 + list2)\n",
       "    return smallest\n",
       "```"
      ]
     },
     "execution_count": 8,
     "metadata": {},
     "output_type": "execute_result"
    }
   ],
   "source": [
    "code_chat.send_message(\"Now update the function so that its the smallest value between two lists\")"
   ]
  },
  {
   "cell_type": "code",
   "execution_count": 9,
   "id": "dc1491ca-b041-4374-9b87-433d47a5e965",
   "metadata": {},
   "outputs": [
    {
     "data": {
      "text/plain": [
       " The `+` operator in Python can be used to concatenate two lists. In this case, the `+` operator is used to concatenate the `list1` and `list2` lists into a single list, and then the `min()` function is used to find the smallest value in the concatenated list.\n",
       "\n",
       "For example, if `list1` contains the values `[1, 2, 3]` and `list2` contains the values `[4, 5, 6]`, then the expression `min(list1 + list2)` would return the value `1`, which is the smallest value in the concatenated list `[1, 2, 3, 4, 5, 6]`."
      ]
     },
     "execution_count": 9,
     "metadata": {},
     "output_type": "execute_result"
    }
   ],
   "source": [
    "code_chat.send_message(\"I'm confused by the + there, how does that work?\")"
   ]
  },
  {
   "cell_type": "code",
   "execution_count": null,
   "id": "3902ab9c-4acd-4ff9-8aa9-a30a1a7190c0",
   "metadata": {},
   "outputs": [],
   "source": []
  }
 ],
 "metadata": {
  "kernelspec": {
   "display_name": "Python 3 (ipykernel)",
   "language": "python",
   "name": "python3"
  },
  "language_info": {
   "codemirror_mode": {
    "name": "ipython",
    "version": 3
   },
   "file_extension": ".py",
   "mimetype": "text/x-python",
   "name": "python",
   "nbconvert_exporter": "python",
   "pygments_lexer": "ipython3",
   "version": "3.9.12"
  }
 },
 "nbformat": 4,
 "nbformat_minor": 5
}

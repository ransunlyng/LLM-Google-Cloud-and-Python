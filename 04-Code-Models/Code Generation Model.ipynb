{
 "cells": [
  {
   "cell_type": "code",
   "execution_count": 1,
   "id": "6477e814",
   "metadata": {},
   "outputs": [],
   "source": [
    "import os\n",
    "os.environ['GOOGLE_APPLICATION_CREDENTIALS'] = '/Users/tdraly/Library/CloudStorage/Dropbox/Mac/Downloads/silent-scanner-407313-877e12e3ea43.json'"
   ]
  },
  {
   "cell_type": "markdown",
   "id": "e7aa2b4b",
   "metadata": {},
   "source": [
    "## Code Generation Model"
   ]
  },
  {
   "cell_type": "code",
   "execution_count": 2,
   "id": "dc30a904",
   "metadata": {},
   "outputs": [],
   "source": [
    "from vertexai.language_models import CodeGenerationModel"
   ]
  },
  {
   "cell_type": "code",
   "execution_count": 3,
   "id": "92d53df0",
   "metadata": {},
   "outputs": [],
   "source": [
    "code_generation_model = CodeGenerationModel.from_pretrained('code-bison')"
   ]
  },
  {
   "cell_type": "code",
   "execution_count": 4,
   "id": "fd84a5d2",
   "metadata": {},
   "outputs": [],
   "source": [
    "prefix = \"\"\"Write a Python function that prints a Christmas Tree with ASCII.\"\"\""
   ]
  },
  {
   "cell_type": "code",
   "execution_count": 5,
   "id": "9973e268",
   "metadata": {},
   "outputs": [],
   "source": [
    "response = code_generation_model.predict(prefix=prefix,\n",
    "                                        temperature = 0,\n",
    "                                        max_output_tokens=2048)"
   ]
  },
  {
   "cell_type": "code",
   "execution_count": 7,
   "id": "f9943066",
   "metadata": {},
   "outputs": [
    {
     "name": "stdout",
     "output_type": "stream",
     "text": [
      "```python\n",
      "def print_christmas_tree(height):\n",
      "  \"\"\"Prints a Christmas tree with ASCII.\n",
      "\n",
      "  Args:\n",
      "    height: The height of the tree.\n",
      "  \"\"\"\n",
      "\n",
      "  # Create a list of the rows of the tree.\n",
      "  rows = []\n",
      "  for i in range(height):\n",
      "    # Create a row of the tree.\n",
      "    row = \" \" * (height - i - 1) + \"*\" * (2 * i + 1)\n",
      "    # Add the row to the list of rows.\n",
      "    rows.append(row)\n",
      "\n",
      "  # Print the rows of the tree.\n",
      "  for row in rows:\n",
      "    print(row)\n",
      "\n",
      "  # Print the trunk of the tree.\n",
      "  print(\" \" * (height - 1) + \"|\")\n",
      "```\n"
     ]
    }
   ],
   "source": [
    "print(response.text)"
   ]
  },
  {
   "cell_type": "code",
   "execution_count": 8,
   "id": "6b215a44",
   "metadata": {},
   "outputs": [],
   "source": [
    "def print_christmas_tree(height):\n",
    "  \"\"\"\n",
    "  Prints a Christmas tree with ASCII.\n",
    "\n",
    "  Args:\n",
    "    height: The height of the tree.\n",
    "  \"\"\"\n",
    "  # Create a list of the rows of the tree.\n",
    "  rows = []\n",
    "  for i in range(height):\n",
    "    # Create a row of the tree.\n",
    "    row = \" \" * (height - i - 1) + \"*\" * (2 * i + 1)\n",
    "    # Add the row to the list of rows.\n",
    "    rows.append(row)\n",
    "\n",
    "  # Print the rows of the tree.\n",
    "  for row in rows:\n",
    "    print(row)\n",
    "\n",
    "  # Print the trunk of the tree.\n",
    "  print(\" \" * (height - 1) + \"|\")"
   ]
  },
  {
   "cell_type": "code",
   "execution_count": 9,
   "id": "efe87135",
   "metadata": {},
   "outputs": [
    {
     "name": "stdout",
     "output_type": "stream",
     "text": [
      "       *\n",
      "      ***\n",
      "     *****\n",
      "    *******\n",
      "   *********\n",
      "  ***********\n",
      " *************\n",
      "***************\n",
      "       |\n"
     ]
    }
   ],
   "source": [
    "print_christmas_tree(8)"
   ]
  },
  {
   "cell_type": "code",
   "execution_count": null,
   "id": "edc5b6d7",
   "metadata": {},
   "outputs": [],
   "source": []
  },
  {
   "cell_type": "code",
   "execution_count": null,
   "id": "f7fdfe67",
   "metadata": {},
   "outputs": [],
   "source": []
  },
  {
   "cell_type": "markdown",
   "id": "afc1cbd5",
   "metadata": {},
   "source": [
    "## Code Chat Model"
   ]
  },
  {
   "cell_type": "code",
   "execution_count": 10,
   "id": "d2bbea0c",
   "metadata": {},
   "outputs": [],
   "source": [
    "from vertexai.language_models import CodeChatModel"
   ]
  },
  {
   "cell_type": "code",
   "execution_count": 12,
   "id": "a8f44052",
   "metadata": {},
   "outputs": [],
   "source": [
    "codechat_model = CodeChatModel.from_pretrained('codechat-bison')"
   ]
  },
  {
   "cell_type": "code",
   "execution_count": 13,
   "id": "b5b8e39b",
   "metadata": {},
   "outputs": [],
   "source": [
    "code_chat = codechat_model.start_chat()"
   ]
  },
  {
   "cell_type": "code",
   "execution_count": 14,
   "id": "1df7cb27",
   "metadata": {},
   "outputs": [
    {
     "data": {
      "text/plain": [
       " ```python\n",
       "def find_smallest_number(list1):\n",
       "    smallest = list1[0]\n",
       "    for num in list1:\n",
       "        if num < smallest:\n",
       "            smallest = num\n",
       "    return smallest\n",
       "\n",
       "# Example\n",
       "list1 = [10, 20, 4, 5, 6, 7, 8, 9]\n",
       "print(\"Smallest number in the list:\", find_smallest_number(list1))\n",
       "```"
      ]
     },
     "execution_count": 14,
     "metadata": {},
     "output_type": "execute_result"
    }
   ],
   "source": [
    "code_chat.send_message(\"Write a Python function that can calculate the samllest number in a list\")"
   ]
  },
  {
   "cell_type": "code",
   "execution_count": 15,
   "id": "63e38cb0",
   "metadata": {},
   "outputs": [
    {
     "data": {
      "text/plain": [
       "[ChatMessage(content='Write a Python function that can calculate the samllest number in a list', author='user'),\n",
       " ChatMessage(content=' ```python\\ndef find_smallest_number(list1):\\n    smallest = list1[0]\\n    for num in list1:\\n        if num < smallest:\\n            smallest = num\\n    return smallest\\n\\n# Example\\nlist1 = [10, 20, 4, 5, 6, 7, 8, 9]\\nprint(\"Smallest number in the list:\", find_smallest_number(list1))\\n```', author='bot')]"
      ]
     },
     "execution_count": 15,
     "metadata": {},
     "output_type": "execute_result"
    }
   ],
   "source": [
    "code_chat.message_history"
   ]
  },
  {
   "cell_type": "code",
   "execution_count": 16,
   "id": "9552d4b4",
   "metadata": {},
   "outputs": [
    {
     "data": {
      "text/plain": [
       " ```python\n",
       "def find_smallest_number(list1, list2):\n",
       "    # Combine the two lists\n",
       "    combined_list = list1 + list2\n",
       "\n",
       "    # Find the smallest number in the combined list\n",
       "    smallest = combined_list[0]\n",
       "    for num in combined_list:\n",
       "        if num < smallest:\n",
       "            smallest = num\n",
       "\n",
       "    return smallest\n",
       "\n",
       "# Example\n",
       "list1 = [10, 20, 4, 5, 6, 7, 8, 9]\n",
       "list2 = [3, 11, 12, 13, 14, 15, 16, 17]\n",
       "print(\"Smallest number between the two lists:\", find_smallest_number(list1, list2))\n",
       "```"
      ]
     },
     "execution_count": 16,
     "metadata": {},
     "output_type": "execute_result"
    }
   ],
   "source": [
    "code_chat.send_message(\"Update the function so that it can grab the smallest value between two lists\")"
   ]
  },
  {
   "cell_type": "code",
   "execution_count": 17,
   "id": "489b4a9d",
   "metadata": {},
   "outputs": [
    {
     "data": {
      "text/plain": [
       " The `min()` function can indeed be used to find the smallest number in a list. Here's an example of how you can use it:\n",
       "\n",
       "```python\n",
       "def find_smallest_number(list1):\n",
       "    smallest = min(list1)\n",
       "    return smallest\n",
       "```\n",
       "\n",
       "This code is more concise and efficient compared to the previous implementation that iterates through the list to find the smallest number. The `min()` function takes an iterable (such as a list) as input and returns the smallest element from that iterable.\n",
       "\n",
       "However, the `min()` function can only be used to find the smallest number within a single list. If you want to find the smallest number between two or more lists, you would need to use a different approach, such as the one provided in the previous response."
      ]
     },
     "execution_count": 17,
     "metadata": {},
     "output_type": "execute_result"
    }
   ],
   "source": [
    "code_chat.send_message(\"Why didn't you use min() function to find the smallest number instead of going through the lists\")"
   ]
  },
  {
   "cell_type": "code",
   "execution_count": null,
   "id": "296089c1",
   "metadata": {},
   "outputs": [],
   "source": []
  },
  {
   "cell_type": "code",
   "execution_count": null,
   "id": "a741d355",
   "metadata": {},
   "outputs": [],
   "source": []
  },
  {
   "cell_type": "code",
   "execution_count": null,
   "id": "c53e644b",
   "metadata": {},
   "outputs": [],
   "source": []
  },
  {
   "cell_type": "markdown",
   "id": "a0cc0708",
   "metadata": {},
   "source": [
    "## Code Completion Model"
   ]
  },
  {
   "cell_type": "code",
   "execution_count": 18,
   "id": "065acf27",
   "metadata": {},
   "outputs": [],
   "source": [
    "from vertexai.language_models import CodeGenerationModel"
   ]
  },
  {
   "cell_type": "code",
   "execution_count": 19,
   "id": "9c00510a",
   "metadata": {},
   "outputs": [],
   "source": [
    "code_complete = CodeGenerationModel.from_pretrained('code-gecko')"
   ]
  },
  {
   "cell_type": "code",
   "execution_count": 20,
   "id": "efcd1c0a",
   "metadata": {},
   "outputs": [],
   "source": [
    "prefix = \"\"\"\n",
    "def get_min_value(mylist):\n",
    "\"\"\""
   ]
  },
  {
   "cell_type": "code",
   "execution_count": 21,
   "id": "c482ecfb",
   "metadata": {},
   "outputs": [
    {
     "data": {
      "text/plain": [
       "    min_value = mylist[0]\n",
       "    for i in mylist:\n",
       "        if i < min_value:\n",
       "            min_value = i\n",
       "    return min_value"
      ]
     },
     "execution_count": 21,
     "metadata": {},
     "output_type": "execute_result"
    }
   ],
   "source": [
    "code_complete.predict(prefix=prefix)"
   ]
  },
  {
   "cell_type": "code",
   "execution_count": null,
   "id": "7fe3d9f8",
   "metadata": {},
   "outputs": [],
   "source": []
  }
 ],
 "metadata": {
  "kernelspec": {
   "display_name": "Python 3 (ipykernel)",
   "language": "python",
   "name": "python3"
  },
  "language_info": {
   "codemirror_mode": {
    "name": "ipython",
    "version": 3
   },
   "file_extension": ".py",
   "mimetype": "text/x-python",
   "name": "python",
   "nbconvert_exporter": "python",
   "pygments_lexer": "ipython3",
   "version": "3.11.4"
  }
 },
 "nbformat": 4,
 "nbformat_minor": 5
}

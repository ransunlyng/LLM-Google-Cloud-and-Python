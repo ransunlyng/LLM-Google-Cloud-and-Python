{
 "cells": [
  {
   "cell_type": "markdown",
   "id": "4fe54735-1c2f-4ab6-a8e0-19e743a135a3",
   "metadata": {},
   "source": [
    "<center><a href=\"https://www.pieriantraining.com/\" target=\"_blank\"><img src=\"../PTCenteredPurple.png\" alt=\"Pierian Training Logo\" /></a></center>\n"
   ]
  },
  {
   "cell_type": "markdown",
   "id": "4cbeca1d-5190-4346-8599-9222dac6b4c1",
   "metadata": {},
   "source": [
    "# Providing Examples (Few Shot Template)"
   ]
  },
  {
   "cell_type": "code",
   "execution_count": 111,
   "id": "b06f0160-8128-4df4-8465-9ab97d9d0efa",
   "metadata": {},
   "outputs": [],
   "source": [
    "from vertexai.language_models import TextGenerationModel, ChatModel, InputOutputTextPair"
   ]
  },
  {
   "cell_type": "code",
   "execution_count": 72,
   "id": "bfff8de0-9097-40ff-985c-8b2c8a10099c",
   "metadata": {},
   "outputs": [],
   "source": [
    "model_name = 'text-bison'"
   ]
  },
  {
   "cell_type": "code",
   "execution_count": 80,
   "id": "9b757fb1-73d9-497f-8c58-92a28bfe76ed",
   "metadata": {},
   "outputs": [],
   "source": [
    "model = TextGenerationModel.from_pretrained(model_name)"
   ]
  },
  {
   "cell_type": "code",
   "execution_count": 107,
   "id": "b59953ef-4ed2-4d4b-a8e7-4f101fdddaf6",
   "metadata": {},
   "outputs": [],
   "source": [
    "prompt = '''Given a category, create a list of 3 examples.\n",
    "Input: Car Brands\n",
    "Output: 1. Tesla 2. Toyota 3. Pontiac\n",
    "\n",
    "Input: Car Brands\n",
    "Output: 1. Tesla 2. Toyota 3. Pontiac\n",
    "\n",
    "Input: Fruits\n",
    "Output: \n",
    "'''"
   ]
  },
  {
   "cell_type": "code",
   "execution_count": 109,
   "id": "8ac9768d-5e89-4792-b31d-25ec4621201b",
   "metadata": {},
   "outputs": [
    {
     "data": {
      "text/plain": [
       " 1. Apple 2. Orange 3. Banana\n"
      ]
     },
     "execution_count": 109,
     "metadata": {},
     "output_type": "execute_result"
    }
   ],
   "source": [
    "model.predict(prompt=prompt,stop_sequences=['Input:'])"
   ]
  },
  {
   "cell_type": "code",
   "execution_count": 110,
   "id": "5e6476f2-604e-472e-9ba5-af13847d51c5",
   "metadata": {},
   "outputs": [],
   "source": [
    "chat_model = ChatModel.from_pretrained('chat-bison')"
   ]
  },
  {
   "cell_type": "code",
   "execution_count": 112,
   "id": "fe463c3a-8a43-40b7-b95c-cb48795de21d",
   "metadata": {},
   "outputs": [],
   "source": [
    "pair_one = InputOutputTextPair(input_text='Car Brands',\n",
    "                               output_text='1. Tesla 2. Toyota 3. Pontiac')\n",
    "pair_two = InputOutputTextPair(input_text='Fruits',\n",
    "                               output_text='1. Apple 2. Strawberry 3. Pear')\n",
    "\n",
    "chat = chat_model.start_chat(examples=[pair_one,pair_two],context='Given a category, create a list of 3 examples.')"
   ]
  },
  {
   "cell_type": "code",
   "execution_count": 113,
   "id": "ecd2f2ec-d17b-45f1-bdb8-f61256672442",
   "metadata": {},
   "outputs": [
    {
     "data": {
      "text/plain": [
       " 1. Onion 2. Lettuce 3. Carrot"
      ]
     },
     "execution_count": 113,
     "metadata": {},
     "output_type": "execute_result"
    }
   ],
   "source": [
    "chat.send_message('Vegetables')"
   ]
  },
  {
   "cell_type": "code",
   "execution_count": null,
   "id": "b8a74f34-198a-4846-bbce-fc0df35952fd",
   "metadata": {},
   "outputs": [],
   "source": []
  }
 ],
 "metadata": {
  "kernelspec": {
   "display_name": "Python 3 (ipykernel)",
   "language": "python",
   "name": "python3"
  },
  "language_info": {
   "codemirror_mode": {
    "name": "ipython",
    "version": 3
   },
   "file_extension": ".py",
   "mimetype": "text/x-python",
   "name": "python",
   "nbconvert_exporter": "python",
   "pygments_lexer": "ipython3",
   "version": "3.9.12"
  }
 },
 "nbformat": 4,
 "nbformat_minor": 5
}

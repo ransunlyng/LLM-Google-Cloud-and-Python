{
 "cells": [
  {
   "cell_type": "markdown",
   "id": "4fe54735-1c2f-4ab6-a8e0-19e743a135a3",
   "metadata": {},
   "source": [
    "<center><a href=\"https://www.pieriantraining.com/\" target=\"_blank\"><img src=\"../PTCenteredPurple.png\" alt=\"Pierian Training Logo\" /></a></center>\n"
   ]
  },
  {
   "cell_type": "markdown",
   "id": "4cbeca1d-5190-4346-8599-9222dac6b4c1",
   "metadata": {},
   "source": [
    "# Set-Up and First Call"
   ]
  },
  {
   "cell_type": "markdown",
   "id": "af592ff5-7d5d-47a5-990d-96759337a851",
   "metadata": {},
   "source": [
    "## Install Vertex AI SDK for Python"
   ]
  },
  {
   "cell_type": "markdown",
   "id": "dbf60b9d-995a-42cf-b09b-a2875cc60167",
   "metadata": {},
   "source": [
    "Install the Vertex AI SDK package\n",
    "To install the Vertex AI SDK, run the following command in your virtual environment (virtual environment is optional, but its good practice):"
   ]
  },
  {
   "cell_type": "code",
   "execution_count": 1,
   "id": "168b54d9-f94b-4df7-872e-df27350e44a8",
   "metadata": {},
   "outputs": [],
   "source": [
    "# !pip install google-cloud-aiplatform\n",
    "\n",
    "# Note, you may need to upgrade other libraries, for example:\n",
    "# pip install --upgrade proto-plus\n",
    "# Check if you get a ContextualVersionConflict and then upgrade the necessary libraries\n",
    "# If you get an error"
   ]
  },
  {
   "cell_type": "markdown",
   "id": "6fb91e3d-75bf-4922-a242-2d64fb6cc177",
   "metadata": {},
   "source": [
    "## Create Credentials\n",
    "\n",
    "This involves set-ups inside Google Cloud Console and then downloading those credentials to your computer. Watch the video, but here are the basic steps:\n",
    "\n",
    "* Set Up a Google Cloud Project\n",
    "    * Go to the Google Cloud Console.\n",
    "    * Create a new project or select an existing one.\n",
    "    * Navigate to the \"API & Services > Credentials\" page.\n",
    "* Create a Service Account and Download the Key\n",
    "    * Click \"Create credentials\" and select \"Service account.\"\n",
    "    * Fill out the form and click \"Create.\"\n",
    "    * Assign a role to your service account that grants the necessary permissions (e.g., Editor, Viewer, or a specific API-related role).\n",
    "    * Click \"Done.\"\n",
    "    * Go back to the \"Credentials\" page, click on the service account you just created.\n",
    "    * Under the \"Keys\" section, click \"Add Key\" and choose \"JSON.\"\n",
    "    * The JSON key file will be downloaded to your computer. Store it securely and remember the file path!"
   ]
  },
  {
   "cell_type": "markdown",
   "id": "528f02f0-d933-4340-a5fd-74843d2fb8a1",
   "metadata": {},
   "source": [
    "## Connect to Google Cloud via Python and Downloaded Credentials\n",
    "\n",
    "Now that you've downloaded those credentials somewhere on your computer, let your Python application know where they are by setting it up as an environment variable. You can do this at your command line, manually in your OS, or simply with Python:"
   ]
  },
  {
   "cell_type": "code",
   "execution_count": 3,
   "id": "105a7e6c-2dcb-4732-8e37-bccea7f325c2",
   "metadata": {},
   "outputs": [],
   "source": [
    "import os"
   ]
  },
  {
   "cell_type": "code",
   "execution_count": 4,
   "id": "90aa049c-7fa0-4828-879d-e7b1fa9a5769",
   "metadata": {},
   "outputs": [
    {
     "data": {
      "text/plain": [
       "'D:\\\\Pierian-Data-Courses\\\\LLMs-with-Google-Cloud\\\\02-Vertex-AI-API-Python-Connection'"
      ]
     },
     "execution_count": 4,
     "metadata": {},
     "output_type": "execute_result"
    }
   ],
   "source": [
    "# Run this to see the file path where your notebook is located\n",
    "# NOTE THE FORMATTING, FOR EXAMPLE WINDOWS USES \\\\ instead of /\n",
    "# You need to follow this formatting in the next cell!\n",
    "os.getcwd()"
   ]
  },
  {
   "cell_type": "markdown",
   "id": "7f432699-2133-48ea-aefb-5c3438ae17d9",
   "metadata": {},
   "source": [
    "Now find the location of your downloaded .json file and connect it."
   ]
  },
  {
   "cell_type": "code",
   "execution_count": 5,
   "id": "e448934e-f3bc-4c08-be9e-64bf1b459b73",
   "metadata": {},
   "outputs": [],
   "source": [
    "os.environ['GOOGLE_APPLICATION_CREDENTIALS'] = 'C:\\\\Users\\\\Marcial\\\\Downloads\\\\trusted-tester-pierian-20c16382ecd5.json'"
   ]
  },
  {
   "cell_type": "markdown",
   "id": "e527a2d1-c4a6-4e34-ae6a-632a3acdd2a0",
   "metadata": {},
   "source": [
    "## Run Relevant Imports\n",
    "\n",
    "Reference: https://cloud.google.com/python/docs/reference/aiplatform/latest/vertexai.language_models"
   ]
  },
  {
   "cell_type": "code",
   "execution_count": 5,
   "id": "4fe8468a-4928-4aaf-a013-05c9c55fcdfa",
   "metadata": {},
   "outputs": [],
   "source": [
    "from google.cloud import aiplatform"
   ]
  },
  {
   "cell_type": "code",
   "execution_count": 6,
   "id": "d5d3331c-0723-432b-960b-c6ef9603e607",
   "metadata": {},
   "outputs": [],
   "source": [
    "import vertexai"
   ]
  },
  {
   "cell_type": "code",
   "execution_count": 9,
   "id": "1c221783-31ca-4ec9-a0e6-b3179310e5a6",
   "metadata": {},
   "outputs": [],
   "source": [
    "from vertexai.language_models import ChatModel"
   ]
  },
  {
   "cell_type": "markdown",
   "id": "158b1437-f542-44a2-b9c7-a7c6bd085082",
   "metadata": {},
   "source": [
    "## Set-Up Chat Model\n",
    "\n",
    "Available Models: https://cloud.google.com/vertex-ai/docs/generative-ai/learn/models"
   ]
  },
  {
   "cell_type": "code",
   "execution_count": 14,
   "id": "5a46e9c6-d623-4f8a-a252-b1e4b4d56385",
   "metadata": {},
   "outputs": [],
   "source": [
    "# Choose this string based on Console Lecture\n",
    "model_name = 'chat-bison'\n",
    "model = ChatModel.from_pretrained(model_name)"
   ]
  },
  {
   "cell_type": "code",
   "execution_count": 18,
   "id": "90c1cea2-fa26-41db-91c4-ad1ea470b6d3",
   "metadata": {},
   "outputs": [],
   "source": [
    "context = \"My name is Jose. You are my personal tutor.\""
   ]
  },
  {
   "cell_type": "code",
   "execution_count": 19,
   "id": "b8c143eb-2b7c-4640-b8ed-d25edf108125",
   "metadata": {},
   "outputs": [],
   "source": [
    "chat = model.start_chat(context=context)"
   ]
  },
  {
   "cell_type": "code",
   "execution_count": 20,
   "id": "5f3fb4ca-f33d-4c48-92b3-52902e41452c",
   "metadata": {},
   "outputs": [
    {
     "data": {
      "text/plain": [
       " Machine learning (ML) is the ability of a computer program to learn without being explicitly programmed. "
      ]
     },
     "execution_count": 20,
     "metadata": {},
     "output_type": "execute_result"
    }
   ],
   "source": [
    "chat.send_message(\"What is Machine Learning?\")"
   ]
  },
  {
   "cell_type": "code",
   "execution_count": 21,
   "id": "50621be9-115c-4da4-bc50-5d01245ead69",
   "metadata": {},
   "outputs": [],
   "source": [
    "context = \"You explain complex topics in great detail and always provide examples\""
   ]
  },
  {
   "cell_type": "code",
   "execution_count": 22,
   "id": "e5357cdf-33d8-47e3-8a95-c9f9f45a03a5",
   "metadata": {},
   "outputs": [
    {
     "data": {
      "text/plain": [
       " Machine learning (ML) is the ability of a computer program to learn without being explicitly programmed. It is a subfield of artificial intelligence (AI) based on the idea that systems can learn from data, identify patterns and make decisions without being explicitly programmed.\n",
       "\n",
       "Machine learning algorithms are typically trained on data, and then used to make predictions on new data. For example, a machine learning algorithm could be trained on a dataset of historical stock prices to predict future stock prices.\n",
       "\n",
       "Machine learning algorithms can be used for a wide variety of tasks, including:\n",
       "\n",
       "* **Classification:** Assigning a label to an input, such as \"spam\" or \"not spam\".\n",
       "* **Regression:** Predicting a continuous value, such as the price of a stock or the temperature tomorrow.\n",
       "* **Clustering:** Grouping similar data points together, such as customers with similar buying habits.\n",
       "* **Dimensionality reduction:** Reducing the number of features in a dataset, while preserving as much information as possible.\n",
       "\n",
       "Machine learning is a powerful tool that is being used in a wide variety of applications, including:\n",
       "\n",
       "* **Image recognition:** Machine learning algorithms can be trained to identify objects in images, such as faces, cars, and animals.\n",
       "* **Natural language processing:** Machine learning algorithms can be used to understand and generate human language, such as translating languages and answering questions.\n",
       "* **Speech recognition:** Machine learning algorithms can be used to recognize spoken words, such as voice commands and dictation.\n",
       "* **Fraud detection:** Machine learning algorithms can be used to detect fraudulent transactions, such as credit card fraud and insurance fraud.\n",
       "* **Recommendation systems:** Machine learning algorithms can be used to recommend products, movies, and music to users, based on their past preferences.\n",
       "\n",
       "Machine learning is a rapidly growing field, and new applications are being developed all the time. As the amount of data available continues to grow, machine learning will become even more important in helping us to make sense of the world around us."
      ]
     },
     "execution_count": 22,
     "metadata": {},
     "output_type": "execute_result"
    }
   ],
   "source": [
    "chat = model.start_chat(context=context)\n",
    "chat.send_message(\"What is Machine Learning?\")"
   ]
  },
  {
   "cell_type": "markdown",
   "id": "7cb2d9da-a0a6-4990-872a-60f9d34c1d59",
   "metadata": {},
   "source": [
    "# Use a Text Model"
   ]
  },
  {
   "cell_type": "code",
   "execution_count": 6,
   "id": "fd28db09-c49d-4e84-8627-f28d78d96ce4",
   "metadata": {},
   "outputs": [],
   "source": [
    "from vertexai.language_models import TextGenerationModel"
   ]
  },
  {
   "cell_type": "code",
   "execution_count": 7,
   "id": "e055f208-30c8-47e9-a8e1-97cabcc1676d",
   "metadata": {},
   "outputs": [],
   "source": [
    "# Choose this string based on Console Lecture\n",
    "model_name = 'text-bison'\n",
    "model = TextGenerationModel.from_pretrained(model_name)"
   ]
  },
  {
   "cell_type": "code",
   "execution_count": 8,
   "id": "eb1c96f6-78a2-4b7d-9986-d2acfccf3fcc",
   "metadata": {},
   "outputs": [
    {
     "name": "stdout",
     "output_type": "stream",
     "text": [
      " There once was a dog named Sparky,\n",
      "Who was always quite playful and barky.\n",
      "He loved to chase balls,\n",
      "And run down the halls,\n",
      "And he never failed to make me happy.\n",
      "\n",
      "One day, Sparky was playing in the park,\n",
      "When he saw a squirrel and started to bark.\n",
      "He chased the squirrel up a tree,\n",
      "But the squirrel was too quick, you see,\n",
      "And Sparky came tumbling down with a spark.\n",
      "\n",
      "He landed in a big pile of mud,\n",
      "And he looked like a giant chocolate bud.\n",
      "I couldn't help but laugh,\n",
      "At\n"
     ]
    }
   ],
   "source": [
    "response = model.predict(\n",
    "    prompt=\"Write me a funny poem about dogs\",\n",
    "     \n",
    ")\n",
    " \n",
    "print(response.text)"
   ]
  },
  {
   "cell_type": "code",
   "execution_count": null,
   "id": "e5514c18-af11-4472-bf1e-a0806c77f1e8",
   "metadata": {},
   "outputs": [],
   "source": []
  }
 ],
 "metadata": {
  "kernelspec": {
   "display_name": "Python 3 (ipykernel)",
   "language": "python",
   "name": "python3"
  },
  "language_info": {
   "codemirror_mode": {
    "name": "ipython",
    "version": 3
   },
   "file_extension": ".py",
   "mimetype": "text/x-python",
   "name": "python",
   "nbconvert_exporter": "python",
   "pygments_lexer": "ipython3",
   "version": "3.9.12"
  }
 },
 "nbformat": 4,
 "nbformat_minor": 5
}

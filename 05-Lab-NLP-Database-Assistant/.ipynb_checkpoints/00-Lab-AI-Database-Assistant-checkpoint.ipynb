{
 "cells": [
  {
   "cell_type": "markdown",
   "id": "4fe54735-1c2f-4ab6-a8e0-19e743a135a3",
   "metadata": {},
   "source": [
    "<center><a href=\"https://www.pieriantraining.com/\" ><img src=\"../PTCenteredPurple.png\" alt=\"Pierian Training Logo\" /></a></center>\n"
   ]
  },
  {
   "cell_type": "markdown",
   "id": "4cbeca1d-5190-4346-8599-9222dac6b4c1",
   "metadata": {},
   "source": [
    "# Lab\n",
    "# AI Database Assistant"
   ]
  },
  {
   "cell_type": "code",
   "execution_count": 18,
   "id": "7a9e819c-e570-4e97-b8f1-42e465b1d9a6",
   "metadata": {},
   "outputs": [],
   "source": [
    "import pandas as pd"
   ]
  },
  {
   "cell_type": "code",
   "execution_count": 19,
   "id": "b3550663-1aef-4549-b528-43d1f408a656",
   "metadata": {},
   "outputs": [],
   "source": [
    "df = pd.read_csv('penguins.csv')"
   ]
  },
  {
   "cell_type": "code",
   "execution_count": 20,
   "id": "371dbb06-f9e3-4a8f-908d-eb1f17b4f6dc",
   "metadata": {},
   "outputs": [
    {
     "data": {
      "text/html": [
       "<div>\n",
       "<style scoped>\n",
       "    .dataframe tbody tr th:only-of-type {\n",
       "        vertical-align: middle;\n",
       "    }\n",
       "\n",
       "    .dataframe tbody tr th {\n",
       "        vertical-align: top;\n",
       "    }\n",
       "\n",
       "    .dataframe thead th {\n",
       "        text-align: right;\n",
       "    }\n",
       "</style>\n",
       "<table border=\"1\" class=\"dataframe\">\n",
       "  <thead>\n",
       "    <tr style=\"text-align: right;\">\n",
       "      <th></th>\n",
       "      <th>species</th>\n",
       "      <th>island</th>\n",
       "      <th>bill_length_mm</th>\n",
       "      <th>bill_depth_mm</th>\n",
       "      <th>flipper_length_mm</th>\n",
       "      <th>body_mass_g</th>\n",
       "      <th>sex</th>\n",
       "    </tr>\n",
       "  </thead>\n",
       "  <tbody>\n",
       "    <tr>\n",
       "      <th>0</th>\n",
       "      <td>Adelie</td>\n",
       "      <td>Torgersen</td>\n",
       "      <td>39.1</td>\n",
       "      <td>18.7</td>\n",
       "      <td>181.0</td>\n",
       "      <td>3750.0</td>\n",
       "      <td>MALE</td>\n",
       "    </tr>\n",
       "    <tr>\n",
       "      <th>1</th>\n",
       "      <td>Adelie</td>\n",
       "      <td>Torgersen</td>\n",
       "      <td>39.5</td>\n",
       "      <td>17.4</td>\n",
       "      <td>186.0</td>\n",
       "      <td>3800.0</td>\n",
       "      <td>FEMALE</td>\n",
       "    </tr>\n",
       "    <tr>\n",
       "      <th>2</th>\n",
       "      <td>Adelie</td>\n",
       "      <td>Torgersen</td>\n",
       "      <td>40.3</td>\n",
       "      <td>18.0</td>\n",
       "      <td>195.0</td>\n",
       "      <td>3250.0</td>\n",
       "      <td>FEMALE</td>\n",
       "    </tr>\n",
       "    <tr>\n",
       "      <th>3</th>\n",
       "      <td>Adelie</td>\n",
       "      <td>Torgersen</td>\n",
       "      <td>NaN</td>\n",
       "      <td>NaN</td>\n",
       "      <td>NaN</td>\n",
       "      <td>NaN</td>\n",
       "      <td>NaN</td>\n",
       "    </tr>\n",
       "    <tr>\n",
       "      <th>4</th>\n",
       "      <td>Adelie</td>\n",
       "      <td>Torgersen</td>\n",
       "      <td>36.7</td>\n",
       "      <td>19.3</td>\n",
       "      <td>193.0</td>\n",
       "      <td>3450.0</td>\n",
       "      <td>FEMALE</td>\n",
       "    </tr>\n",
       "  </tbody>\n",
       "</table>\n",
       "</div>"
      ],
      "text/plain": [
       "  species     island  bill_length_mm  bill_depth_mm  flipper_length_mm  \\\n",
       "0  Adelie  Torgersen            39.1           18.7              181.0   \n",
       "1  Adelie  Torgersen            39.5           17.4              186.0   \n",
       "2  Adelie  Torgersen            40.3           18.0              195.0   \n",
       "3  Adelie  Torgersen             NaN            NaN                NaN   \n",
       "4  Adelie  Torgersen            36.7           19.3              193.0   \n",
       "\n",
       "   body_mass_g     sex  \n",
       "0       3750.0    MALE  \n",
       "1       3800.0  FEMALE  \n",
       "2       3250.0  FEMALE  \n",
       "3          NaN     NaN  \n",
       "4       3450.0  FEMALE  "
      ]
     },
     "execution_count": 20,
     "metadata": {},
     "output_type": "execute_result"
    }
   ],
   "source": [
    "df.head()"
   ]
  },
  {
   "cell_type": "markdown",
   "id": "89ab5c90-d2b2-4d2b-9337-806ad32956ec",
   "metadata": {},
   "source": [
    "## Convert CSV File to SQL Database in RAM"
   ]
  },
  {
   "cell_type": "code",
   "execution_count": 21,
   "id": "13d4ae56-f321-4106-830e-7b6b45b93ac8",
   "metadata": {},
   "outputs": [],
   "source": [
    "from sqlalchemy import create_engine\n",
    "from sqlalchemy import text"
   ]
  },
  {
   "cell_type": "code",
   "execution_count": 22,
   "id": "34ddd48a-3836-43be-b581-b79149ecc5b9",
   "metadata": {},
   "outputs": [],
   "source": [
    "temp_db = create_engine('sqlite:///:memory:', echo=True)"
   ]
  },
  {
   "cell_type": "code",
   "execution_count": 23,
   "id": "cdf65796-6885-4900-9d60-c395b0d4b0a2",
   "metadata": {},
   "outputs": [
    {
     "name": "stdout",
     "output_type": "stream",
     "text": [
      "2023-10-14 22:25:53,523 INFO sqlalchemy.engine.Engine PRAGMA main.table_info(\"Penguins\")\n",
      "2023-10-14 22:25:53,523 INFO sqlalchemy.engine.Engine [raw sql] ()\n",
      "2023-10-14 22:25:53,524 INFO sqlalchemy.engine.Engine PRAGMA temp.table_info(\"Penguins\")\n",
      "2023-10-14 22:25:53,524 INFO sqlalchemy.engine.Engine [raw sql] ()\n",
      "2023-10-14 22:25:53,527 INFO sqlalchemy.engine.Engine BEGIN (implicit)\n",
      "2023-10-14 22:25:53,528 INFO sqlalchemy.engine.Engine \n",
      "CREATE TABLE \"Penguins\" (\n",
      "\t\"index\" BIGINT, \n",
      "\tspecies TEXT, \n",
      "\tisland TEXT, \n",
      "\tbill_length_mm FLOAT, \n",
      "\tbill_depth_mm FLOAT, \n",
      "\tflipper_length_mm FLOAT, \n",
      "\tbody_mass_g FLOAT, \n",
      "\tsex TEXT\n",
      ")\n",
      "\n",
      "\n",
      "2023-10-14 22:25:53,528 INFO sqlalchemy.engine.Engine [no key 0.00047s] ()\n",
      "2023-10-14 22:25:53,530 INFO sqlalchemy.engine.Engine CREATE INDEX \"ix_Penguins_index\" ON \"Penguins\" (\"index\")\n",
      "2023-10-14 22:25:53,530 INFO sqlalchemy.engine.Engine [no key 0.00081s] ()\n",
      "2023-10-14 22:25:53,532 INFO sqlalchemy.engine.Engine COMMIT\n",
      "2023-10-14 22:25:53,533 INFO sqlalchemy.engine.Engine BEGIN (implicit)\n",
      "2023-10-14 22:25:53,536 INFO sqlalchemy.engine.Engine INSERT INTO \"Penguins\" (\"index\", species, island, bill_length_mm, bill_depth_mm, flipper_length_mm, body_mass_g, sex) VALUES (?, ?, ?, ?, ?, ?, ?, ?)\n",
      "2023-10-14 22:25:53,536 INFO sqlalchemy.engine.Engine [generated in 0.00180s] ((0, 'Adelie', 'Torgersen', 39.1, 18.7, 181.0, 3750.0, 'MALE'), (1, 'Adelie', 'Torgersen', 39.5, 17.4, 186.0, 3800.0, 'FEMALE'), (2, 'Adelie', 'Torgersen', 40.3, 18.0, 195.0, 3250.0, 'FEMALE'), (3, 'Adelie', 'Torgersen', None, None, None, None, None), (4, 'Adelie', 'Torgersen', 36.7, 19.3, 193.0, 3450.0, 'FEMALE'), (5, 'Adelie', 'Torgersen', 39.3, 20.6, 190.0, 3650.0, 'MALE'), (6, 'Adelie', 'Torgersen', 38.9, 17.8, 181.0, 3625.0, 'FEMALE'), (7, 'Adelie', 'Torgersen', 39.2, 19.6, 195.0, 4675.0, 'MALE')  ... displaying 10 of 344 total bound parameter sets ...  (342, 'Gentoo', 'Biscoe', 45.2, 14.8, 212.0, 5200.0, 'FEMALE'), (343, 'Gentoo', 'Biscoe', 49.9, 16.1, 213.0, 5400.0, 'MALE'))\n",
      "2023-10-14 22:25:53,538 INFO sqlalchemy.engine.Engine COMMIT\n",
      "2023-10-14 22:25:53,539 INFO sqlalchemy.engine.Engine SELECT name FROM sqlite_master WHERE type='table' ORDER BY name\n",
      "2023-10-14 22:25:53,539 INFO sqlalchemy.engine.Engine [raw sql] ()\n"
     ]
    }
   ],
   "source": [
    "# Name the new database table Penguins\n",
    "data = df.to_sql(name='Penguins',con=temp_db)"
   ]
  },
  {
   "cell_type": "markdown",
   "id": "991fd8f4-1793-4536-9ce7-5ce31cd424cf",
   "metadata": {},
   "source": [
    "## Connect to SQL DataBase\n",
    "\n",
    "Using SQL Alchemy we can establish a connection to this temporary database and query it for the results:"
   ]
  },
  {
   "cell_type": "code",
   "execution_count": 24,
   "id": "7815d40d-f890-4572-bf4e-72e50abe8f25",
   "metadata": {},
   "outputs": [
    {
     "name": "stdout",
     "output_type": "stream",
     "text": [
      "2023-10-14 22:25:54,197 INFO sqlalchemy.engine.Engine SELECT * FROM Penguins WHERE island='Torgersen'\n",
      "2023-10-14 22:25:54,198 INFO sqlalchemy.engine.Engine [generated in 0.00099s] ()\n"
     ]
    }
   ],
   "source": [
    "with temp_db.connect() as conn:\n",
    "    result = conn.execute(text(\"SELECT * FROM Penguins WHERE island='Torgersen'\"))"
   ]
  },
  {
   "cell_type": "code",
   "execution_count": 25,
   "id": "5c541541-b366-46ac-97f4-aa44915327b7",
   "metadata": {},
   "outputs": [
    {
     "data": {
      "text/plain": [
       "[(0, 'Adelie', 'Torgersen', 39.1, 18.7, 181.0, 3750.0, 'MALE'),\n",
       " (1, 'Adelie', 'Torgersen', 39.5, 17.4, 186.0, 3800.0, 'FEMALE'),\n",
       " (2, 'Adelie', 'Torgersen', 40.3, 18.0, 195.0, 3250.0, 'FEMALE'),\n",
       " (3, 'Adelie', 'Torgersen', None, None, None, None, None),\n",
       " (4, 'Adelie', 'Torgersen', 36.7, 19.3, 193.0, 3450.0, 'FEMALE'),\n",
       " (5, 'Adelie', 'Torgersen', 39.3, 20.6, 190.0, 3650.0, 'MALE'),\n",
       " (6, 'Adelie', 'Torgersen', 38.9, 17.8, 181.0, 3625.0, 'FEMALE'),\n",
       " (7, 'Adelie', 'Torgersen', 39.2, 19.6, 195.0, 4675.0, 'MALE'),\n",
       " (8, 'Adelie', 'Torgersen', 34.1, 18.1, 193.0, 3475.0, None),\n",
       " (9, 'Adelie', 'Torgersen', 42.0, 20.2, 190.0, 4250.0, None),\n",
       " (10, 'Adelie', 'Torgersen', 37.8, 17.1, 186.0, 3300.0, None),\n",
       " (11, 'Adelie', 'Torgersen', 37.8, 17.3, 180.0, 3700.0, None),\n",
       " (12, 'Adelie', 'Torgersen', 41.1, 17.6, 182.0, 3200.0, 'FEMALE'),\n",
       " (13, 'Adelie', 'Torgersen', 38.6, 21.2, 191.0, 3800.0, 'MALE'),\n",
       " (14, 'Adelie', 'Torgersen', 34.6, 21.1, 198.0, 4400.0, 'MALE'),\n",
       " (15, 'Adelie', 'Torgersen', 36.6, 17.8, 185.0, 3700.0, 'FEMALE'),\n",
       " (16, 'Adelie', 'Torgersen', 38.7, 19.0, 195.0, 3450.0, 'FEMALE'),\n",
       " (17, 'Adelie', 'Torgersen', 42.5, 20.7, 197.0, 4500.0, 'MALE'),\n",
       " (18, 'Adelie', 'Torgersen', 34.4, 18.4, 184.0, 3325.0, 'FEMALE'),\n",
       " (19, 'Adelie', 'Torgersen', 46.0, 21.5, 194.0, 4200.0, 'MALE'),\n",
       " (68, 'Adelie', 'Torgersen', 35.9, 16.6, 190.0, 3050.0, 'FEMALE'),\n",
       " (69, 'Adelie', 'Torgersen', 41.8, 19.4, 198.0, 4450.0, 'MALE'),\n",
       " (70, 'Adelie', 'Torgersen', 33.5, 19.0, 190.0, 3600.0, 'FEMALE'),\n",
       " (71, 'Adelie', 'Torgersen', 39.7, 18.4, 190.0, 3900.0, 'MALE'),\n",
       " (72, 'Adelie', 'Torgersen', 39.6, 17.2, 196.0, 3550.0, 'FEMALE'),\n",
       " (73, 'Adelie', 'Torgersen', 45.8, 18.9, 197.0, 4150.0, 'MALE'),\n",
       " (74, 'Adelie', 'Torgersen', 35.5, 17.5, 190.0, 3700.0, 'FEMALE'),\n",
       " (75, 'Adelie', 'Torgersen', 42.8, 18.5, 195.0, 4250.0, 'MALE'),\n",
       " (76, 'Adelie', 'Torgersen', 40.9, 16.8, 191.0, 3700.0, 'FEMALE'),\n",
       " (77, 'Adelie', 'Torgersen', 37.2, 19.4, 184.0, 3900.0, 'MALE'),\n",
       " (78, 'Adelie', 'Torgersen', 36.2, 16.1, 187.0, 3550.0, 'FEMALE'),\n",
       " (79, 'Adelie', 'Torgersen', 42.1, 19.1, 195.0, 4000.0, 'MALE'),\n",
       " (80, 'Adelie', 'Torgersen', 34.6, 17.2, 189.0, 3200.0, 'FEMALE'),\n",
       " (81, 'Adelie', 'Torgersen', 42.9, 17.6, 196.0, 4700.0, 'MALE'),\n",
       " (82, 'Adelie', 'Torgersen', 36.7, 18.8, 187.0, 3800.0, 'FEMALE'),\n",
       " (83, 'Adelie', 'Torgersen', 35.1, 19.4, 193.0, 4200.0, 'MALE'),\n",
       " (116, 'Adelie', 'Torgersen', 38.6, 17.0, 188.0, 2900.0, 'FEMALE'),\n",
       " (117, 'Adelie', 'Torgersen', 37.3, 20.5, 199.0, 3775.0, 'MALE'),\n",
       " (118, 'Adelie', 'Torgersen', 35.7, 17.0, 189.0, 3350.0, 'FEMALE'),\n",
       " (119, 'Adelie', 'Torgersen', 41.1, 18.6, 189.0, 3325.0, 'MALE'),\n",
       " (120, 'Adelie', 'Torgersen', 36.2, 17.2, 187.0, 3150.0, 'FEMALE'),\n",
       " (121, 'Adelie', 'Torgersen', 37.7, 19.8, 198.0, 3500.0, 'MALE'),\n",
       " (122, 'Adelie', 'Torgersen', 40.2, 17.0, 176.0, 3450.0, 'FEMALE'),\n",
       " (123, 'Adelie', 'Torgersen', 41.4, 18.5, 202.0, 3875.0, 'MALE'),\n",
       " (124, 'Adelie', 'Torgersen', 35.2, 15.9, 186.0, 3050.0, 'FEMALE'),\n",
       " (125, 'Adelie', 'Torgersen', 40.6, 19.0, 199.0, 4000.0, 'MALE'),\n",
       " (126, 'Adelie', 'Torgersen', 38.8, 17.6, 191.0, 3275.0, 'FEMALE'),\n",
       " (127, 'Adelie', 'Torgersen', 41.5, 18.3, 195.0, 4300.0, 'MALE'),\n",
       " (128, 'Adelie', 'Torgersen', 39.0, 17.1, 191.0, 3050.0, 'FEMALE'),\n",
       " (129, 'Adelie', 'Torgersen', 44.1, 18.0, 210.0, 4000.0, 'MALE'),\n",
       " (130, 'Adelie', 'Torgersen', 38.5, 17.9, 190.0, 3325.0, 'FEMALE'),\n",
       " (131, 'Adelie', 'Torgersen', 43.1, 19.2, 197.0, 3500.0, 'MALE')]"
      ]
     },
     "execution_count": 25,
     "metadata": {},
     "output_type": "execute_result"
    }
   ],
   "source": [
    "result.all()"
   ]
  },
  {
   "cell_type": "code",
   "execution_count": 26,
   "id": "72e6d98a-1760-4dff-97c1-4bd22f4d871b",
   "metadata": {},
   "outputs": [
    {
     "name": "stdout",
     "output_type": "stream",
     "text": [
      "<class 'pandas.core.frame.DataFrame'>\n",
      "RangeIndex: 344 entries, 0 to 343\n",
      "Data columns (total 7 columns):\n",
      " #   Column             Non-Null Count  Dtype  \n",
      "---  ------             --------------  -----  \n",
      " 0   species            344 non-null    object \n",
      " 1   island             344 non-null    object \n",
      " 2   bill_length_mm     342 non-null    float64\n",
      " 3   bill_depth_mm      342 non-null    float64\n",
      " 4   flipper_length_mm  342 non-null    float64\n",
      " 5   body_mass_g        342 non-null    float64\n",
      " 6   sex                333 non-null    object \n",
      "dtypes: float64(4), object(3)\n",
      "memory usage: 18.9+ KB\n"
     ]
    }
   ],
   "source": [
    "df.info()"
   ]
  },
  {
   "cell_type": "markdown",
   "id": "82041122-4ebd-4f76-855a-84e1228d06b6",
   "metadata": {},
   "source": [
    "## Using LLMs to Generate SQL from Natural Language\n",
    "\n",
    "First, let's create a prefix we can add to our prompts that helps the model understand the table:"
   ]
  },
  {
   "cell_type": "code",
   "execution_count": 80,
   "id": "3629699a-4798-451a-a204-682922209d2f",
   "metadata": {},
   "outputs": [],
   "source": [
    "def create_prefix(query): \n",
    "    \n",
    "    prefix=f\"\"\"\n",
    "Return a SQL statement that answers the following query:\n",
    "{query}\n",
    "\n",
    "For a table called 'Penguins' with the following properties:\n",
    " #   Column             Non-Null Count  Dtype  \n",
    "---  ------             --------------  -----  \n",
    " 0   species            344 non-null    object \n",
    " 1   island             344 non-null    object \n",
    " 2   bill_length_mm     342 non-null    float64\n",
    " 3   bill_depth_mm      342 non-null    float64\n",
    " 4   flipper_length_mm  342 non-null    float64\n",
    " 5   body_mass_g        342 non-null    float64\n",
    " 6   sex                333 non-null    object \n",
    " \n",
    "Example Rows:\n",
    "(0, 'Adelie', 'Torgersen', 39.1, 18.7, 181.0, 3750.0, 'MALE'),\n",
    "(1, 'Adelie', 'Torgersen', 39.5, 17.4, 186.0, 3800.0, 'FEMALE')\n",
    "\n",
    "Only return the SQL statement for the query. \n",
    "\"\"\" \n",
    "    return prefix"
   ]
  },
  {
   "cell_type": "code",
   "execution_count": 81,
   "id": "3353eb12-ae38-4199-af8c-59cfd5278b92",
   "metadata": {},
   "outputs": [],
   "source": [
    "def user_input():\n",
    "    query = input(\"Ask a question about the database\")\n",
    "    return create_prefix(query)"
   ]
  },
  {
   "cell_type": "code",
   "execution_count": 82,
   "id": "a9403e39-d716-4ef4-b07b-55fbdf86569b",
   "metadata": {},
   "outputs": [
    {
     "name": "stdin",
     "output_type": "stream",
     "text": [
      "Ask a question about the database How many Penguins are female?\n"
     ]
    }
   ],
   "source": [
    "prefix = user_input()"
   ]
  },
  {
   "cell_type": "code",
   "execution_count": 83,
   "id": "a995541a-c2b6-4a13-b667-e7e912aa996f",
   "metadata": {},
   "outputs": [
    {
     "name": "stdout",
     "output_type": "stream",
     "text": [
      "\n",
      "Return a SQL statement that answers the following query:\n",
      "How many Penguins are female?\n",
      "\n",
      "For a table called 'Penguins' with the following properties:\n",
      " #   Column             Non-Null Count  Dtype  \n",
      "---  ------             --------------  -----  \n",
      " 0   species            344 non-null    object \n",
      " 1   island             344 non-null    object \n",
      " 2   bill_length_mm     342 non-null    float64\n",
      " 3   bill_depth_mm      342 non-null    float64\n",
      " 4   flipper_length_mm  342 non-null    float64\n",
      " 5   body_mass_g        342 non-null    float64\n",
      " 6   sex                333 non-null    object \n",
      " \n",
      "Example Rows:\n",
      "(0, 'Adelie', 'Torgersen', 39.1, 18.7, 181.0, 3750.0, 'MALE'),\n",
      "(1, 'Adelie', 'Torgersen', 39.5, 17.4, 186.0, 3800.0, 'FEMALE')\n",
      "\n",
      "Only return the SQL statement for the query. \n",
      "\n"
     ]
    }
   ],
   "source": [
    "print(prefix)"
   ]
  },
  {
   "cell_type": "code",
   "execution_count": 84,
   "id": "a34f3f6a-8774-4fd7-91fd-cb3540d40bc4",
   "metadata": {},
   "outputs": [],
   "source": [
    "from vertexai.language_models import CodeGenerationModel"
   ]
  },
  {
   "cell_type": "code",
   "execution_count": 85,
   "id": "d156176c-b121-411b-8364-5f6eedf2b864",
   "metadata": {},
   "outputs": [],
   "source": [
    "codegen_model = CodeGenerationModel.from_pretrained('code-bison')"
   ]
  },
  {
   "cell_type": "code",
   "execution_count": 86,
   "id": "12962807-2441-4421-938a-6d089e3758ac",
   "metadata": {},
   "outputs": [
    {
     "name": "stdout",
     "output_type": "stream",
     "text": [
      "Hello! I am your AI Assistant. Ask me anything about the database\n",
      "\n",
      "\n",
      "\n"
     ]
    },
    {
     "name": "stdin",
     "output_type": "stream",
     "text": [
      "Ask a question about the database How many Penguins are female?\n"
     ]
    }
   ],
   "source": [
    "print(\"Hello! I am your AI Assistant. Ask me anything about the database\")\n",
    "print(\"\\n\\n\")\n",
    "prefix = user_input()\n",
    "result = codegen_model.predict(prefix=prefix)"
   ]
  },
  {
   "cell_type": "code",
   "execution_count": 87,
   "id": "aaa11e99-dd89-4414-9367-6eeeae62d7f0",
   "metadata": {},
   "outputs": [
    {
     "data": {
      "text/plain": [
       "```sql\n",
       "SELECT COUNT(*)\n",
       "FROM Penguins\n",
       "WHERE sex = 'FEMALE';\n",
       "```"
      ]
     },
     "execution_count": 87,
     "metadata": {},
     "output_type": "execute_result"
    }
   ],
   "source": [
    "result"
   ]
  },
  {
   "cell_type": "code",
   "execution_count": 88,
   "id": "b3f40264-ea76-4acb-90c1-b2fe3aa239d7",
   "metadata": {},
   "outputs": [
    {
     "data": {
      "text/plain": [
       "\"```sql\\nSELECT COUNT(*)\\nFROM Penguins\\nWHERE sex = 'FEMALE';\\n```\""
      ]
     },
     "execution_count": 88,
     "metadata": {},
     "output_type": "execute_result"
    }
   ],
   "source": [
    "result.text"
   ]
  },
  {
   "cell_type": "markdown",
   "id": "a8a43a90-9960-43ed-ae4e-b919749feb01",
   "metadata": {},
   "source": [
    "### Clean Text"
   ]
  },
  {
   "cell_type": "code",
   "execution_count": 89,
   "id": "145672a1-6e10-442d-a67e-b83b6b9d3d71",
   "metadata": {},
   "outputs": [],
   "source": [
    "def clean_sql(sql_statement):\n",
    "    return sql_statement.replace('```sql','').replace(\"```\",'').replace('\\n',' ')"
   ]
  },
  {
   "cell_type": "code",
   "execution_count": 90,
   "id": "18a8ed61-32ad-452c-86b3-d03e941419f2",
   "metadata": {},
   "outputs": [
    {
     "data": {
      "text/plain": [
       "\" SELECT COUNT(*) FROM Penguins WHERE sex = 'FEMALE'; \""
      ]
     },
     "execution_count": 90,
     "metadata": {},
     "output_type": "execute_result"
    }
   ],
   "source": [
    "clean_sql(result.text)"
   ]
  },
  {
   "cell_type": "markdown",
   "id": "19b339d9-93b2-4510-834d-b39c74112e59",
   "metadata": {},
   "source": [
    "### Combine everything together"
   ]
  },
  {
   "cell_type": "code",
   "execution_count": 93,
   "id": "4277e90d-8d80-4499-9bd7-c178ca2dd4e4",
   "metadata": {},
   "outputs": [],
   "source": [
    "def nlp_assistant():\n",
    "    print(\"Hello! I am your AI Assistant. Ask me anything about the database\")\n",
    "    print(\"\\n\\n\")\n",
    "    prefix = user_input()\n",
    "    result = codegen_model.predict(prefix=prefix)\n",
    "    sql = clean_sql(result.text)\n",
    "    with temp_db.connect() as conn:\n",
    "        print(\"\\nOk, I am running this SQL Statement\")\n",
    "        result = conn.execute(text(sql))\n",
    "    print('-------')\n",
    "    print('-------')\n",
    "    print(\"Here is the answer to your query\")\n",
    "    print('\\n')\n",
    "    print(result.all())"
   ]
  },
  {
   "cell_type": "code",
   "execution_count": 94,
   "id": "31da1c85-8861-4972-9ebf-0c089475882b",
   "metadata": {},
   "outputs": [
    {
     "name": "stdout",
     "output_type": "stream",
     "text": [
      "Hello! I am your AI Assistant. Ask me anything about the database\n",
      "\n",
      "\n",
      "\n"
     ]
    },
    {
     "name": "stdin",
     "output_type": "stream",
     "text": [
      "Ask a question about the database How many Penguins are female?\n"
     ]
    },
    {
     "name": "stdout",
     "output_type": "stream",
     "text": [
      "\n",
      "Ok, I am running this SQL Statement\n",
      "2023-10-14 22:44:07,798 INFO sqlalchemy.engine.Engine  SELECT COUNT(*) FROM Penguins WHERE sex = 'FEMALE'; \n",
      "2023-10-14 22:44:07,800 INFO sqlalchemy.engine.Engine [cached since 26.29s ago] ()\n",
      "-------\n",
      "-------\n",
      "Here is the answer to your query\n",
      "\n",
      "\n",
      "[(165,)]\n"
     ]
    }
   ],
   "source": [
    "nlp_assistant()"
   ]
  },
  {
   "cell_type": "code",
   "execution_count": 95,
   "id": "c891de52-7f19-46a1-9373-1c7172f44c00",
   "metadata": {},
   "outputs": [
    {
     "name": "stdout",
     "output_type": "stream",
     "text": [
      "Hello! I am your AI Assistant. Ask me anything about the database\n",
      "\n",
      "\n",
      "\n"
     ]
    },
    {
     "name": "stdin",
     "output_type": "stream",
     "text": [
      "Ask a question about the database What are the unique island names?\n"
     ]
    },
    {
     "name": "stdout",
     "output_type": "stream",
     "text": [
      "\n",
      "Ok, I am running this SQL Statement\n",
      "2023-10-14 22:44:16,000 INFO sqlalchemy.engine.Engine  SELECT DISTINCT island FROM Penguins; \n",
      "2023-10-14 22:44:16,003 INFO sqlalchemy.engine.Engine [generated in 0.00296s] ()\n",
      "-------\n",
      "-------\n",
      "Here is the answer to your query\n",
      "\n",
      "\n",
      "[('Torgersen',), ('Biscoe',), ('Dream',)]\n"
     ]
    }
   ],
   "source": [
    "nlp_assistant()"
   ]
  },
  {
   "cell_type": "code",
   "execution_count": null,
   "id": "38cb184c-29ab-47ab-9c71-d1f0e059bb49",
   "metadata": {},
   "outputs": [],
   "source": []
  }
 ],
 "metadata": {
  "kernelspec": {
   "display_name": "Python 3 (ipykernel)",
   "language": "python",
   "name": "python3"
  },
  "language_info": {
   "codemirror_mode": {
    "name": "ipython",
    "version": 3
   },
   "file_extension": ".py",
   "mimetype": "text/x-python",
   "name": "python",
   "nbconvert_exporter": "python",
   "pygments_lexer": "ipython3",
   "version": "3.9.12"
  }
 },
 "nbformat": 4,
 "nbformat_minor": 5
}

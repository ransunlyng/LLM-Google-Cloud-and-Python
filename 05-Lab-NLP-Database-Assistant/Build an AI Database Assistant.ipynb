{
 "cells": [
  {
   "cell_type": "code",
   "execution_count": 1,
   "id": "fba44ee3-502e-4d96-b26f-86b2101142ce",
   "metadata": {},
   "outputs": [],
   "source": [
    "# !pip install pandas\n",
    "# !pip install sqlalchemy\n",
    "# CSV --> SQL RAM --> SQL --> Results"
   ]
  },
  {
   "cell_type": "code",
   "execution_count": 2,
   "id": "3b594835-b6f9-41b3-b4cf-205b1add356e",
   "metadata": {},
   "outputs": [
    {
     "data": {
      "text/html": [
       "<div>\n",
       "<style scoped>\n",
       "    .dataframe tbody tr th:only-of-type {\n",
       "        vertical-align: middle;\n",
       "    }\n",
       "\n",
       "    .dataframe tbody tr th {\n",
       "        vertical-align: top;\n",
       "    }\n",
       "\n",
       "    .dataframe thead th {\n",
       "        text-align: right;\n",
       "    }\n",
       "</style>\n",
       "<table border=\"1\" class=\"dataframe\">\n",
       "  <thead>\n",
       "    <tr style=\"text-align: right;\">\n",
       "      <th></th>\n",
       "      <th>species</th>\n",
       "      <th>island</th>\n",
       "      <th>bill_length_mm</th>\n",
       "      <th>bill_depth_mm</th>\n",
       "      <th>flipper_length_mm</th>\n",
       "      <th>body_mass_g</th>\n",
       "      <th>sex</th>\n",
       "    </tr>\n",
       "  </thead>\n",
       "  <tbody>\n",
       "    <tr>\n",
       "      <th>0</th>\n",
       "      <td>Adelie</td>\n",
       "      <td>Torgersen</td>\n",
       "      <td>39.1</td>\n",
       "      <td>18.7</td>\n",
       "      <td>181.0</td>\n",
       "      <td>3750.0</td>\n",
       "      <td>MALE</td>\n",
       "    </tr>\n",
       "    <tr>\n",
       "      <th>1</th>\n",
       "      <td>Adelie</td>\n",
       "      <td>Torgersen</td>\n",
       "      <td>39.5</td>\n",
       "      <td>17.4</td>\n",
       "      <td>186.0</td>\n",
       "      <td>3800.0</td>\n",
       "      <td>FEMALE</td>\n",
       "    </tr>\n",
       "    <tr>\n",
       "      <th>2</th>\n",
       "      <td>Adelie</td>\n",
       "      <td>Torgersen</td>\n",
       "      <td>40.3</td>\n",
       "      <td>18.0</td>\n",
       "      <td>195.0</td>\n",
       "      <td>3250.0</td>\n",
       "      <td>FEMALE</td>\n",
       "    </tr>\n",
       "    <tr>\n",
       "      <th>3</th>\n",
       "      <td>Adelie</td>\n",
       "      <td>Torgersen</td>\n",
       "      <td>NaN</td>\n",
       "      <td>NaN</td>\n",
       "      <td>NaN</td>\n",
       "      <td>NaN</td>\n",
       "      <td>NaN</td>\n",
       "    </tr>\n",
       "    <tr>\n",
       "      <th>4</th>\n",
       "      <td>Adelie</td>\n",
       "      <td>Torgersen</td>\n",
       "      <td>36.7</td>\n",
       "      <td>19.3</td>\n",
       "      <td>193.0</td>\n",
       "      <td>3450.0</td>\n",
       "      <td>FEMALE</td>\n",
       "    </tr>\n",
       "  </tbody>\n",
       "</table>\n",
       "</div>"
      ],
      "text/plain": [
       "  species     island  bill_length_mm  bill_depth_mm  flipper_length_mm  \\\n",
       "0  Adelie  Torgersen            39.1           18.7              181.0   \n",
       "1  Adelie  Torgersen            39.5           17.4              186.0   \n",
       "2  Adelie  Torgersen            40.3           18.0              195.0   \n",
       "3  Adelie  Torgersen             NaN            NaN                NaN   \n",
       "4  Adelie  Torgersen            36.7           19.3              193.0   \n",
       "\n",
       "   body_mass_g     sex  \n",
       "0       3750.0    MALE  \n",
       "1       3800.0  FEMALE  \n",
       "2       3250.0  FEMALE  \n",
       "3          NaN     NaN  \n",
       "4       3450.0  FEMALE  "
      ]
     },
     "execution_count": 2,
     "metadata": {},
     "output_type": "execute_result"
    }
   ],
   "source": [
    "import pandas as pd\n",
    "df = pd.read_csv('penguins.csv')\n",
    "df.head()"
   ]
  },
  {
   "cell_type": "code",
   "execution_count": 4,
   "id": "a4c735d3-b54b-4310-b74d-2943732a2d41",
   "metadata": {},
   "outputs": [],
   "source": [
    "from sqlalchemy import create_engine, text"
   ]
  },
  {
   "cell_type": "code",
   "execution_count": 5,
   "id": "38613cc8-7db9-4468-8013-e82197958b22",
   "metadata": {},
   "outputs": [],
   "source": [
    "temp_db = create_engine('sqlite:///:memory:',echo=True)"
   ]
  },
  {
   "cell_type": "code",
   "execution_count": 6,
   "id": "fce71328-108b-4d51-8f36-5c1647149df2",
   "metadata": {},
   "outputs": [
    {
     "name": "stdout",
     "output_type": "stream",
     "text": [
      "2023-10-16 12:18:20,113 INFO sqlalchemy.engine.Engine PRAGMA main.table_info(\"Penguins\")\n",
      "2023-10-16 12:18:20,114 INFO sqlalchemy.engine.Engine [raw sql] ()\n",
      "2023-10-16 12:18:20,115 INFO sqlalchemy.engine.Engine PRAGMA temp.table_info(\"Penguins\")\n",
      "2023-10-16 12:18:20,116 INFO sqlalchemy.engine.Engine [raw sql] ()\n",
      "2023-10-16 12:18:20,118 INFO sqlalchemy.engine.Engine BEGIN (implicit)\n",
      "2023-10-16 12:18:20,119 INFO sqlalchemy.engine.Engine \n",
      "CREATE TABLE \"Penguins\" (\n",
      "\t\"index\" BIGINT, \n",
      "\tspecies TEXT, \n",
      "\tisland TEXT, \n",
      "\tbill_length_mm FLOAT, \n",
      "\tbill_depth_mm FLOAT, \n",
      "\tflipper_length_mm FLOAT, \n",
      "\tbody_mass_g FLOAT, \n",
      "\tsex TEXT\n",
      ")\n",
      "\n",
      "\n",
      "2023-10-16 12:18:20,121 INFO sqlalchemy.engine.Engine [no key 0.00096s] ()\n",
      "2023-10-16 12:18:20,122 INFO sqlalchemy.engine.Engine CREATE INDEX \"ix_Penguins_index\" ON \"Penguins\" (\"index\")\n",
      "2023-10-16 12:18:20,122 INFO sqlalchemy.engine.Engine [no key 0.00045s] ()\n",
      "2023-10-16 12:18:20,123 INFO sqlalchemy.engine.Engine COMMIT\n",
      "2023-10-16 12:18:20,125 INFO sqlalchemy.engine.Engine BEGIN (implicit)\n",
      "2023-10-16 12:18:20,127 INFO sqlalchemy.engine.Engine INSERT INTO \"Penguins\" (\"index\", species, island, bill_length_mm, bill_depth_mm, flipper_length_mm, body_mass_g, sex) VALUES (?, ?, ?, ?, ?, ?, ?, ?)\n",
      "2023-10-16 12:18:20,127 INFO sqlalchemy.engine.Engine [generated in 0.00174s] ((0, 'Adelie', 'Torgersen', 39.1, 18.7, 181.0, 3750.0, 'MALE'), (1, 'Adelie', 'Torgersen', 39.5, 17.4, 186.0, 3800.0, 'FEMALE'), (2, 'Adelie', 'Torgersen', 40.3, 18.0, 195.0, 3250.0, 'FEMALE'), (3, 'Adelie', 'Torgersen', None, None, None, None, None), (4, 'Adelie', 'Torgersen', 36.7, 19.3, 193.0, 3450.0, 'FEMALE'), (5, 'Adelie', 'Torgersen', 39.3, 20.6, 190.0, 3650.0, 'MALE'), (6, 'Adelie', 'Torgersen', 38.9, 17.8, 181.0, 3625.0, 'FEMALE'), (7, 'Adelie', 'Torgersen', 39.2, 19.6, 195.0, 4675.0, 'MALE')  ... displaying 10 of 344 total bound parameter sets ...  (342, 'Gentoo', 'Biscoe', 45.2, 14.8, 212.0, 5200.0, 'FEMALE'), (343, 'Gentoo', 'Biscoe', 49.9, 16.1, 213.0, 5400.0, 'MALE'))\n",
      "2023-10-16 12:18:20,131 INFO sqlalchemy.engine.Engine COMMIT\n",
      "2023-10-16 12:18:20,132 INFO sqlalchemy.engine.Engine SELECT name FROM sqlite_master WHERE type='table' ORDER BY name\n",
      "2023-10-16 12:18:20,133 INFO sqlalchemy.engine.Engine [raw sql] ()\n"
     ]
    }
   ],
   "source": [
    "data = df.to_sql(name='Penguins',con=temp_db)"
   ]
  },
  {
   "cell_type": "code",
   "execution_count": 13,
   "id": "dd694c1f-9746-458d-9c12-1a7eb5355bf9",
   "metadata": {},
   "outputs": [
    {
     "name": "stdout",
     "output_type": "stream",
     "text": [
      "2023-10-16 12:23:49,232 INFO sqlalchemy.engine.Engine SELECT * FROM Penguins\n",
      "2023-10-16 12:23:49,233 INFO sqlalchemy.engine.Engine [cached since 268.2s ago] ()\n"
     ]
    }
   ],
   "source": [
    "with temp_db.connect() as conn:\n",
    "    result = conn.execute(text(\"SELECT * FROM Penguins\"))"
   ]
  },
  {
   "cell_type": "code",
   "execution_count": 15,
   "id": "e160ec2c-fd5f-4204-9862-dfc66697a97f",
   "metadata": {},
   "outputs": [],
   "source": [
    "# result.all()"
   ]
  },
  {
   "cell_type": "code",
   "execution_count": 10,
   "id": "e7229d57-741a-48d8-87ce-ba8cf1226976",
   "metadata": {},
   "outputs": [],
   "source": [
    "# NLP -> SQL -> CONTEXT -> SELECT col_name FROM table_name properties"
   ]
  },
  {
   "cell_type": "code",
   "execution_count": 11,
   "id": "05bf5a71-8f69-4a73-a9b0-ad68130ff90f",
   "metadata": {},
   "outputs": [
    {
     "name": "stdout",
     "output_type": "stream",
     "text": [
      "<class 'pandas.core.frame.DataFrame'>\n",
      "RangeIndex: 344 entries, 0 to 343\n",
      "Data columns (total 7 columns):\n",
      " #   Column             Non-Null Count  Dtype  \n",
      "---  ------             --------------  -----  \n",
      " 0   species            344 non-null    object \n",
      " 1   island             344 non-null    object \n",
      " 2   bill_length_mm     342 non-null    float64\n",
      " 3   bill_depth_mm      342 non-null    float64\n",
      " 4   flipper_length_mm  342 non-null    float64\n",
      " 5   body_mass_g        342 non-null    float64\n",
      " 6   sex                333 non-null    object \n",
      "dtypes: float64(4), object(3)\n",
      "memory usage: 18.9+ KB\n"
     ]
    }
   ],
   "source": [
    "df.info()"
   ]
  },
  {
   "cell_type": "code",
   "execution_count": 16,
   "id": "616988d9-fb7e-4982-b6fc-3a856f638294",
   "metadata": {},
   "outputs": [],
   "source": [
    "def create_prefix(query):\n",
    "    # query = input(\"What is your question about the penguins table?\")\n",
    "    prefix = f\"\"\"Return a SQL statement that answers the following query:\n",
    "    {query}\n",
    "    \n",
    "    For a table called 'Penguins\" with the following properties:\n",
    "    #   Column             Non-Null Count  Dtype  \n",
    "    ---  ------             --------------  -----  \n",
    "     0   species            344 non-null    object \n",
    "     1   island             344 non-null    object \n",
    "     2   bill_length_mm     342 non-null    float64\n",
    "     3   bill_depth_mm      342 non-null    float64\n",
    "     4   flipper_length_mm  342 non-null    float64\n",
    "     5   body_mass_g        342 non-null    float64\n",
    "     6   sex                333 non-null    object \n",
    "     \n",
    "    Example Rows:\n",
    "    (0, 'Adelie', 'Torgersen', 39.1, 18.7, 181.0, 3750.0, 'MALE'),\n",
    "    (1, 'Adelie', 'Torgersen', 39.5, 17.4, 186.0, 3800.0, 'FEMALE')\n",
    "    \n",
    "    Only return the SQL statement for the query.\n",
    "    \"\"\"\n",
    "    return prefix"
   ]
  },
  {
   "cell_type": "code",
   "execution_count": 17,
   "id": "84d92b76-632a-42d6-9325-96ddbdfd5f38",
   "metadata": {},
   "outputs": [],
   "source": [
    "def user_input():\n",
    "    query = input(\"Ask a question about the Penguins table\")\n",
    "    return create_prefix(query)"
   ]
  },
  {
   "cell_type": "code",
   "execution_count": 18,
   "id": "ec106c6e-f6f7-4a71-b0c5-d627a647f293",
   "metadata": {},
   "outputs": [
    {
     "name": "stdin",
     "output_type": "stream",
     "text": [
      "Ask a question about the Penguins table How many penguins are there in the table?\n"
     ]
    }
   ],
   "source": [
    "prefix = user_input()"
   ]
  },
  {
   "cell_type": "code",
   "execution_count": 20,
   "id": "d9db4f09-ee66-4f63-9781-6b803d00831f",
   "metadata": {},
   "outputs": [
    {
     "name": "stdout",
     "output_type": "stream",
     "text": [
      "Return a SQL statement that answers the following query:\n",
      "    How many penguins are there in the table?\n",
      "    \n",
      "    For a table called 'Penguins\" with the following properties:\n",
      "    #   Column             Non-Null Count  Dtype  \n",
      "    ---  ------             --------------  -----  \n",
      "     0   species            344 non-null    object \n",
      "     1   island             344 non-null    object \n",
      "     2   bill_length_mm     342 non-null    float64\n",
      "     3   bill_depth_mm      342 non-null    float64\n",
      "     4   flipper_length_mm  342 non-null    float64\n",
      "     5   body_mass_g        342 non-null    float64\n",
      "     6   sex                333 non-null    object \n",
      "     \n",
      "    Example Rows:\n",
      "    (0, 'Adelie', 'Torgersen', 39.1, 18.7, 181.0, 3750.0, 'MALE'),\n",
      "    (1, 'Adelie', 'Torgersen', 39.5, 17.4, 186.0, 3800.0, 'FEMALE')\n",
      "    \n",
      "    Only return the SQL statement for the query.\n",
      "    \n"
     ]
    }
   ],
   "source": [
    "print(prefix)"
   ]
  },
  {
   "cell_type": "code",
   "execution_count": 21,
   "id": "539bfead-911c-4e38-9eb6-f0509b774bcd",
   "metadata": {},
   "outputs": [],
   "source": [
    "from vertexai.language_models import CodeGenerationModel"
   ]
  },
  {
   "cell_type": "code",
   "execution_count": 22,
   "id": "aa8ff54a-9fe8-42e7-9840-3f997b6da8dc",
   "metadata": {},
   "outputs": [],
   "source": [
    "codegen_model = CodeGenerationModel.from_pretrained('code-bison')"
   ]
  },
  {
   "cell_type": "code",
   "execution_count": 26,
   "id": "f3e18b9c-4084-45a5-baaa-bc6a567b345e",
   "metadata": {},
   "outputs": [
    {
     "name": "stdout",
     "output_type": "stream",
     "text": [
      "Hello, I am your AI database assistant\n",
      "\n",
      "\n",
      "\n"
     ]
    },
    {
     "name": "stdin",
     "output_type": "stream",
     "text": [
      "Ask a question about the Penguins table How many rows are in the database?\n"
     ]
    }
   ],
   "source": [
    "print(\"Hello, I am your AI database assistant\")\n",
    "print('\\n\\n')\n",
    "prefix = user_input()\n",
    "result = codegen_model.predict(prefix=prefix)"
   ]
  },
  {
   "cell_type": "code",
   "execution_count": 28,
   "id": "6f71ec3c-93c3-4de1-b8ea-3bb9b9b4c18d",
   "metadata": {},
   "outputs": [
    {
     "data": {
      "text/plain": [
       "'```sql\\nSELECT COUNT(*)\\nFROM Penguins;\\n```'"
      ]
     },
     "execution_count": 28,
     "metadata": {},
     "output_type": "execute_result"
    }
   ],
   "source": [
    "result.text"
   ]
  },
  {
   "cell_type": "code",
   "execution_count": 29,
   "id": "6aa1be57-ce36-4812-b404-72287497c8d2",
   "metadata": {},
   "outputs": [],
   "source": [
    "def clean_sql(sql_statement):\n",
    "    return sql_statement.replace('```sql','').replace(\"```\",\"\").replace('\\n',' ')"
   ]
  },
  {
   "cell_type": "code",
   "execution_count": 30,
   "id": "00524d95-b8e2-4aaa-923c-5032f457499f",
   "metadata": {},
   "outputs": [
    {
     "data": {
      "text/plain": [
       "' SELECT COUNT(*) FROM Penguins; '"
      ]
     },
     "execution_count": 30,
     "metadata": {},
     "output_type": "execute_result"
    }
   ],
   "source": [
    "clean_sql(result.text)"
   ]
  },
  {
   "cell_type": "code",
   "execution_count": 36,
   "id": "06a8f26c-8108-4776-9f3b-aed1b04b0f6a",
   "metadata": {},
   "outputs": [],
   "source": [
    "def nlp_assistant():\n",
    "    print(\"Hello, I am your AI database assistant\")\n",
    "    print('\\n\\n')\n",
    "    prefix = user_input()\n",
    "    result = codegen_model.predict(prefix=prefix)\n",
    "    sql = clean_sql(result.text)\n",
    "    with temp_db.connect() as conn:\n",
    "        print('\\n Ok I am running this SQL Statement:')\n",
    "        result = conn.execute(text(sql))\n",
    "    print('\\n\\n\\n==========================================')\n",
    "    print(\"Here are your results:\")\n",
    "    print(result.all())"
   ]
  },
  {
   "cell_type": "code",
   "execution_count": 39,
   "id": "29346b23-5972-42b7-80eb-7e00ed9772fa",
   "metadata": {},
   "outputs": [
    {
     "name": "stdout",
     "output_type": "stream",
     "text": [
      "Hello, I am your AI database assistant\n",
      "\n",
      "\n",
      "\n"
     ]
    },
    {
     "name": "stdin",
     "output_type": "stream",
     "text": [
      "Ask a question about the Penguins table What are the unique island names?\n"
     ]
    },
    {
     "name": "stdout",
     "output_type": "stream",
     "text": [
      "\n",
      " Ok I am running this SQL Statement:\n",
      "2023-10-16 12:42:39,164 INFO sqlalchemy.engine.Engine  SELECT DISTINCT island FROM Penguins; \n",
      "2023-10-16 12:42:39,164 INFO sqlalchemy.engine.Engine [generated in 0.00046s] ()\n",
      "\n",
      "\n",
      "\n",
      "==========================================\n",
      "Here are your results:\n",
      "[('Torgersen',), ('Biscoe',), ('Dream',)]\n"
     ]
    }
   ],
   "source": [
    "nlp_assistant()"
   ]
  },
  {
   "cell_type": "code",
   "execution_count": null,
   "id": "20647291-bf10-4060-aefc-6ebf0a7dfc9d",
   "metadata": {},
   "outputs": [],
   "source": []
  }
 ],
 "metadata": {
  "kernelspec": {
   "display_name": "Python 3 (ipykernel)",
   "language": "python",
   "name": "python3"
  },
  "language_info": {
   "codemirror_mode": {
    "name": "ipython",
    "version": 3
   },
   "file_extension": ".py",
   "mimetype": "text/x-python",
   "name": "python",
   "nbconvert_exporter": "python",
   "pygments_lexer": "ipython3",
   "version": "3.11.4"
  }
 },
 "nbformat": 4,
 "nbformat_minor": 5
}

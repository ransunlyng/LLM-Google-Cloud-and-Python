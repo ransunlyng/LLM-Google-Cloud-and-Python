{
 "cells": [
  {
   "cell_type": "code",
   "execution_count": 1,
   "id": "96f7bda8",
   "metadata": {},
   "outputs": [],
   "source": [
    "import pandas as pd"
   ]
  },
  {
   "cell_type": "code",
   "execution_count": 5,
   "id": "b6cdc7f1",
   "metadata": {},
   "outputs": [],
   "source": [
    "df = pd.read_csv('penguins.csv')"
   ]
  },
  {
   "cell_type": "code",
   "execution_count": 6,
   "id": "1f2206ed",
   "metadata": {},
   "outputs": [
    {
     "data": {
      "text/html": [
       "<div>\n",
       "<style scoped>\n",
       "    .dataframe tbody tr th:only-of-type {\n",
       "        vertical-align: middle;\n",
       "    }\n",
       "\n",
       "    .dataframe tbody tr th {\n",
       "        vertical-align: top;\n",
       "    }\n",
       "\n",
       "    .dataframe thead th {\n",
       "        text-align: right;\n",
       "    }\n",
       "</style>\n",
       "<table border=\"1\" class=\"dataframe\">\n",
       "  <thead>\n",
       "    <tr style=\"text-align: right;\">\n",
       "      <th></th>\n",
       "      <th>species</th>\n",
       "      <th>island</th>\n",
       "      <th>bill_length_mm</th>\n",
       "      <th>bill_depth_mm</th>\n",
       "      <th>flipper_length_mm</th>\n",
       "      <th>body_mass_g</th>\n",
       "      <th>sex</th>\n",
       "    </tr>\n",
       "  </thead>\n",
       "  <tbody>\n",
       "    <tr>\n",
       "      <th>0</th>\n",
       "      <td>Adelie</td>\n",
       "      <td>Torgersen</td>\n",
       "      <td>39.1</td>\n",
       "      <td>18.7</td>\n",
       "      <td>181.0</td>\n",
       "      <td>3750.0</td>\n",
       "      <td>MALE</td>\n",
       "    </tr>\n",
       "    <tr>\n",
       "      <th>1</th>\n",
       "      <td>Adelie</td>\n",
       "      <td>Torgersen</td>\n",
       "      <td>39.5</td>\n",
       "      <td>17.4</td>\n",
       "      <td>186.0</td>\n",
       "      <td>3800.0</td>\n",
       "      <td>FEMALE</td>\n",
       "    </tr>\n",
       "    <tr>\n",
       "      <th>2</th>\n",
       "      <td>Adelie</td>\n",
       "      <td>Torgersen</td>\n",
       "      <td>40.3</td>\n",
       "      <td>18.0</td>\n",
       "      <td>195.0</td>\n",
       "      <td>3250.0</td>\n",
       "      <td>FEMALE</td>\n",
       "    </tr>\n",
       "    <tr>\n",
       "      <th>3</th>\n",
       "      <td>Adelie</td>\n",
       "      <td>Torgersen</td>\n",
       "      <td>NaN</td>\n",
       "      <td>NaN</td>\n",
       "      <td>NaN</td>\n",
       "      <td>NaN</td>\n",
       "      <td>NaN</td>\n",
       "    </tr>\n",
       "    <tr>\n",
       "      <th>4</th>\n",
       "      <td>Adelie</td>\n",
       "      <td>Torgersen</td>\n",
       "      <td>36.7</td>\n",
       "      <td>19.3</td>\n",
       "      <td>193.0</td>\n",
       "      <td>3450.0</td>\n",
       "      <td>FEMALE</td>\n",
       "    </tr>\n",
       "  </tbody>\n",
       "</table>\n",
       "</div>"
      ],
      "text/plain": [
       "  species     island  bill_length_mm  bill_depth_mm  flipper_length_mm  \\\n",
       "0  Adelie  Torgersen            39.1           18.7              181.0   \n",
       "1  Adelie  Torgersen            39.5           17.4              186.0   \n",
       "2  Adelie  Torgersen            40.3           18.0              195.0   \n",
       "3  Adelie  Torgersen             NaN            NaN                NaN   \n",
       "4  Adelie  Torgersen            36.7           19.3              193.0   \n",
       "\n",
       "   body_mass_g     sex  \n",
       "0       3750.0    MALE  \n",
       "1       3800.0  FEMALE  \n",
       "2       3250.0  FEMALE  \n",
       "3          NaN     NaN  \n",
       "4       3450.0  FEMALE  "
      ]
     },
     "execution_count": 6,
     "metadata": {},
     "output_type": "execute_result"
    }
   ],
   "source": [
    "df.head()"
   ]
  },
  {
   "cell_type": "code",
   "execution_count": 4,
   "id": "7d5a4628",
   "metadata": {},
   "outputs": [
    {
     "name": "stdout",
     "output_type": "stream",
     "text": [
      "Requirement already satisfied: sqlalchemy in /Users/tdraly/anaconda3/lib/python3.11/site-packages (1.4.39)\r\n"
     ]
    }
   ],
   "source": [
    "! pip install sqlalchemy"
   ]
  },
  {
   "cell_type": "code",
   "execution_count": 7,
   "id": "14b7b8e4",
   "metadata": {},
   "outputs": [
    {
     "data": {
      "text/plain": [
       "array(['Torgersen', 'Biscoe', 'Dream'], dtype=object)"
      ]
     },
     "execution_count": 7,
     "metadata": {},
     "output_type": "execute_result"
    }
   ],
   "source": [
    "df['island'].unique()"
   ]
  },
  {
   "cell_type": "code",
   "execution_count": 10,
   "id": "49ee4e0a",
   "metadata": {},
   "outputs": [],
   "source": [
    "from sqlalchemy import create_engine, text"
   ]
  },
  {
   "cell_type": "code",
   "execution_count": 11,
   "id": "7bf70d5c",
   "metadata": {},
   "outputs": [],
   "source": [
    "temp_db = create_engine('sqlite:///memory:', echo=True)"
   ]
  },
  {
   "cell_type": "code",
   "execution_count": 12,
   "id": "7133c851",
   "metadata": {},
   "outputs": [
    {
     "name": "stdout",
     "output_type": "stream",
     "text": [
      "2024-01-08 18:18:17,351 INFO sqlalchemy.engine.Engine BEGIN (implicit)\n",
      "2024-01-08 18:18:17,352 INFO sqlalchemy.engine.Engine PRAGMA main.table_info(\"Penguins\")\n",
      "2024-01-08 18:18:17,352 INFO sqlalchemy.engine.Engine [raw sql] ()\n",
      "2024-01-08 18:18:17,353 INFO sqlalchemy.engine.Engine PRAGMA temp.table_info(\"Penguins\")\n",
      "2024-01-08 18:18:17,354 INFO sqlalchemy.engine.Engine [raw sql] ()\n",
      "2024-01-08 18:18:17,354 INFO sqlalchemy.engine.Engine ROLLBACK\n",
      "2024-01-08 18:18:17,356 INFO sqlalchemy.engine.Engine BEGIN (implicit)\n",
      "2024-01-08 18:18:17,357 INFO sqlalchemy.engine.Engine \n",
      "CREATE TABLE \"Penguins\" (\n",
      "\t\"index\" BIGINT, \n",
      "\tspecies TEXT, \n",
      "\tisland TEXT, \n",
      "\tbill_length_mm FLOAT, \n",
      "\tbill_depth_mm FLOAT, \n",
      "\tflipper_length_mm FLOAT, \n",
      "\tbody_mass_g FLOAT, \n",
      "\tsex TEXT\n",
      ")\n",
      "\n",
      "\n",
      "2024-01-08 18:18:17,357 INFO sqlalchemy.engine.Engine [no key 0.00044s] ()\n",
      "2024-01-08 18:18:17,359 INFO sqlalchemy.engine.Engine CREATE INDEX \"ix_Penguins_index\" ON \"Penguins\" (\"index\")\n",
      "2024-01-08 18:18:17,360 INFO sqlalchemy.engine.Engine [no key 0.00054s] ()\n",
      "2024-01-08 18:18:17,361 INFO sqlalchemy.engine.Engine COMMIT\n",
      "2024-01-08 18:18:17,363 INFO sqlalchemy.engine.Engine BEGIN (implicit)\n",
      "2024-01-08 18:18:17,366 INFO sqlalchemy.engine.Engine INSERT INTO \"Penguins\" (\"index\", species, island, bill_length_mm, bill_depth_mm, flipper_length_mm, body_mass_g, sex) VALUES (?, ?, ?, ?, ?, ?, ?, ?)\n",
      "2024-01-08 18:18:17,366 INFO sqlalchemy.engine.Engine [generated in 0.00146s] [(0, 'Adelie', 'Torgersen', 39.1, 18.7, 181.0, 3750.0, 'MALE'), (1, 'Adelie', 'Torgersen', 39.5, 17.4, 186.0, 3800.0, 'FEMALE'), (2, 'Adelie', 'Torgersen', 40.3, 18.0, 195.0, 3250.0, 'FEMALE'), (3, 'Adelie', 'Torgersen', None, None, None, None, None), (4, 'Adelie', 'Torgersen', 36.7, 19.3, 193.0, 3450.0, 'FEMALE'), (5, 'Adelie', 'Torgersen', 39.3, 20.6, 190.0, 3650.0, 'MALE'), (6, 'Adelie', 'Torgersen', 38.9, 17.8, 181.0, 3625.0, 'FEMALE'), (7, 'Adelie', 'Torgersen', 39.2, 19.6, 195.0, 4675.0, 'MALE')  ... displaying 10 of 344 total bound parameter sets ...  (342, 'Gentoo', 'Biscoe', 45.2, 14.8, 212.0, 5200.0, 'FEMALE'), (343, 'Gentoo', 'Biscoe', 49.9, 16.1, 213.0, 5400.0, 'MALE')]\n",
      "2024-01-08 18:18:17,369 INFO sqlalchemy.engine.Engine COMMIT\n",
      "2024-01-08 18:18:17,370 INFO sqlalchemy.engine.Engine BEGIN (implicit)\n",
      "2024-01-08 18:18:17,370 INFO sqlalchemy.engine.Engine SELECT name FROM sqlite_master WHERE type='table' AND name NOT LIKE 'sqlite~_%' ESCAPE '~' ORDER BY name\n",
      "2024-01-08 18:18:17,370 INFO sqlalchemy.engine.Engine [raw sql] ()\n",
      "2024-01-08 18:18:17,371 INFO sqlalchemy.engine.Engine ROLLBACK\n"
     ]
    }
   ],
   "source": [
    "data = df.to_sql(name='Penguins', con = temp_db)"
   ]
  },
  {
   "cell_type": "code",
   "execution_count": 33,
   "id": "0a8ef456",
   "metadata": {},
   "outputs": [
    {
     "name": "stdout",
     "output_type": "stream",
     "text": [
      "2024-01-08 18:41:51,979 INFO sqlalchemy.engine.Engine BEGIN (implicit)\n",
      "2024-01-08 18:41:51,982 INFO sqlalchemy.engine.Engine \n",
      "    SELECT COUNT(*) AS female_count\n",
      "    FROM Penguins\n",
      "    WHERE sex = 'FEMALE';\n",
      "2024-01-08 18:41:51,983 INFO sqlalchemy.engine.Engine [generated in 0.00507s] ()\n",
      "2024-01-08 18:41:51,986 INFO sqlalchemy.engine.Engine ROLLBACK\n"
     ]
    }
   ],
   "source": [
    "with temp_db.connect() as conn:\n",
    "    result = conn.execute(text(\"\"\"\n",
    "    SELECT COUNT(*) AS female_count\n",
    "    FROM Penguins\n",
    "    WHERE sex = 'FEMALE';\"\"\"))"
   ]
  },
  {
   "cell_type": "code",
   "execution_count": 34,
   "id": "b2d18703",
   "metadata": {},
   "outputs": [
    {
     "data": {
      "text/plain": [
       "[(165,)]"
      ]
     },
     "execution_count": 34,
     "metadata": {},
     "output_type": "execute_result"
    }
   ],
   "source": [
    "result.all()"
   ]
  },
  {
   "cell_type": "code",
   "execution_count": 16,
   "id": "e88370f0",
   "metadata": {},
   "outputs": [],
   "source": [
    "# NLP -> SQL -> CONTEXT(large string or prefix) -> needs to know table name, column name and properties\n"
   ]
  },
  {
   "cell_type": "code",
   "execution_count": 17,
   "id": "61dd5227",
   "metadata": {},
   "outputs": [
    {
     "name": "stdout",
     "output_type": "stream",
     "text": [
      "<class 'pandas.core.frame.DataFrame'>\n",
      "RangeIndex: 344 entries, 0 to 343\n",
      "Data columns (total 7 columns):\n",
      " #   Column             Non-Null Count  Dtype  \n",
      "---  ------             --------------  -----  \n",
      " 0   species            344 non-null    object \n",
      " 1   island             344 non-null    object \n",
      " 2   bill_length_mm     342 non-null    float64\n",
      " 3   bill_depth_mm      342 non-null    float64\n",
      " 4   flipper_length_mm  342 non-null    float64\n",
      " 5   body_mass_g        342 non-null    float64\n",
      " 6   sex                333 non-null    object \n",
      "dtypes: float64(4), object(3)\n",
      "memory usage: 18.9+ KB\n"
     ]
    }
   ],
   "source": [
    "df.info()  # give this as context for LLM"
   ]
  },
  {
   "cell_type": "code",
   "execution_count": 41,
   "id": "22da9d90",
   "metadata": {},
   "outputs": [],
   "source": [
    "def create_prefix(query):\n",
    "    #query = input(\"What is your question about the penguins table?\")\n",
    "    prefix = f\"\"\"Return a SQL statement that answers the folloing query:\n",
    "    {query}\n",
    "    \n",
    "    For a table called 'Penguins' with the following properties:\n",
    "    Data columns (total 7 columns):\n",
    "     #   Column             Non-Null Count  Dtype  \n",
    "    ---  ------             --------------  -----  \n",
    "     0   species            344 non-null    object \n",
    "     1   island             344 non-null    object \n",
    "     2   bill_length_mm     342 non-null    float64\n",
    "     3   bill_depth_mm      342 non-null    float64\n",
    "     4   flipper_length_mm  342 non-null    float64\n",
    "     5   body_mass_g        342 non-null    float64\n",
    "     6   sex                333 non-null    object \n",
    "     \n",
    "     Example Rows:\n",
    "        0 \tAdelie \tTorgersen \t39.1 \t18.7 \t181.0 \t3750.0 \tMALE\n",
    "        1 \tAdelie \tTorgersen \t39.5 \t17.4 \t186.0 \t3800.0 \tFEMALE\n",
    "        2 \tAdelie \tTorgersen \t40.3 \t18.0 \t195.0 \t3250.0 \tFEMALE\n",
    "        3 \tAdelie \tTorgersen \tNaN \tNaN \tNaN \tNaN \tNaN\n",
    "        4 \tAdelie \tTorgersen \t36.7 \t19.3 \t193.0 \t3450.0 \tFEMALE\n",
    "    \n",
    "    Only return the code, no doc strings and comments on code\n",
    "    \"\"\"\n",
    "    return prefix"
   ]
  },
  {
   "cell_type": "code",
   "execution_count": 42,
   "id": "505021f8",
   "metadata": {},
   "outputs": [],
   "source": [
    "def user_input():\n",
    "    query = input('Ask a question about the Penguins table\\n')\n",
    "    return create_prefix(query)"
   ]
  },
  {
   "cell_type": "code",
   "execution_count": 25,
   "id": "36e709f1",
   "metadata": {},
   "outputs": [
    {
     "name": "stdout",
     "output_type": "stream",
     "text": [
      "Ask a question about the Penguins table\n",
      "How many penguins are there in the table?\n"
     ]
    }
   ],
   "source": [
    "prefix = user_input()"
   ]
  },
  {
   "cell_type": "code",
   "execution_count": 26,
   "id": "93d0384f",
   "metadata": {},
   "outputs": [
    {
     "name": "stdout",
     "output_type": "stream",
     "text": [
      "Return a SQL statement that answers the folloing query:\n",
      "    How many penguins are there in the table?\n",
      "    \n",
      "    For a table called 'Penguins' with the following properties:\n",
      "    Data columns (total 7 columns):\n",
      "     #   Column             Non-Null Count  Dtype  \n",
      "    ---  ------             --------------  -----  \n",
      "     0   species            344 non-null    object \n",
      "     1   island             344 non-null    object \n",
      "     2   bill_length_mm     342 non-null    float64\n",
      "     3   bill_depth_mm      342 non-null    float64\n",
      "     4   flipper_length_mm  342 non-null    float64\n",
      "     5   body_mass_g        342 non-null    float64\n",
      "     6   sex                333 non-null    object \n",
      "     \n",
      "     Example Rows:\n",
      "        0 \tAdelie \tTorgersen \t39.1 \t18.7 \t181.0 \t3750.0 \tMALE\n",
      "        1 \tAdelie \tTorgersen \t39.5 \t17.4 \t186.0 \t3800.0 \tFEMALE\n",
      "        2 \tAdelie \tTorgersen \t40.3 \t18.0 \t195.0 \t3250.0 \tFEMALE\n",
      "        3 \tAdelie \tTorgersen \tNaN \tNaN \tNaN \tNaN \tNaN\n",
      "        4 \tAdelie \tTorgersen \t36.7 \t19.3 \t193.0 \t3450.0 \tFEMALE\n",
      "        \n",
      "    \n"
     ]
    }
   ],
   "source": [
    "print(prefix)"
   ]
  },
  {
   "cell_type": "code",
   "execution_count": 29,
   "id": "82298a83",
   "metadata": {},
   "outputs": [],
   "source": [
    "import os\n",
    "os.environ['GOOGLE_APPLICATION_CREDENTIALS'] = '/Users/tdraly/Library/CloudStorage/Dropbox/Mac/Downloads/silent-scanner-407313-877e12e3ea43.json'"
   ]
  },
  {
   "cell_type": "code",
   "execution_count": 27,
   "id": "0d14a88b",
   "metadata": {},
   "outputs": [],
   "source": [
    "from vertexai.language_models import CodeGenerationModel"
   ]
  },
  {
   "cell_type": "code",
   "execution_count": 30,
   "id": "030aa1da",
   "metadata": {},
   "outputs": [],
   "source": [
    "codegen_model = CodeGenerationModel.from_pretrained('code-bison')"
   ]
  },
  {
   "cell_type": "code",
   "execution_count": 43,
   "id": "d1a065dc",
   "metadata": {},
   "outputs": [
    {
     "name": "stdout",
     "output_type": "stream",
     "text": [
      "Ask a question about the Penguins table\n",
      "How many female penguins are there in the table?\n"
     ]
    }
   ],
   "source": [
    "result = codegen_model.predict(prefix=user_input())"
   ]
  },
  {
   "cell_type": "code",
   "execution_count": 46,
   "id": "f45f8253",
   "metadata": {},
   "outputs": [
    {
     "data": {
      "text/plain": [
       " SELECT COUNT(*)\n",
       "FROM Penguins\n",
       "WHERE sex = 'FEMALE';"
      ]
     },
     "execution_count": 46,
     "metadata": {},
     "output_type": "execute_result"
    }
   ],
   "source": [
    "result"
   ]
  },
  {
   "cell_type": "code",
   "execution_count": 53,
   "id": "3bc58fec",
   "metadata": {},
   "outputs": [],
   "source": [
    "def clean_sql(sql_statement):\n",
    "    return sql_statement.replace('```sql', '').replace('```','').replace('\\n', ' ')"
   ]
  },
  {
   "cell_type": "code",
   "execution_count": 48,
   "id": "6cdec6a7",
   "metadata": {},
   "outputs": [
    {
     "data": {
      "text/plain": [
       "\" SELECT COUNT(*) FROM Penguins WHERE sex = 'FEMALE';\""
      ]
     },
     "execution_count": 48,
     "metadata": {},
     "output_type": "execute_result"
    }
   ],
   "source": [
    "clean_sql(result.text)"
   ]
  },
  {
   "cell_type": "code",
   "execution_count": null,
   "id": "07305483",
   "metadata": {},
   "outputs": [],
   "source": []
  },
  {
   "cell_type": "code",
   "execution_count": null,
   "id": "b77b9846",
   "metadata": {},
   "outputs": [],
   "source": []
  },
  {
   "cell_type": "code",
   "execution_count": 60,
   "id": "8364bdde",
   "metadata": {},
   "outputs": [],
   "source": [
    "def nlp_assistant():\n",
    "    print(\"Hello, I am your AI Database assistant\")\n",
    "    print('\\n')\n",
    "    prefix = user_input()\n",
    "    response = codegen_model.predict(prefix=prefix)\n",
    "    sql = clean_sql(response.text)\n",
    "    with temp_db.connect() as conn:\n",
    "        print(f'\\n Ok I am running this SQL statement: \\n{sql}\\n\\n')\n",
    "        result = conn.execute(text(sql))\n",
    "    print(f'\\n\\nHere are your results: \\n{result.all()}')"
   ]
  },
  {
   "cell_type": "code",
   "execution_count": 61,
   "id": "81ad6f27",
   "metadata": {},
   "outputs": [
    {
     "name": "stdout",
     "output_type": "stream",
     "text": [
      "Hello, I am your AI Database assistant\n",
      "\n",
      "\n",
      "Ask a question about the Penguins table\n",
      "How many penguins are there?\n",
      "\n",
      " Ok I am running this SQL statement: \n",
      " SELECT COUNT(*) AS penguin_count FROM Penguins;\n",
      "\n",
      "\n",
      "2024-01-08 19:05:06,739 INFO sqlalchemy.engine.Engine BEGIN (implicit)\n",
      "2024-01-08 19:05:06,741 INFO sqlalchemy.engine.Engine  SELECT COUNT(*) AS penguin_count FROM Penguins;\n",
      "2024-01-08 19:05:06,742 INFO sqlalchemy.engine.Engine [cached since 68.31s ago] ()\n",
      "2024-01-08 19:05:06,745 INFO sqlalchemy.engine.Engine ROLLBACK\n",
      "\n",
      "\n",
      "Here are your results: \n",
      "[(344,)]\n"
     ]
    }
   ],
   "source": [
    "nlp_assistant()"
   ]
  },
  {
   "cell_type": "code",
   "execution_count": 56,
   "id": "16fc8c9c",
   "metadata": {},
   "outputs": [
    {
     "name": "stdout",
     "output_type": "stream",
     "text": [
      "Hello, I am your AI Database assistant\n",
      "\n",
      "\n",
      "\n",
      "Ask a question about the Penguins table\n",
      "HOw many penguins are male?\n",
      "\n",
      " Ok I am running this SQL statement: \n",
      " SELECT     CAST(count(*) as BIGNUMERIC)   FROM     PENGUINS   WHERE PENGUINS.SEX = 'MALE'\n",
      "2024-01-08 19:02:34,978 INFO sqlalchemy.engine.Engine BEGIN (implicit)\n",
      "2024-01-08 19:02:34,979 INFO sqlalchemy.engine.Engine  SELECT     CAST(count(*) as BIGNUMERIC)   FROM     PENGUINS   WHERE PENGUINS.SEX = 'MALE'\n",
      "2024-01-08 19:02:34,983 INFO sqlalchemy.engine.Engine [generated in 0.00567s] ()\n",
      "2024-01-08 19:02:34,985 INFO sqlalchemy.engine.Engine ROLLBACK\n",
      "Here are your results: \n",
      "[(168,)]\n"
     ]
    }
   ],
   "source": [
    "nlp_assistant()"
   ]
  },
  {
   "cell_type": "code",
   "execution_count": null,
   "id": "614982d9",
   "metadata": {},
   "outputs": [],
   "source": []
  }
 ],
 "metadata": {
  "kernelspec": {
   "display_name": "Python 3 (ipykernel)",
   "language": "python",
   "name": "python3"
  },
  "language_info": {
   "codemirror_mode": {
    "name": "ipython",
    "version": 3
   },
   "file_extension": ".py",
   "mimetype": "text/x-python",
   "name": "python",
   "nbconvert_exporter": "python",
   "pygments_lexer": "ipython3",
   "version": "3.11.4"
  }
 },
 "nbformat": 4,
 "nbformat_minor": 5
}

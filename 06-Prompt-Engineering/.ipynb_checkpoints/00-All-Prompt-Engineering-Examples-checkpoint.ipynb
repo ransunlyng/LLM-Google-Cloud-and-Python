{
 "cells": [
  {
   "cell_type": "markdown",
   "id": "4fe54735-1c2f-4ab6-a8e0-19e743a135a3",
   "metadata": {},
   "source": [
    "<center><a href=\"https://www.pieriantraining.com/\" ><img src=\"../PTCenteredPurple.png\" alt=\"Pierian Training Logo\" /></a></center>\n"
   ]
  },
  {
   "cell_type": "markdown",
   "id": "4cbeca1d-5190-4346-8599-9222dac6b4c1",
   "metadata": {},
   "source": [
    "# Prompt Engineering\n",
    "\n",
    "Below are examples we go through during the lectures, separated by main topic area/"
   ]
  },
  {
   "cell_type": "code",
   "execution_count": 2,
   "id": "4f45e868-32c4-4e75-ba88-1c93e04ea91d",
   "metadata": {},
   "outputs": [],
   "source": [
    "from vertexai.language_models import TextGenerationModel\n",
    "model = TextGenerationModel.from_pretrained('text-bison')"
   ]
  },
  {
   "cell_type": "markdown",
   "id": "242f5125-412d-4ccd-a55a-e851b92c8478",
   "metadata": {},
   "source": [
    "## Structure and Separation\n",
    "\n",
    "Use structure like new lines or indentation to help the LLM understand the context vs the instruction. Use this in conjunction with few-shot template prompts."
   ]
  },
  {
   "cell_type": "markdown",
   "id": "a40b16b7-4a1e-4f14-b716-3300115a8396",
   "metadata": {},
   "source": [
    "Example Prompt:\n",
    "\n",
    "    Tell me about this:\n",
    "        CONTEXT STARTS INDENTED ON NEW LINE"
   ]
  },
  {
   "cell_type": "code",
   "execution_count": 3,
   "id": "568127d6-644a-4e96-b23e-080b71c0448f",
   "metadata": {},
   "outputs": [],
   "source": [
    "prompt = \"Create a multiple choice question about USA History\""
   ]
  },
  {
   "cell_type": "code",
   "execution_count": 4,
   "id": "0780c6f1-5147-4aa8-bbad-691963f412ed",
   "metadata": {},
   "outputs": [
    {
     "data": {
      "text/plain": [
       " Which of the following was not a cause of the American Revolution?\n",
       "\n",
       "(A) The Stamp Act\n",
       "(B) The Boston Massacre\n",
       "(C) The French and Indian War\n",
       "(D) The Tea Act"
      ]
     },
     "execution_count": 4,
     "metadata": {},
     "output_type": "execute_result"
    }
   ],
   "source": [
    "model.predict(prompt)"
   ]
  },
  {
   "cell_type": "code",
   "execution_count": 5,
   "id": "71591d7e-3b95-4873-b5be-a54380155191",
   "metadata": {},
   "outputs": [
    {
     "data": {
      "text/plain": [
       " Which president issued an executive order in 1942 that established internment camps for Japanese-Americans?\n",
       "\n",
       "A) Franklin D. Roosevelt\n",
       "B) Harry S. Truman\n",
       "C) Dwight D. Eisenhower\n",
       "D) John F. Kennedy\n",
       "\n",
       "Answer: A) Franklin D. Roosevelt"
      ]
     },
     "execution_count": 5,
     "metadata": {},
     "output_type": "execute_result"
    }
   ],
   "source": [
    "prompt = \"Create a multiple choice question about USA History and include the answer\"\n",
    "model.predict(prompt)"
   ]
  },
  {
   "cell_type": "code",
   "execution_count": 6,
   "id": "5cc60cb7-405e-41bc-9da7-059c7982c9dc",
   "metadata": {},
   "outputs": [
    {
     "data": {
      "text/plain": [
       " Which president issued an executive order in 1942 that established internment camps for Japanese-Americans?\n",
       "\n",
       "1.) Franklin D. Roosevelt\n",
       "2.) Harry S. Truman\n",
       "3.) Dwight D. Eisenhower\n",
       "\n",
       "Answer: 1"
      ]
     },
     "execution_count": 6,
     "metadata": {},
     "output_type": "execute_result"
    }
   ],
   "source": [
    "prompt = \"\"\"Create a multiple choice question about USA History and include the answer.\n",
    "Follow this format:\n",
    "\n",
    "    Here is the question\n",
    "    1.) Option One\n",
    "    2.) Option Two\n",
    "    3.) Option Three\n",
    "    \n",
    "    Answer: *Then only provide the number*\n",
    "\"\"\"\n",
    "model.predict(prompt)"
   ]
  },
  {
   "cell_type": "markdown",
   "id": "1aec3016-a496-4432-b093-6f88b78c079d",
   "metadata": {},
   "source": [
    "----\n",
    "### Summarization\n",
    "\n",
    "Models are great at summarizing, simply place the content (and any needed context) below your main instruction."
   ]
  },
  {
   "cell_type": "code",
   "execution_count": 7,
   "id": "e32a4236-403d-4e02-9146-53ed35d574ba",
   "metadata": {},
   "outputs": [],
   "source": [
    "article = '''\n",
    "In 1932, Shannon entered the University of Michigan, where he was introduced to the work of George Boole. He graduated in 1936 with two bachelor's degrees: one in electrical engineering and the other in mathematics.\n",
    "\n",
    "In 1936, Shannon began his graduate studies in electrical engineering at MIT, where he worked on Vannevar Bush's differential analyzer, an early analog computer.[12] While studying the complicated ad hoc circuits of this analyzer, Shannon designed switching circuits based on Boole's concepts. In 1937, he wrote his master's degree thesis, A Symbolic Analysis of Relay and Switching Circuits.[13] A paper from this thesis was published in 1938.[14] In this work, Shannon proved that his switching circuits could be used to simplify the arrangement of the electromechanical relays that were used during that time in telephone call routing switches. Next, he expanded this concept, proving that these circuits could solve all problems that Boolean algebra could solve. In the last chapter, he presented diagrams of several circuits, including a 4-bit full adder.[13]\n",
    "\n",
    "Using this property of electrical switches to implement logic is the fundamental concept that underlies all electronic digital computers. Shannon's work became the foundation of digital circuit design, as it became widely known in the electrical engineering community during and after World War II. The theoretical rigor of Shannon's work superseded the ad hoc methods that had prevailed previously. Howard Gardner called Shannon's thesis \"possibly the most important, and also the most noted, master's thesis of the century.\"[15]\n",
    "\n",
    "Shannon received his PhD in mathematics from MIT in 1940.[10] Vannevar Bush had suggested that Shannon should work on his dissertation at the Cold Spring Harbor Laboratory, in order to develop a mathematical formulation for Mendelian genetics. This research resulted in Shannon's PhD thesis, called An Algebra for Theoretical Genetics.[16]\n",
    "\n",
    "In 1940, Shannon became a National Research Fellow at the Institute for Advanced Study in Princeton, New Jersey. In Princeton, Shannon had the opportunity to discuss his ideas with influential scientists and mathematicians such as Hermann Weyl and John von Neumann, and he also had occasional encounters with Albert Einstein and Kurt Gödel. Shannon worked freely across disciplines, and this ability may have contributed to his later development of mathematical information theory.[17]\n",
    "'''"
   ]
  },
  {
   "cell_type": "code",
   "execution_count": 8,
   "id": "bf01c2df-0f87-4765-b4b1-01a601d23c36",
   "metadata": {},
   "outputs": [
    {
     "data": {
      "text/plain": [
       " - Shannon entered the University of Michigan in 1932 and graduated in 1936 with two bachelor's degrees: one in electrical engineering and the other in mathematics.\n",
       "- In 1936, Shannon began his graduate studies in electrical engineering at MIT, where he worked on Vannevar Bush's differential analyzer.\n",
       "- Shannon's master's degree thesis, \"A Symbolic Analysis of Relay and Switching Circuits,\" laid the foundation for digital circuit design.\n",
       "- Shannon received his PhD in mathematics from MIT in 1940. His dissertation, \"An Algebra for Theoretical Genetics,\" applied"
      ]
     },
     "execution_count": 8,
     "metadata": {},
     "output_type": "execute_result"
    }
   ],
   "source": [
    "prompt = f\"Provide a 4 bullet point summary of this article:\\n{article}\"\n",
    "model.predict(prompt=prompt, max_output_tokens=2048)"
   ]
  },
  {
   "cell_type": "markdown",
   "id": "0e241b85-61cc-400c-a9f5-a23c512fc07e",
   "metadata": {},
   "source": [
    "----\n",
    "### Classification\n",
    "Models are especially powerful at classifying natural language for sentiment or just general content."
   ]
  },
  {
   "cell_type": "code",
   "execution_count": 9,
   "id": "00d435d5-d439-4fe7-b4c6-6b454ab3ce45",
   "metadata": {},
   "outputs": [],
   "source": [
    "tweet = \"Oh man, I think $APPL is going to hit an all time high!\""
   ]
  },
  {
   "cell_type": "code",
   "execution_count": 10,
   "id": "fe8c5463-9336-4459-bbc5-9a3b18d79fcd",
   "metadata": {},
   "outputs": [],
   "source": [
    "sentiment_prompt = f\"Classify the tweet below as positive, negative, or neutral:\\n{tweet}\""
   ]
  },
  {
   "cell_type": "code",
   "execution_count": 11,
   "id": "7b50ce32-8155-46d0-8b4f-6710bcb627f5",
   "metadata": {},
   "outputs": [
    {
     "data": {
      "text/plain": [
       " Positive"
      ]
     },
     "execution_count": 11,
     "metadata": {},
     "output_type": "execute_result"
    }
   ],
   "source": [
    "model.predict(prompt=sentiment_prompt)"
   ]
  },
  {
   "cell_type": "code",
   "execution_count": 12,
   "id": "a552631e-354d-42a5-bcb6-5a9a9b547d31",
   "metadata": {},
   "outputs": [],
   "source": [
    "category_prompt = f\"\"\"Classify the following tweet into one of four categories:\n",
    "- Finance\n",
    "- Housing\n",
    "- Sports\n",
    "- Laundry\n",
    "\n",
    "Here is the tweet:\n",
    "{tweet}\n",
    "\"\"\""
   ]
  },
  {
   "cell_type": "code",
   "execution_count": 13,
   "id": "d4d275ed-02db-4d93-aab5-8b2067f1be86",
   "metadata": {},
   "outputs": [
    {
     "data": {
      "text/plain": [
       " Finance"
      ]
     },
     "execution_count": 13,
     "metadata": {},
     "output_type": "execute_result"
    }
   ],
   "source": [
    "model.predict(category_prompt)"
   ]
  },
  {
   "cell_type": "markdown",
   "id": "429eff6c-a422-4cad-a4d4-b7752b96e17e",
   "metadata": {},
   "source": [
    "### Extraction\n",
    "\n",
    "We can also use models to extract only the information we want in any format we want:"
   ]
  },
  {
   "cell_type": "code",
   "execution_count": 14,
   "id": "bdfdcd9c-ad30-48d7-80da-14b8b629e2b9",
   "metadata": {},
   "outputs": [],
   "source": [
    "tweet = \"Oh man, I think $APPL is going to hit an all time high! But $XOM might crash\""
   ]
  },
  {
   "cell_type": "code",
   "execution_count": 15,
   "id": "ea61d370-060a-4eaa-995e-1a8ce3b7c95b",
   "metadata": {},
   "outputs": [],
   "source": [
    "prompt = f\"\"\"For the tweet below extract all stock tickers mention \n",
    "and assign a possible sentiment to the stock ticker (positive, negative, neutral).\n",
    "\n",
    "Here is the tweet:\n",
    "{tweet}\n",
    "\n",
    "Send your results as a list of tuples:\n",
    "[($Stock, sentiment),($Stock, sentiment)]\n",
    "\"\"\""
   ]
  },
  {
   "cell_type": "code",
   "execution_count": 18,
   "id": "7a4a4261-1ea5-4710-9e6b-9b7bd2e3a185",
   "metadata": {},
   "outputs": [],
   "source": [
    "results = model.predict(prompt)"
   ]
  },
  {
   "cell_type": "code",
   "execution_count": 19,
   "id": "bc115b35-48e9-4fdf-beed-765b37a9093f",
   "metadata": {},
   "outputs": [
    {
     "data": {
      "text/plain": [
       " [('$APPL', 'positive'), ('$XOM', 'negative')]"
      ]
     },
     "execution_count": 19,
     "metadata": {},
     "output_type": "execute_result"
    }
   ],
   "source": [
    "results"
   ]
  },
  {
   "cell_type": "code",
   "execution_count": 22,
   "id": "8184d716-dfa6-468e-af40-2c083bf79f71",
   "metadata": {},
   "outputs": [],
   "source": [
    "mylist = eval(results.text)"
   ]
  },
  {
   "cell_type": "code",
   "execution_count": 24,
   "id": "01df4302-d5d0-4e1c-a08e-816ba1619d40",
   "metadata": {},
   "outputs": [
    {
     "data": {
      "text/plain": [
       "list"
      ]
     },
     "execution_count": 24,
     "metadata": {},
     "output_type": "execute_result"
    }
   ],
   "source": [
    "type(mylist)"
   ]
  },
  {
   "cell_type": "code",
   "execution_count": 25,
   "id": "b170ac22-a473-4af4-9a3d-9e9f7c7f4b4d",
   "metadata": {},
   "outputs": [
    {
     "data": {
      "text/plain": [
       "('$APPL', 'positive')"
      ]
     },
     "execution_count": 25,
     "metadata": {},
     "output_type": "execute_result"
    }
   ],
   "source": [
    "mylist[0]"
   ]
  },
  {
   "cell_type": "markdown",
   "id": "8eab991d-c75a-4ad1-a084-61a486ef076c",
   "metadata": {},
   "source": [
    "### Ideation\n",
    "\n",
    "You can use LLMs to generate ideas or skeletons of ideas."
   ]
  },
  {
   "cell_type": "code",
   "execution_count": 55,
   "id": "04aa80f9-4b39-43b7-a22a-37da778d2ac5",
   "metadata": {},
   "outputs": [
    {
     "data": {
      "text/plain": [
       " 1. How to Create a Budget and Stick to It: A budget is an essential tool for managing your finances and reaching your financial goals. This blog post will provide tips on how to create a budget that works for you and how to stick to it, even when it's tough.\n",
       "\n",
       "2. The Importance of Saving for Retirement: Saving for retirement is crucial for ensuring your financial security in your golden years. This blog post will discuss the importance of saving for retirement, the different types of retirement savings accounts available, and how to make the most of your retirement savings.\n",
       "\n",
       "3. How to Invest for Beginners: Investing is a great way to grow your wealth over time, but it can be daunting for beginners. This blog post will provide a beginner's guide to investing, covering the basics of stocks, bonds, mutual funds, and ETFs, and how to get started with investing."
      ]
     },
     "execution_count": 55,
     "metadata": {},
     "output_type": "execute_result"
    }
   ],
   "source": [
    "prompt = \"Give me 3 different ideas for a blog post about finance\"\n",
    "model.predict(prompt,max_output_tokens=2048)"
   ]
  },
  {
   "cell_type": "markdown",
   "id": "c77f6b81-8e22-43c6-acdb-d4904b4910a7",
   "metadata": {},
   "source": [
    "### Expansion\n",
    "\n",
    "You can easily expand on these ideas."
   ]
  },
  {
   "cell_type": "code",
   "execution_count": 58,
   "id": "0d142657-07ab-4be9-a5ad-7e51f5928b59",
   "metadata": {},
   "outputs": [],
   "source": [
    "prompt = \"\"\"Create an outline for this blog post:\n",
    "How to Invest for Beginners: Investing is a great way to grow your wealth over time, but it can be daunting for beginners. This blog post will provide a beginner's guide to investing, covering the basics of stocks, bonds, mutual funds, and ETFs, and how to get started with investing.\"\"\""
   ]
  },
  {
   "cell_type": "code",
   "execution_count": 59,
   "id": "5580d06b-a7a4-40e1-bd7b-4f0e6bd76d81",
   "metadata": {},
   "outputs": [],
   "source": [
    "result = model.predict(prompt,max_output_tokens=2048)"
   ]
  },
  {
   "cell_type": "code",
   "execution_count": 60,
   "id": "5d11e354-8731-430f-8e03-83f31daeb3a2",
   "metadata": {},
   "outputs": [
    {
     "data": {
      "text/plain": [
       " Introduction:\n",
       "- What is investing and why is it important?\n",
       "- Setting your investment goals and risk tolerance\n",
       "\n",
       "Understanding Different Investment Vehicles:\n",
       "- Stocks: What are stocks and how do they work?\n",
       "- Bonds: What are bonds and how do they work?\n",
       "- Mutual funds: What are mutual funds and how do they work?\n",
       "- ETFs: What are ETFs and how do they work?\n",
       "\n",
       "Getting Started with Investing:\n",
       "- Choosing a brokerage account\n",
       "- Deciding how much to invest\n",
       "- Diversifying your portfolio\n",
       "- Rebalancing your portfolio\n",
       "\n",
       "Investment Strategies for Beginners:\n",
       "- Dollar-cost averaging\n",
       "- Index investing\n",
       "- Active vs. passive investing\n",
       "\n",
       "Conclusion:\n",
       "- Summary of key points\n",
       "- Encouraging readers to start investing"
      ]
     },
     "execution_count": 60,
     "metadata": {},
     "output_type": "execute_result"
    }
   ],
   "source": [
    "result"
   ]
  },
  {
   "cell_type": "code",
   "execution_count": 61,
   "id": "1bce06e5-0790-4d7a-b222-1b3689fafe04",
   "metadata": {},
   "outputs": [
    {
     "data": {
      "text/plain": [
       " Introduction:\n",
       "Investing is the process of putting your money into something with the expectation of getting more money back in the future. It's important because it can help you grow your wealth over time, save for retirement, and reach your financial goals.\n",
       "\n",
       "Before you start investing, it's important to set your investment goals and risk tolerance. Your goals will help you determine how much money you need to invest and how long you need to invest it for. Your risk tolerance will help you determine how much risk you're willing to take on in order to achieve your goals.\n",
       "\n",
       "Understanding Different Investment Vehicles:\n",
       "Stocks: Stocks are a type of investment that represent ownership in a company. When you buy a stock, you're buying a small piece of the company. If the company does well, the value of your stock will go up. If the company does poorly, the value of your stock will go down.\n",
       "\n",
       "Bonds: Bonds are a type of investment that represent a loan to a company or government. When you buy a bond, you're lending money to the company or government. In return, the company or government promises to pay you back the money you loaned them, plus interest.\n",
       "\n",
       "Mutual funds: Mutual funds are a type of investment that pools money from many investors to buy a variety of stocks, bonds, and other investments. Mutual funds are professionally managed, so you don't have to worry about picking individual stocks or bonds.\n",
       "\n",
       "ETFs: ETFs are a type of investment that tracks an index, such as the S&P 500. ETFs are similar to mutual funds, but they're traded on the stock exchange like stocks.\n",
       "\n",
       "Getting Started with Investing:\n",
       "Once you've set your investment goals and risk tolerance, you need to choose a brokerage account. A brokerage account is an account that you open with a brokerage firm, which is a company that helps you buy and sell investments.\n",
       "\n",
       "When you open a brokerage account, you'll need to decide how much money you want to invest. It's important to start small and gradually increase your investment amount as you get more comfortable with investing.\n",
       "\n",
       "It's also important to diversify your portfolio, which means investing in a variety of different investments. This will help you reduce your risk and improve your chances of earning a return on your investment.\n",
       "\n",
       "Finally, you need to rebalance your portfolio regularly. This means selling investments that have gone up in value and buying investments that have gone down in value. This will help you keep your portfolio in line with your investment goals and risk tolerance.\n",
       "\n",
       "Investment Strategies for Beginners:\n",
       "There are a number of different investment strategies that you can use as a beginner. Some of the most popular strategies include:\n",
       "\n",
       "Dollar-cost averaging: Dollar-cost averaging is a strategy in which you invest the same amount of money into an investment on a regular basis, regardless of the price. This can help you reduce your risk and improve your chances of earning a return on your investment.\n",
       "\n",
       "Index investing: Index investing is a strategy in which you invest in an index fund or ETF that tracks an index, such as the S&P 500. This can help you reduce your risk and improve your chances of earning a return on your investment.\n",
       "\n",
       "Active vs. passive investing: Active investing is a strategy in which you try to pick individual stocks or bonds that you think will outperform the market. Passive investing is a strategy in which you invest in index funds or ETFs that track an index. Passive investing is generally less risky than active investing, but it can also lead to lower returns.\n",
       "\n",
       "Conclusion:\n",
       "Investing is an important way to grow your wealth over time, save for retirement, and reach your financial goals. By understanding different investment vehicles, getting started with investing, and using investment strategies for beginners, you can increase your chances of success."
      ]
     },
     "execution_count": 61,
     "metadata": {},
     "output_type": "execute_result"
    }
   ],
   "source": [
    "prompt = f\"Write a blog post for the outline below:\\n{result}\"\n",
    "model.predict(prompt=prompt,max_output_tokens=2048)"
   ]
  },
  {
   "cell_type": "markdown",
   "id": "37757bce-b274-48da-9228-2738970f7b72",
   "metadata": {},
   "source": [
    "### Translation\n",
    "\n",
    "You can use LLMs to translate text (note if you plan on only doing translation, you may want to consider a service specifically tailored to translation, like Google Cloud Translate)"
   ]
  },
  {
   "cell_type": "code",
   "execution_count": 52,
   "id": "032e607d-4c04-4aa5-b20e-1543ff913cb2",
   "metadata": {},
   "outputs": [],
   "source": [
    "text = \"Hi, my name is Jose. It is a pleasure to meet you\"\n",
    "\n",
    "prompt = f\"Translate this text into Spanish:\\n{text}\""
   ]
  },
  {
   "cell_type": "code",
   "execution_count": 53,
   "id": "7e196ddf-6046-4dd2-9677-cf92be6e5429",
   "metadata": {},
   "outputs": [
    {
     "data": {
      "text/plain": [
       " Hola, mi nombre es José. Encantado de conocerte"
      ]
     },
     "execution_count": 53,
     "metadata": {},
     "output_type": "execute_result"
    }
   ],
   "source": [
    "model.predict(prompt)"
   ]
  },
  {
   "cell_type": "markdown",
   "id": "10245dde-58fe-4598-bf08-f011075d568f",
   "metadata": {},
   "source": [
    "### Transformation (Tone and Formats)\n",
    "\n",
    "We can easily convert text from one tone or format to another with LLMs:"
   ]
  },
  {
   "cell_type": "code",
   "execution_count": 39,
   "id": "98a75e08-987f-46fd-bba9-39e581280826",
   "metadata": {},
   "outputs": [],
   "source": [
    "prompt = \"Create a bullet point list of chores to clean the house\""
   ]
  },
  {
   "cell_type": "code",
   "execution_count": 41,
   "id": "3387fc45-97ad-4ad2-96cd-283c02171ccb",
   "metadata": {},
   "outputs": [],
   "source": [
    "result = model.predict(prompt)"
   ]
  },
  {
   "cell_type": "code",
   "execution_count": 42,
   "id": "004d6a26-678a-4065-8064-708f8228a643",
   "metadata": {},
   "outputs": [
    {
     "data": {
      "text/plain": [
       " **Cleaning the House**\n",
       "\n",
       "* **Declutter**: Go through each room and get rid of anything you don't use or need. Donate unwanted items to charity or sell them online.\n",
       "* **Dust**: Use a microfiber cloth to dust all surfaces, including furniture, window sills, and baseboards.\n",
       "* **Vacuum**: Vacuum all carpets and rugs. If you have hardwood floors, sweep or mop them.\n",
       "* **Mop**: Mop all hard floors, including tile, linoleum, and wood.\n",
       "* **Clean the windows**: Use a glass cleaner and a microfiber cloth to clean all windows and mirrors."
      ]
     },
     "execution_count": 42,
     "metadata": {},
     "output_type": "execute_result"
    }
   ],
   "source": [
    "result"
   ]
  },
  {
   "cell_type": "code",
   "execution_count": 46,
   "id": "eac1df88-7db8-406c-afd6-8a852c4a39c9",
   "metadata": {},
   "outputs": [],
   "source": [
    "prompt =  f\"\"\"Rewrite this in a paragraph form with a friendly tone of a Grandma asking\n",
    "for help with the chores below:\\n\\n{result.text}\"\"\""
   ]
  },
  {
   "cell_type": "code",
   "execution_count": 47,
   "id": "55015c9f-d7a5-458a-afb1-44a9b2b56ffd",
   "metadata": {},
   "outputs": [
    {
     "data": {
      "text/plain": [
       " Grandma here!  I need some help around the house.  Can you help me out?  I need to declutter each room and get rid of things I don't use or need.  I was thinking we could donate unwanted items to charity or sell them online.  \n",
       "\n",
       "Next, I need to dust all surfaces, including furniture, window sills, and baseboards.  I have a microfiber cloth that we can use for this.  \n",
       "\n",
       "Then, we need to vacuum all carpets and rugs.  If I have hardwood floors, we will sweep or mop them.  \n",
       "\n",
       "After that, we need to mop all hard floors, including tile, linoleum, and wood.  \n",
       "\n",
       "Finally, we need to clean all windows and mirrors.  I have a glass cleaner and a microfiber cloth that we can use for this.  \n",
       "\n",
       "I would really appreciate your help with these chores.  Let me know if you have any questions.  Thanks, Grandma"
      ]
     },
     "execution_count": 47,
     "metadata": {},
     "output_type": "execute_result"
    }
   ],
   "source": [
    "model.predict(prompt, max_output_tokens=2048)"
   ]
  },
  {
   "cell_type": "code",
   "execution_count": 49,
   "id": "7075f092-453d-49a3-8c43-4cb24cb1ac5e",
   "metadata": {},
   "outputs": [
    {
     "data": {
      "text/plain": [
       " Hey there, [Grandchild's name]! I'm writing to ask for a little help with some chores around the house. I know you're busy with school and all your other activities, but I'd really appreciate it if you could lend me a hand.\n",
       "\n",
       "I'm getting older, and it's getting harder for me to keep up with all the cleaning. I'm especially struggling with decluttering and dusting. I've been meaning to go through each room and get rid of anything I don't use or need, but I just haven't had the energy. And the dust! It seems like it's everywhere, and I can't seem to keep up with it.\n",
       "\n",
       "I would really appreciate it if you could help me with these chores. I know it's not the most fun, but it would make a big difference for me. And I promise to make it worth your while! I'll bake you your favorite cookies, or we can go out for ice cream. Whatever you like!\n",
       "\n",
       "Let me know if you're able to help. I'd really appreciate it!\n",
       "\n",
       "Love,\n",
       "Grandma"
      ]
     },
     "execution_count": 49,
     "metadata": {},
     "output_type": "execute_result"
    }
   ],
   "source": [
    "prompt =  f\"\"\"Rewrite this in a paragraph form with a friendly tone of a Grandma asking\n",
    "for help with the chores below. Be explicit in your reasonings on why you need\n",
    "help and can't do it yourself. Here are the chores:\\n\\n{result.text}\"\"\"\n",
    "\n",
    "model.predict(prompt, max_output_tokens=2048)"
   ]
  },
  {
   "cell_type": "code",
   "execution_count": 51,
   "id": "ce794f5c-9285-47f2-824a-f67fbdb4ff9d",
   "metadata": {},
   "outputs": [
    {
     "data": {
      "text/plain": [
       " Dear Grandkids, \n",
       "\n",
       "I hope this email finds you well. I'm writing to ask for your help with some cleaning tasks around the house.  I know you all have busy lives, but I would really appreciate it if you could lend me a hand. \n",
       "\n",
       "Decluttering: I've been meaning to go through each room and get rid of anything I don't use or need, but it's a big task and I just can't seem to find the time. I would really appreciate it if you could help me sort through my things and decide what to keep and what to donate or sell. \n",
       "\n",
       "Dusting: I have a lot of furniture and knick-knacks, and it's hard for me to keep up with the dusting. If you could help me dust all the surfaces in the house, it would make a big difference.\n",
       "\n",
       "Vacuuming: I have a lot of carpets and rugs, and I need to vacuum them regularly to keep them clean. If you could help me vacuum, it would save me a lot of time and effort. \n",
       "\n",
       "Mopping: I have a lot of hard floors, and I need to mop them regularly to keep them clean. If you could help me mop, it would be a big help. \n",
       "\n",
       "Cleaning the windows: I have a lot of windows and mirrors, and they need to be cleaned regularly to keep them looking nice. If you could help me clean the windows and mirrors, it would make a big difference. \n",
       "\n",
       "I know these are all big tasks, but I would really appreciate it if you could help me out. I'm getting older and it's getting harder for me to keep up with the housework. If you could help me, it would give me more time to do the things I enjoy, like spending time with my family and friends. \n",
       "\n",
       "Thank you for your time and consideration. I love you all very much.\n",
       "\n",
       "Love,\n",
       "Grandma"
      ]
     },
     "execution_count": 51,
     "metadata": {},
     "output_type": "execute_result"
    }
   ],
   "source": [
    "prompt =  f\"\"\"Rewrite this in a paragraph form with a friendly tone of a Grandma asking\n",
    "for help. Be explicit in your reasonings on why you need help and can't do it yourself. The result should mention all these chores:\\n{result.text}\"\"\"\n",
    "\n",
    "model.predict(prompt, max_output_tokens=2048)"
   ]
  },
  {
   "cell_type": "markdown",
   "id": "3fa10d44-2c49-4e17-b6c5-faafd08a29fd",
   "metadata": {},
   "source": [
    "### Understanding Model Hallucinations\n",
    "\n",
    "Is stating false information a hallucination? What if that same information was considered true for a long time? The way we define hallucination, we need to be careful about the difference:"
   ]
  },
  {
   "cell_type": "code",
   "execution_count": 29,
   "id": "09050fdb-458c-423d-8254-b3d2b52d8f3c",
   "metadata": {},
   "outputs": [],
   "source": [
    "prompt = \"Why was Netflix founded?\""
   ]
  },
  {
   "cell_type": "code",
   "execution_count": 31,
   "id": "7c623abb-c96c-4425-a490-0e00f7e0d25c",
   "metadata": {},
   "outputs": [
    {
     "data": {
      "text/plain": [
       " Netflix was founded in 1997 by Reed Hastings and Marc Randolph. The company started as a DVD rental service by mail, and has since expanded to include online streaming and production of original content. \n",
       "\n",
       "Hastings was inspired to start Netflix after being charged a late fee for a VHS tape he had rented. He realized that there was a need for a more convenient way to rent movies, and Netflix was born."
      ]
     },
     "execution_count": 31,
     "metadata": {},
     "output_type": "execute_result"
    }
   ],
   "source": [
    "model.predict(prompt,max_output_tokens=2048,temperature=0)"
   ]
  },
  {
   "cell_type": "markdown",
   "id": "52200a9e-d186-4d45-9d76-d9f5c4036814",
   "metadata": {},
   "source": [
    "---\n",
    "\n",
    "This is actually a myth, but it was told by the founders themselves! It wasn't until later in Netflix history that Hastings and Randolph would clarify this was a founding myth and they had actually actively thought of new company ideas during their commute together.Once they realized a DVD fit into a normal envelope they realized they could begin.\n",
    "\n",
    "Sources on the Truth: https://www.washingtonpost.com/opinions/five-myths-about-netflix/2014/02/21/787c7c8e-9a3f-11e3-b931-0204122c514b_story.html\n",
    "\n",
    "https://www.amazon.com/That-Will-Never-Work-Netflix/dp/0316530204\n",
    "\n",
    "You should note with the right prompt the model's internal encoding is somewhat aware of the myth:"
   ]
  },
  {
   "cell_type": "code",
   "execution_count": 34,
   "id": "2986ec7e-411d-4c25-a2fa-f206be7141c3",
   "metadata": {},
   "outputs": [
    {
     "data": {
      "text/plain": [
       " The founding story of Netflix, as often told, contains some inaccuracies and oversimplifications. While it is true that Netflix was founded by Reed Hastings and Marc Randolph, the idea for the company did not come about in a single \"aha\" moment during a late fee incident. \n",
       "\n",
       "In reality, the development of Netflix was a more gradual process. Hastings had been interested in the idea of a DVD rental service since the early 1990s, and he had been working on a business plan for such a service since 1997. Randolph joined Hastings in 1998, and the two of them launched Netflix in 1999.\n",
       "\n",
       "The story of Netflix's founding has been simplified and romanticized over time, likely to make it more appealing and memorable. However, the true story of Netflix's founding is still an inspiring tale of entrepreneurship and innovation."
      ]
     },
     "execution_count": 34,
     "metadata": {},
     "output_type": "execute_result"
    }
   ],
   "source": [
    "prompt = \"Is the founding story of Netflix a myth?\"\n",
    "model.predict(prompt,max_output_tokens=2048)"
   ]
  },
  {
   "cell_type": "code",
   "execution_count": 36,
   "id": "21ee4be6-c472-468f-93b0-5f715bd8b68a",
   "metadata": {},
   "outputs": [
    {
     "data": {
      "text/plain": [
       " In the bustling city of Mountain View, California, three ambitious tech enthusiasts embarked on a journey that would change the course of their lives and the world of software. In 2009, Mark Zuckerberg, a young Harvard dropout, joined forces with Dustin Moskovitz and Eduardo Saverin to create a social networking platform that would connect people in a way never seen before. Their brainchild, Facebook, quickly gained popularity among college students and eventually became a global phenomenon.\n",
       "\n",
       "However, as Facebook grew exponentially, Zuckerberg faced increasing pressure to monetize the platform. He explored various options, including introducing advertisements, but was determined to find a solution that would not compromise the user experience. In search of inspiration, Zuckerberg turned to his co-founders and they began brainstorming ideas.\n",
       "\n",
       "During one of their brainstorming sessions, Moskovitz suggested creating a separate platform that would focus on providing software as a service (SaaS) to businesses. The idea resonated with Zuckerberg and Saverin, who saw the potential for a new venture that could revolutionize the way businesses operate. And so, in 2012, GooberBingBong was born.\n",
       "\n",
       "The name \"GooberBingBong\" was chosen to reflect the playful and innovative spirit of the company. The team wanted a name that would be memorable, unique, and easy to pronounce. They also wanted it to represent the company's mission to make software accessible and user-friendly for businesses of all sizes.\n",
       "\n",
       "With a clear vision and a talented team of developers, GooberBingBong quickly gained traction in the SaaS industry. The platform offered a wide range of services, including customer relationship management (CRM), project management, and accounting software. It was designed to be intuitive and easy to use, allowing businesses to streamline their operations and improve efficiency.\n",
       "\n",
       "As GooberBingBong continued to grow, Zuckerberg, Moskovitz, and Saverin made strategic decisions to expand their offerings and enter new markets. They acquired complementary SaaS companies, formed partnerships with leading technology providers, and invested heavily in research and development. Their goal was to create a comprehensive suite of software solutions that would meet the evolving needs of businesses in the digital age.\n",
       "\n",
       "Over the years, GooberBingBong has become a trusted partner for businesses around the world. Its SaaS platform has helped countless organizations improve their productivity, collaboration, and customer service. The company has also become known for its commitment to innovation and its focus on user experience.\n",
       "\n",
       "Today, GooberBingBong stands as a testament to the vision and determination of its founders. Zuckerberg, Moskovitz, and Saverin have transformed the way businesses operate, making it possible for companies of all sizes to access powerful software tools that were once only available to large enterprises. And as GooberBingBong continues to evolve and expand, it remains committed to its mission of empowering businesses and driving innovation in the SaaS industry."
      ]
     },
     "execution_count": 36,
     "metadata": {},
     "output_type": "execute_result"
    }
   ],
   "source": [
    "prompt = \"What is the founding story of the GooberBingBong SaaS company?\"\n",
    "model.predict(prompt,max_output_tokens=2048)"
   ]
  },
  {
   "cell_type": "markdown",
   "id": "c1296a53-e9d1-4d40-8c4e-d242da2335ef",
   "metadata": {},
   "source": [
    "----\n",
    "\n",
    "The above is Textbook hallucination! Mixing real elements with completely made up facts! Watch out for this. Later we will learn about context injection usign text embedding to help avoid these issues."
   ]
  },
  {
   "cell_type": "code",
   "execution_count": 37,
   "id": "7e644dd4-4365-4a2a-a67c-a0fbd6fd2a1b",
   "metadata": {},
   "outputs": [
    {
     "data": {
      "text/plain": [
       " There is no company called GooberBingBong."
      ]
     },
     "execution_count": 37,
     "metadata": {},
     "output_type": "execute_result"
    }
   ],
   "source": [
    "prompt = \"What is the founding story of the GooberBingBong SaaS company? If the company doesn't exist say so.\"\n",
    "model.predict(prompt,max_output_tokens=2048)"
   ]
  },
  {
   "cell_type": "code",
   "execution_count": 38,
   "id": "b0c0ddd5-ba8c-4420-9399-21294180ac9b",
   "metadata": {},
   "outputs": [
    {
     "data": {
      "text/plain": [
       " Salesforce was founded in 1999 by Marc Benioff, a former Oracle executive, along with Parker Harris, Dave Moellenhoff, and Frank Dominguez. The company was founded on the idea of providing customer relationship management (CRM) software as a service, or SaaS. This was a new concept at the time, as most CRM software was sold as a perpetual license.\n",
       "\n",
       "Benioff had the idea for Salesforce after he was frustrated with the lack of innovation in the CRM market. He believed that CRM software should be more accessible and affordable for businesses of all sizes. He also believed that CRM software should be more user-friendly and easier to use.\n",
       "\n",
       "Salesforce was one of the first companies to offer CRM software as a service. This allowed businesses to access CRM software without having to purchase and install software on their own servers. This made CRM software more affordable and accessible for small businesses and startups.\n",
       "\n",
       "Salesforce quickly became a leader in the CRM market. The company's success was due to its innovative approach to CRM software, its focus on customer satisfaction, and its strong marketing and sales efforts.\n",
       "\n",
       "Today, Salesforce is one of the largest software companies in the world. The company has over 150,000 customers and generates over $10 billion in annual revenue. Salesforce is still led by Marc Benioff, who is one of the most respected and successful entrepreneurs in the technology industry."
      ]
     },
     "execution_count": 38,
     "metadata": {},
     "output_type": "execute_result"
    }
   ],
   "source": [
    "prompt = \"What is the founding story of the SalesForce SaaS company? If the company doesn't exist say so.\"\n",
    "model.predict(prompt,max_output_tokens=2048)"
   ]
  },
  {
   "cell_type": "code",
   "execution_count": null,
   "id": "f73f46c9-0793-4880-83c5-49f3a0ec89b6",
   "metadata": {},
   "outputs": [],
   "source": []
  }
 ],
 "metadata": {
  "kernelspec": {
   "display_name": "Python 3 (ipykernel)",
   "language": "python",
   "name": "python3"
  },
  "language_info": {
   "codemirror_mode": {
    "name": "ipython",
    "version": 3
   },
   "file_extension": ".py",
   "mimetype": "text/x-python",
   "name": "python",
   "nbconvert_exporter": "python",
   "pygments_lexer": "ipython3",
   "version": "3.11.4"
  }
 },
 "nbformat": 4,
 "nbformat_minor": 5
}

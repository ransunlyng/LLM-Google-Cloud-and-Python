{
 "cells": [
  {
   "cell_type": "markdown",
   "id": "13bcdd5e",
   "metadata": {},
   "source": [
    "## Linear Programming using CBC backend MIP solver\n",
    "### Mixed Integer Programming"
   ]
  },
  {
   "cell_type": "markdown",
   "id": "23053d1b",
   "metadata": {},
   "source": [
    "The goal is to maximize the power of the army with the following resources: 183000 food, 90512 wood, 80150 gold.\n",
    "\n",
    "Unit \t🌾Food \t🪵Wood \t🪙Gold \t💪Attack \t❤️Health\n",
    "🗡️Swordsman \t60 \t20 \t0 \t6 \t70\n",
    "🛡️Man-at-arms \t100 \t0 \t20 \t12 \t155\n",
    "🏹Bowman \t30 \t50 \t0 \t5 \t70\n",
    "❌Crossbowman \t80 \t0 \t40 \t12 \t80\n",
    "🔫Handcannoneer \t120 \t0 \t120 \t35 \t150\n",
    "🐎Horseman \t100 \t20 \t0 \t9 \t125\n",
    "♞Knight \t140 \t0 \t100 \t24 \t230\n",
    "🐏Battering ram \t0 \t300 \t0 \t200 \t700\n",
    "🎯Springald \t0 \t250 \t250 \t30 \t200"
   ]
  },
  {
   "cell_type": "code",
   "execution_count": 2,
   "id": "87320d5a",
   "metadata": {},
   "outputs": [],
   "source": [
    "#!python -m pip install --upgrade --user -q ortools"
   ]
  },
  {
   "cell_type": "code",
   "execution_count": 26,
   "id": "6618389e",
   "metadata": {},
   "outputs": [],
   "source": [
    "# Import OR-Tools' wrapper for linear solvers\n",
    "from ortools.linear_solver import pywraplp\n",
    "\n",
    "#create the linear solver using the CBC backend\n",
    "solver = pywraplp.Solver('Maximize army power',pywraplp.Solver.CBC_MIXED_INTEGER_PROGRAMMING)"
   ]
  },
  {
   "cell_type": "markdown",
   "id": "bca51dc5",
   "metadata": {},
   "source": [
    "### Data"
   ]
  },
  {
   "cell_type": "code",
   "execution_count": 27,
   "id": "a167a6ed",
   "metadata": {},
   "outputs": [],
   "source": [
    "UNITS = [\n",
    "    '🗡️Swordsmen',\n",
    "    '🛡️Men-at-arms',\n",
    "    '🏹Bowmen',\n",
    "    '❌Crossbowmen',\n",
    "    '🔫Handcannoneers',\n",
    "    '🐎Horsemen',\n",
    "    '♞Knights',\n",
    "    '🐏Battering rams',\n",
    "    '🎯Springalds',\n",
    "    '🪨Mangonels',\n",
    "]\n",
    "\n",
    "DATA = [\n",
    "    [60, 20, 0, 6, 70],\n",
    "    [100, 0, 20, 12, 155],\n",
    "    [30, 50, 0, 5, 70],\n",
    "    [80, 0, 40, 12, 80],\n",
    "    [120, 0, 120, 35, 150],\n",
    "    [100, 20, 0, 9, 125],\n",
    "    [140, 0, 100, 24, 230],\n",
    "    [0, 300, 0, 200, 700],\n",
    "    [0, 250, 250, 30, 200],\n",
    "    [0, 400, 200, 12*3, 240]\n",
    "]\n",
    "\n",
    "RESOURCES = [183000, 90512, 80150]\n",
    "\n",
    "#The goal is to minimize the resources that are used to get an army power > 1,000,000."
   ]
  },
  {
   "cell_type": "markdown",
   "id": "5db068d7",
   "metadata": {},
   "source": [
    "## 1. Create the variables we want to optimize"
   ]
  },
  {
   "cell_type": "code",
   "execution_count": 28,
   "id": "fb1290d2",
   "metadata": {},
   "outputs": [],
   "source": [
    "units = [solver.IntVar(0, solver.infinity(), unit) for unit in UNITS]"
   ]
  },
  {
   "cell_type": "code",
   "execution_count": 4,
   "id": "02e5bbb7",
   "metadata": {},
   "outputs": [
    {
     "data": {
      "text/plain": [
       "[🗡️Swordsmen,\n",
       " 🛡️Men-at-arms,\n",
       " 🏹Bowmen,\n",
       " ❌Crossbowmen,\n",
       " 🔫Handcannoneers,\n",
       " 🐎Horsemen,\n",
       " ♞Knights,\n",
       " 🐏Battering rams,\n",
       " 🎯Springalds,\n",
       " 🪨Mangonels]"
      ]
     },
     "execution_count": 4,
     "metadata": {},
     "output_type": "execute_result"
    }
   ],
   "source": [
    "units"
   ]
  },
  {
   "cell_type": "markdown",
   "id": "01745303",
   "metadata": {},
   "source": [
    "## 2. Add Constraints"
   ]
  },
  {
   "cell_type": "code",
   "execution_count": 29,
   "id": "8690e7a8",
   "metadata": {},
   "outputs": [],
   "source": [
    "# Resources constraint. sum cannot exceed resource limit\n",
    "for r, _ in enumerate(RESOURCES):\n",
    "    solver.Add(sum(DATA[u][r] * units[u] for u, _ in enumerate(units)) <= RESOURCES[r])"
   ]
  },
  {
   "cell_type": "code",
   "execution_count": 30,
   "id": "bda67fdf",
   "metadata": {},
   "outputs": [
    {
     "data": {
      "text/plain": [
       "<ortools.linear_solver.pywraplp.Constraint; proxy of <Swig Object of type 'operations_research::MPConstraint *' at 0x10cb97ea0> >"
      ]
     },
     "execution_count": 30,
     "metadata": {},
     "output_type": "execute_result"
    }
   ],
   "source": [
    "# Power constraint. higher than enemy\n",
    "# for r, _ in enumerate(RESOURCES):\n",
    "#     solver.Add(sum((DATA[u][-2] * 10 + DATA[u][-1]) * units[u] for u, _ in enumerate(units)) >= 1000001)\n",
    "\n",
    "solver.Add(sum((DATA[u][-2] * 10 + DATA[u][-1]) * units[u] for u, _ in enumerate(units)) >= 1000001)"
   ]
  },
  {
   "cell_type": "markdown",
   "id": "82d08baa",
   "metadata": {},
   "source": [
    "## 3. Define Objective Function\n",
    "### here is to minimize the resource needed to achieve power 1,000,000 to defeat enemy"
   ]
  },
  {
   "cell_type": "code",
   "execution_count": 31,
   "id": "5414f4a9",
   "metadata": {},
   "outputs": [],
   "source": [
    "# Single Minimize Call with Combined Costs\n",
    "solver.Minimize(sum((DATA[u][0] + DATA[u][1] + DATA[u][2]) * units[u] for u, _ in enumerate(units)))\n",
    "\n",
    "# # Multiple Minimize Calls Inside a Loop. but Linear Programming only allow for 1 objective function. only the last one will be considered in the following case.\n",
    "# for r,_ in enumerate(RESOURCES):\n",
    "#     solver.Minimize(sum(DATA[u][r] * units[u] for u,_ in enumerate(units)))"
   ]
  },
  {
   "cell_type": "markdown",
   "id": "4e95d2ba",
   "metadata": {},
   "source": [
    "## 4. Solve the problem"
   ]
  },
  {
   "cell_type": "code",
   "execution_count": 32,
   "id": "7f2bf500",
   "metadata": {},
   "outputs": [],
   "source": [
    "status = solver.Solve()"
   ]
  },
  {
   "cell_type": "markdown",
   "id": "81e71982",
   "metadata": {},
   "source": [
    "## if an optimal solution has been found, print results"
   ]
  },
  {
   "cell_type": "code",
   "execution_count": 33,
   "id": "ba022281",
   "metadata": {},
   "outputs": [
    {
     "name": "stdout",
     "output_type": "stream",
     "text": [
      "================= Solution =================\n",
      "Solved in 22278.00 milliseconds in 1 iterations\n",
      "\n",
      "Optimal value = 172100.0 🌾🪵🪙resources\n",
      "Power = 💪1000105.0\n",
      "Army:\n",
      " - 🗡️Swordsmen = 1.0\n",
      " - 🛡️Men-at-arms = 681.0\n",
      " - 🏹Bowmen = 0.0\n",
      " - ❌Crossbowmen = 0.0\n",
      " - 🔫Handcannoneers = 0.0\n",
      " - 🐎Horsemen = 0.0\n",
      " - ♞Knights = 0.0\n",
      " - 🐏Battering rams = 301.0\n",
      " - 🎯Springalds = 0.0\n",
      " - 🪨Mangonels = 0.0\n",
      "\n",
      "Resources:\n",
      " - 🌾Food = 68160.0\n",
      " - 🪵Wood = 90320.0\n",
      " - 🪙Gold = 13620.0\n"
     ]
    }
   ],
   "source": [
    "if status == pywraplp.Solver.OPTIMAL:\n",
    "    print('================= Solution =================')\n",
    "    print(f'Solved in {solver.wall_time():.2f} milliseconds in {solver.iterations()} iterations')\n",
    "    print()\n",
    "\n",
    "    power = sum((10 * DATA[u][-2] + DATA[u][-1]) * units[u].solution_value() for u, _ in enumerate(units))\n",
    "    print(f'Optimal value = {solver.Objective().Value()} 🌾🪵🪙resources')\n",
    "    print(f'Power = 💪{power}')\n",
    "    print('Army:')\n",
    "    for u, _ in enumerate(units):\n",
    "        print(f' - {units[u].name()} = {units[u].solution_value()}')\n",
    "    print()\n",
    "\n",
    "    food = sum((DATA[u][0]) * units[u].solution_value() for u, _ in enumerate(units))\n",
    "    wood = sum((DATA[u][1]) * units[u].solution_value() for u, _ in enumerate(units))\n",
    "    gold = sum((DATA[u][2]) * units[u].solution_value() for u, _ in enumerate(units))\n",
    "    print('Resources:')\n",
    "    print(f' - 🌾Food = {food}')\n",
    "    print(f' - 🪵Wood = {wood}')\n",
    "    print(f' - 🪙Gold = {gold}')\n",
    "else:\n",
    "    print('The solver could not find an optimal solution.')\n"
   ]
  },
  {
   "cell_type": "code",
   "execution_count": null,
   "id": "bcbb9c6c",
   "metadata": {},
   "outputs": [],
   "source": []
  },
  {
   "cell_type": "markdown",
   "id": "cc996793",
   "metadata": {},
   "source": [
    "# Automate, make it into a function call"
   ]
  },
  {
   "cell_type": "code",
   "execution_count": 34,
   "id": "f671468f",
   "metadata": {},
   "outputs": [
    {
     "name": "stdout",
     "output_type": "stream",
     "text": [
      "================= Solution =================\n",
      "Solved in 23.00 milliseconds in 1 iterations\n",
      "\n",
      "Optimal value = 172100.0 🌾🪵🪙resources\n",
      "Power = 💪1000105.0\n",
      "Army:\n",
      " - 🗡️Swordsmen = 1.0\n",
      " - 🛡️Men-at-arms = 681.0\n",
      " - 🏹Bowmen = 0.0\n",
      " - ❌Crossbowmen = 0.0\n",
      " - 🔫Handcannoneers = 0.0\n",
      " - 🐎Horsemen = 0.0\n",
      " - ♞Knights = 0.0\n",
      " - 🐏Battering rams = 301.0\n",
      " - 🎯Springalds = 0.0\n",
      " - 🪨Mangonels = 0.0\n",
      "\n",
      "Resources:\n",
      " - 🌾Food = 68160.0\n",
      " - 🪵Wood = 90320.0\n",
      " - 🪙Gold = 13620.0\n"
     ]
    }
   ],
   "source": [
    "def solve_army(UNITS, DATA, RESOURCES):\n",
    "    \n",
    "    # Create the linear solver using the CBC backend\n",
    "    solver = pywraplp.Solver('Minimize resource consumption', pywraplp.Solver.CBC_MIXED_INTEGER_PROGRAMMING)\n",
    "\n",
    "    # 1. Create the variables we want to optimize\n",
    "    units = [solver.IntVar(0, solver.infinity(), unit) for unit in UNITS]\n",
    "\n",
    "    # 2. Add constraints for each resource\n",
    "    solver.Add(sum((10 * DATA[u][-2] + DATA[u][-1]) * units[u] for u, _ in enumerate(units)) >= 1000001)\n",
    "\n",
    "    # Old constraints for limited resources\n",
    "    for r, _ in enumerate(RESOURCES):\n",
    "        solver.Add(sum(DATA[u][r] * units[u] for u, _ in enumerate(units)) <= RESOURCES[r])\n",
    "\n",
    "    # 3. Minimize the objective function\n",
    "    solver.Minimize(sum((DATA[u][0] + DATA[u][1] + DATA[u][2]) * units[u] for u, _ in enumerate(units)))\n",
    "\n",
    "    # Solve problem\n",
    "    status = solver.Solve()\n",
    "\n",
    "    # If an optimal solution has been found, print results\n",
    "    if status == pywraplp.Solver.OPTIMAL:\n",
    "        print('================= Solution =================')\n",
    "        print(f'Solved in {solver.wall_time():.2f} milliseconds in {solver.iterations()} iterations')\n",
    "        print()\n",
    "\n",
    "        power = sum((10 * DATA[u][-2] + DATA[u][-1]) * units[u].solution_value() for u, _ in enumerate(units))\n",
    "        print(f'Optimal value = {solver.Objective().Value()} 🌾🪵🪙resources')\n",
    "        print(f'Power = 💪{power}')\n",
    "        print('Army:')\n",
    "        for u, _ in enumerate(units):\n",
    "            print(f' - {units[u].name()} = {units[u].solution_value()}')\n",
    "        print()\n",
    "\n",
    "        food = sum((DATA[u][0]) * units[u].solution_value() for u, _ in enumerate(units))\n",
    "        wood = sum((DATA[u][1]) * units[u].solution_value() for u, _ in enumerate(units))\n",
    "        gold = sum((DATA[u][2]) * units[u].solution_value() for u, _ in enumerate(units))\n",
    "        print('Resources:')\n",
    "        print(f' - 🌾Food = {food}')\n",
    "        print(f' - 🪵Wood = {wood}')\n",
    "        print(f' - 🪙Gold = {gold}')\n",
    "    else:\n",
    "        print('The solver could not find an optimal solution.')\n",
    "\n",
    "solve_army(UNITS, DATA, RESOURCES)"
   ]
  },
  {
   "cell_type": "code",
   "execution_count": null,
   "id": "c4dea4f9",
   "metadata": {},
   "outputs": [],
   "source": []
  }
 ],
 "metadata": {
  "kernelspec": {
   "display_name": "Python 3 (ipykernel)",
   "language": "python",
   "name": "python3"
  },
  "language_info": {
   "codemirror_mode": {
    "name": "ipython",
    "version": 3
   },
   "file_extension": ".py",
   "mimetype": "text/x-python",
   "name": "python",
   "nbconvert_exporter": "python",
   "pygments_lexer": "ipython3",
   "version": "3.11.4"
  }
 },
 "nbformat": 4,
 "nbformat_minor": 5
}
